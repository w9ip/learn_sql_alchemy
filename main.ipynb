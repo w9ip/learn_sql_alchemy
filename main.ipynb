{
 "cells": [
  {
   "cell_type": "markdown",
   "id": "63e466dd",
   "metadata": {},
   "source": [
    "**Проверка версии:**"
   ]
  },
  {
   "cell_type": "code",
   "execution_count": 1,
   "id": "7f5c71e2",
   "metadata": {},
   "outputs": [
    {
     "data": {
      "text/plain": [
       "'2.0.19'"
      ]
     },
     "execution_count": 1,
     "metadata": {},
     "output_type": "execute_result"
    }
   ],
   "source": [
    "import sqlalchemy\n",
    "sqlalchemy.__version__"
   ]
  },
  {
   "cell_type": "markdown",
   "id": "e724b234",
   "metadata": {},
   "source": [
    "Любое приложение SQLAlchemy начинается с создания движка ([объекта Engine](https://docs.sqlalchemy.org/en/20/tutorial/engine.html#establishing-connectivity-the-engine))."
   ]
  },
  {
   "cell_type": "code",
   "execution_count": 2,
   "id": "e5445853",
   "metadata": {},
   "outputs": [],
   "source": [
    "from sqlalchemy import create_engine\n",
    "engine = create_engine(\"postgresql+psycopg2://w9i@localhost/w9i\", echo=True)"
   ]
  },
  {
   "cell_type": "markdown",
   "id": "fa46ef8a",
   "metadata": {},
   "source": [
    "Функция `create_engine` возвращает нам объект `Engine`.\n",
    "\n",
    "Объект `Engine` в свою очередь предоставляет нам единицу соединения с БД, называемую [`Connection`](https://docs.sqlalchemy.org/en/20/core/connections.html#sqlalchemy.engine.Connection).\n",
    "\n",
    "Объект `Connection` *приобретается* путем вызова `Engine.connect()`.\n",
    "\n",
    "`Connection` предоставляет нам возможность выполнять SQL-запросы, а также управлять транзакциями.\n",
    "\n",
    "Объект `Connection` представляет собой одно DBAPI-соединение, извлеченное из пула соединений. Для правильного управления пулом соединений необходимо возвращать соединения в пул (т.е. `Connection.close()`) каждый раз, когда соединение не используется.\n",
    "\n",
    "Поэтому мы будем создавать соединение в контекст менеджере."
   ]
  },
  {
   "cell_type": "code",
   "execution_count": 3,
   "id": "f9e6232b",
   "metadata": {},
   "outputs": [
    {
     "name": "stdout",
     "output_type": "stream",
     "text": [
      "2023-07-18 12:19:16,338 INFO sqlalchemy.engine.Engine select pg_catalog.version()\n",
      "2023-07-18 12:19:16,339 INFO sqlalchemy.engine.Engine [raw sql] {}\n",
      "2023-07-18 12:19:16,342 INFO sqlalchemy.engine.Engine select current_schema()\n",
      "2023-07-18 12:19:16,342 INFO sqlalchemy.engine.Engine [raw sql] {}\n",
      "2023-07-18 12:19:16,343 INFO sqlalchemy.engine.Engine show standard_conforming_strings\n",
      "2023-07-18 12:19:16,343 INFO sqlalchemy.engine.Engine [raw sql] {}\n",
      "2023-07-18 12:19:16,344 INFO sqlalchemy.engine.Engine BEGIN (implicit)\n",
      "2023-07-18 12:19:16,344 INFO sqlalchemy.engine.Engine SELECT 'Hello, SQLAlchemy World!'\n",
      "2023-07-18 12:19:16,344 INFO sqlalchemy.engine.Engine [generated in 0.00036s] {}\n",
      "[('Hello, SQLAlchemy World!',)]\n",
      "2023-07-18 12:19:16,345 INFO sqlalchemy.engine.Engine ROLLBACK\n"
     ]
    }
   ],
   "source": [
    "from sqlalchemy import text\n",
    "\n",
    "with engine.connect() as conn:\n",
    "    result = conn.execute(\n",
    "        text(\"SELECT 'Hello, SQLAlchemy World!'\")\n",
    "    )\n",
    "    print(result.all())"
   ]
  },
  {
   "cell_type": "markdown",
   "id": "80f90350",
   "metadata": {},
   "source": [
    "Импортированная нами функция `text`, предоставляет нам возможность безопасно писать запросы в *стиле* `SQL`. Эта функция будет более подробно рассмотрена позже.\n",
    "\n",
    "Результат нашего `SELECT` был возвращен в объекте [Result](https://docs.sqlalchemy.org/en/20/core/connections.html#sqlalchemy.engine.Result), который будет рассмотрен позже, но пока отметим, что этот объект желательно должен использоваться внутри блока \"connect\" и не передаватся за пределы области действия нашего connection."
   ]
  },
  {
   "cell_type": "markdown",
   "id": "ea6455e6",
   "metadata": {},
   "source": [
    "Из лога, который выдает нам SQLAlchemy, благодаря флагу `echo=True`, мы можем увидеть что наши запросы **неявно** являются транзакционными, но *незакомиченными* (то есть незафиксированная транзакция).\n",
    "\n",
    "Коммитить изменения мы должны явно, используя `.commit()` на объекте `Connection`.\n",
    "\n",
    "Давайте создадим таблицу, внесем какие-то данные и закоммитим изменения."
   ]
  },
  {
   "cell_type": "code",
   "execution_count": 4,
   "id": "ff5f5ed1",
   "metadata": {},
   "outputs": [
    {
     "name": "stdout",
     "output_type": "stream",
     "text": [
      "2023-07-18 12:19:16,349 INFO sqlalchemy.engine.Engine BEGIN (implicit)\n",
      "2023-07-18 12:19:16,349 INFO sqlalchemy.engine.Engine CREATE TABLE some_table (x int, y int)\n",
      "2023-07-18 12:19:16,349 INFO sqlalchemy.engine.Engine [generated in 0.00077s] {}\n",
      "2023-07-18 12:19:16,355 INFO sqlalchemy.engine.Engine INSERT INTO some_table (x, y) VALUES (%(x)s, %(y)s)\n",
      "2023-07-18 12:19:16,355 INFO sqlalchemy.engine.Engine [generated in 0.00036s] [{'x': 1, 'y': 1}, {'x': 2, 'y': 4}]\n",
      "2023-07-18 12:19:16,356 INFO sqlalchemy.engine.Engine COMMIT\n"
     ]
    }
   ],
   "source": [
    "with engine.connect() as conn:\n",
    "    conn.execute(text(\"CREATE TABLE some_table (x int, y int)\"))  # Создаем таблицу\n",
    "    conn.execute(\n",
    "        text(\"INSERT INTO some_table (x, y) VALUES (:x, :y)\"),  # Вставка данных в таблицу\n",
    "        [{\"x\": 1, \"y\": 1}, {\"x\": 2, \"y\": 4}],                   # (параметризированный запрос).\n",
    "    )\n",
    "    conn.commit()  # Коммит изменений."
   ]
  },
  {
   "cell_type": "markdown",
   "id": "c3dcc881",
   "metadata": {},
   "source": [
    "Выше мы выполнили два SQL-оператора, которые являются траназкционными.\n",
    "\n",
    "1. Оператор `CREATE TABLE`\n",
    "2. Параметризированный оператор `INSERT`\n",
    "\n",
    "Синтаксис параметризации, будет рассмотрен ниже.\n",
    "\n",
    "Мы также закоммитили наши изменения, это означает что сейчас в БД у нас таблица `some-table` с внесенными в нее нами данными.\n",
    "\n",
    "Мы также можем продолжать писать другие запросы, и также вызывать `Connection.commit()` для последующих SQL-операторов."
   ]
  },
  {
   "cell_type": "markdown",
   "id": "13be5396",
   "metadata": {},
   "source": [
    "Существует другой способ фиксации данных, для этого мы можем заранее объявить наш блок connect блоком транзакций.\n",
    "В этом случае мы используем `Engine.begin()` а не `Engine.connect()`."
   ]
  },
  {
   "cell_type": "code",
   "execution_count": 5,
   "id": "cdce5116",
   "metadata": {},
   "outputs": [
    {
     "name": "stdout",
     "output_type": "stream",
     "text": [
      "2023-07-18 12:19:16,360 INFO sqlalchemy.engine.Engine BEGIN (implicit)\n",
      "2023-07-18 12:19:16,360 INFO sqlalchemy.engine.Engine INSERT INTO some_table (x, y) VALUES (%(x)s, %(y)s)\n",
      "2023-07-18 12:19:16,360 INFO sqlalchemy.engine.Engine [cached since 0.005541s ago] [{'x': 6, 'y': 8}, {'x': 9, 'y': 10}]\n",
      "2023-07-18 12:19:16,361 INFO sqlalchemy.engine.Engine COMMIT\n"
     ]
    }
   ],
   "source": [
    "with engine.begin() as conn:\n",
    "    conn.execute(\n",
    "        text(\"INSERT INTO some_table (x, y) VALUES (:x, :y)\"),\n",
    "        [{\"x\": 6, \"y\": 8}, {\"x\": 9, \"y\": 10}],\n",
    "    )"
   ]
  },
  {
   "cell_type": "markdown",
   "id": "d30d87a7",
   "metadata": {},
   "source": [
    "Чтобы получить резульирующие строки, мы воспользуемся SQL-оператором `SELECT`."
   ]
  },
  {
   "cell_type": "code",
   "execution_count": 6,
   "id": "b0113d66",
   "metadata": {},
   "outputs": [
    {
     "name": "stdout",
     "output_type": "stream",
     "text": [
      "2023-07-18 12:19:16,365 INFO sqlalchemy.engine.Engine BEGIN (implicit)\n",
      "2023-07-18 12:19:16,365 INFO sqlalchemy.engine.Engine SELECT x, y FROM some_table\n",
      "2023-07-18 12:19:16,365 INFO sqlalchemy.engine.Engine [generated in 0.00057s] {}\n",
      "x: 1  y: 1\n",
      "x: 2  y: 4\n",
      "x: 6  y: 8\n",
      "x: 9  y: 10\n",
      "2023-07-18 12:19:16,366 INFO sqlalchemy.engine.Engine ROLLBACK\n"
     ]
    }
   ],
   "source": [
    "with engine.connect() as conn:\n",
    "    result = conn.execute(text(\"SELECT x, y FROM some_table\"))\n",
    "    for row in result:\n",
    "        print(f\"x: {row.x}  y: {row.y}\")"
   ]
  },
  {
   "cell_type": "markdown",
   "id": "52e00428",
   "metadata": {},
   "source": [
    "Выше, были выбраны все строки из нашей таблицы. \n",
    "\n",
    "Возвращаемый объект называется `Result` и представляет собой итерируемый объект резульирующих строк.\n",
    "\n",
    "`Result` имеет множество методов для получения и преобразования резульирующих строк, например, метод `Result.all()`, показанный ранее, который возвращает список всех объектов [Row](https://docs.sqlalchemy.org/en/20/core/connections.html#sqlalchemy.engine.Row). Кроме того, в нем реализован интерфейс итератора Python, что позволяет выполнять итерации непосредственно над коллекцией объектов [Row](https://docs.sqlalchemy.org/en/20/core/connections.html#sqlalchemy.engine.Row).\n",
    "\n",
    "Сами объекты [Row](https://docs.sqlalchemy.org/en/20/core/connections.html#sqlalchemy.engine.Row) похожи на [именованные кортежи](https://docs.python.org/3/library/collections.html#collections.namedtuple) Python. \n",
    "\n",
    "Ниже мы проиллюстрируем различные способы доступа к резульирующим строкам."
   ]
  },
  {
   "cell_type": "markdown",
   "id": "5b47a759",
   "metadata": {},
   "source": [
    "```python\n",
    "# Tuple Assignment :)\n",
    "result = conn.execute(text(\"select x, y from some_table\"))\n",
    "\n",
    "for x, y in result:\n",
    "    ...\n",
    "\n",
    "\n",
    "# извлечение по индексу\n",
    "result = conn.execute(text(\"select x, y from some_table\"))\n",
    "\n",
    "for row in result:\n",
    "    x = row[0]\n",
    "\n",
    "\n",
    "# извлечение по атрибуту\n",
    "result = conn.execute(text(\"select x, y from some_table\"))\n",
    "\n",
    "for row in result:\n",
    "    y = row.y\n",
    "\n",
    "    print(f\"Row: {row.x} {y}\")\n",
    "\n",
    "\n",
    "# Mapping Access\n",
    "result = conn.execute(text(\"select x, y from some_table\"))\n",
    "\n",
    "for dict_row in result.mappings():\n",
    "    x = dict_row[\"x\"]\n",
    "    y = dict_row[\"y\"]\n",
    "```"
   ]
  },
  {
   "cell_type": "markdown",
   "id": "9d6abd4c",
   "metadata": {},
   "source": [
    "Наконец-то параметризированные запросы.\n",
    "\n",
    "В наших SQL запросах мы каким-то образом должны передавать данные. \n",
    "`Connection.execute()` умеет принимать параметры, которые называются [связанные параметры](https://docs.sqlalchemy.org/en/20/glossary.html#term-bound-parameters).\n",
    "\n",
    "К примеру мы хотим отфильтровать результирующий вывод с помощью ключевого слова `WHERE`.А именно, чтобы в результате вывелись строки, в которых значение колонки `y` больше 2.\n",
    "\n",
    "Конструкция `text()` принимает наш параметр с ведущим двоеточием `:y`, а фактическое значение параметра передается в качестве словаря, вторым аргументом в `Connection.execute()`.\n",
    "\n",
    "В примере ниже вместо `:y` подставляется число `2`."
   ]
  },
  {
   "cell_type": "code",
   "execution_count": 7,
   "id": "79a024cd",
   "metadata": {},
   "outputs": [
    {
     "name": "stdout",
     "output_type": "stream",
     "text": [
      "2023-07-18 12:19:16,370 INFO sqlalchemy.engine.Engine BEGIN (implicit)\n",
      "2023-07-18 12:19:16,370 INFO sqlalchemy.engine.Engine SELECT x, y FROM some_table WHERE y > %(y)s\n",
      "2023-07-18 12:19:16,370 INFO sqlalchemy.engine.Engine [generated in 0.00064s] {'y': 2}\n",
      "x: 2  y: 4\n",
      "x: 6  y: 8\n",
      "x: 9  y: 10\n",
      "2023-07-18 12:19:16,371 INFO sqlalchemy.engine.Engine ROLLBACK\n"
     ]
    }
   ],
   "source": [
    "with engine.connect() as conn:\n",
    "    result = conn.execute(text(\"SELECT x, y FROM some_table WHERE y > :y\"), {\"y\": 2})\n",
    "    for row in result:\n",
    "        print(f\"x: {row.x}  y: {row.y}\")"
   ]
  },
  {
   "cell_type": "markdown",
   "id": "873a92f6",
   "metadata": {},
   "source": [
    "**Передача нескольких параметров.**\n",
    "\n",
    "В примерах выше, когда мы разбирали фиксацию (коммит) транзакций, мы выполняли оператор `INSERT`, в котором, как оказалось, можно было одновременно вводить в базу данных несколько строк. Для DML-операторов, таких как `\"INSERT\"`, `\"UPDATE\"` и `\"DELETE\"`, мы можем передать **несколько наборов параметров** в метод `Connection.execute()`, передав список словарей вместо одного словаря, в данном случае, один SQL-оператор будет вызван несколько раз, по одному разу для каждого набора параметров. Такой стиль выполнения известен как [executemany](https://docs.sqlalchemy.org/en/20/glossary.html#term-executemany):"
   ]
  },
  {
   "cell_type": "code",
   "execution_count": 8,
   "id": "e2f724ed",
   "metadata": {},
   "outputs": [
    {
     "name": "stdout",
     "output_type": "stream",
     "text": [
      "2023-07-18 12:19:16,375 INFO sqlalchemy.engine.Engine BEGIN (implicit)\n",
      "2023-07-18 12:19:16,375 INFO sqlalchemy.engine.Engine INSERT INTO some_table (x, y) VALUES (%(x)s, %(y)s)\n",
      "2023-07-18 12:19:16,375 INFO sqlalchemy.engine.Engine [cached since 0.0202s ago] [{'x': 11, 'y': 12}, {'x': 13, 'y': 14}]\n",
      "2023-07-18 12:19:16,376 INFO sqlalchemy.engine.Engine COMMIT\n"
     ]
    }
   ],
   "source": [
    "with engine.connect() as conn:\n",
    "    conn.execute(\n",
    "        text(\"INSERT INTO some_table (x, y) VALUES (:x, :y)\"),\n",
    "        [{\"x\": 11, \"y\": 12}, {\"x\": 13, \"y\": 14}],\n",
    "    )\n",
    "    conn.commit()"
   ]
  },
  {
   "cell_type": "markdown",
   "id": "895dbd87",
   "metadata": {},
   "source": [
    "Ключевое различие между `\"execute\"` и `\"executemany\"` заключается в том, что последний не поддерживает возврат результриующих строк, даже если в операторе присутствует предложение `RETURNING`. Единственным исключением является использование конструкции Core [insert()](https://docs.sqlalchemy.org/en/20/core/dml.html#sqlalchemy.sql.expression.insert), представленной далее в этом учебном пособии в разделе [\"Использование утверждений INSERT\"](https://docs.sqlalchemy.org/en/20/tutorial/data_insert.html#tutorial-core-insert), которая также указывает на возврат с помощью метода [Insert.returning()](https://docs.sqlalchemy.org/en/20/core/dml.html#sqlalchemy.sql.expression.Insert.returning). В этом случае SQLAlchemy использует специальную логику для реорганизации оператора `INSERT` таким образом, что он может быть вызван для многих строк и при этом поддерживать `RETURNING`."
   ]
  },
  {
   "cell_type": "markdown",
   "id": "564e064d",
   "metadata": {},
   "source": [
    "### Executing with an ORM Session\n",
    "\n",
    "Большинство примеров вывше также применимы и к ORM части SQLAlchemy.\n",
    "\n",
    "Здесь мы представим совместное использование Core и ORM.\n",
    "\n",
    "Фундаментальным объектом для транзакций/подключений/интерактивности к БД при использовании ORM называется [Session](https://docs.sqlalchemy.org/en/20/orm/session_api.html#sqlalchemy.orm.Session).\n",
    "\n",
    "В современном SQLAlchemy этот объект используется также, как и `Connection`, на самом деле при использовании `Session` он внутренне ссылается на `Connection`.\n",
    "\n",
    "Когда `Session` используется в конструкциях, не относящихся к ORM, то это фактически ничем не отличается от того, что делает `Connection`. Мы проиллюстрируем данное описание на примере ниже, в простых SQL-операциях с `text()`, которые мы изучили.\n",
    "\n",
    "`Session` имеет много различных шаблонов создания, но здесь мы проиллюстрируем самый простой, который в точности соответствует тому, как мы бы использовали `Connection` в менеджере контекста."
   ]
  },
  {
   "cell_type": "code",
   "execution_count": 9,
   "id": "c3cb52ad",
   "metadata": {},
   "outputs": [
    {
     "name": "stdout",
     "output_type": "stream",
     "text": [
      "2023-07-18 12:19:16,436 INFO sqlalchemy.engine.Engine BEGIN (implicit)\n",
      "2023-07-18 12:19:16,437 INFO sqlalchemy.engine.Engine SELECT x, y FROM some_table WHERE y > %(y)s ORDER BY x, y\n",
      "2023-07-18 12:19:16,437 INFO sqlalchemy.engine.Engine [generated in 0.00021s] {'y': 6}\n",
      "x: 6  y: 8\n",
      "x: 9  y: 10\n",
      "x: 11  y: 12\n",
      "x: 13  y: 14\n",
      "2023-07-18 12:19:16,438 INFO sqlalchemy.engine.Engine ROLLBACK\n"
     ]
    }
   ],
   "source": [
    "from sqlalchemy.orm import Session\n",
    "\n",
    "stmt = text(\"SELECT x, y FROM some_table WHERE y > :y ORDER BY x, y\")\n",
    "with Session(engine) as session:\n",
    "    result = session.execute(stmt, {\"y\": 6})\n",
    "    for row in result:\n",
    "        print(f\"x: {row.x}  y: {row.y}\")"
   ]
  },
  {
   "cell_type": "markdown",
   "id": "3c966d9e",
   "metadata": {},
   "source": [
    "Обратите внимение, что `Session` принимает в качестве параметра, `engine`, здесь фактически происходит тоже самое, что и при `Connection.connect()`.\n",
    "\n",
    "Кроме прочего, `Session`, как и `Connection`, имеет возможность фиксировать данные с помощью `Session.commit()`, что показано ниже на примере SQL-оператора `UPDATE`."
   ]
  },
  {
   "cell_type": "code",
   "execution_count": 10,
   "id": "14108c99",
   "metadata": {},
   "outputs": [
    {
     "name": "stdout",
     "output_type": "stream",
     "text": [
      "2023-07-18 12:19:16,442 INFO sqlalchemy.engine.Engine BEGIN (implicit)\n",
      "2023-07-18 12:19:16,442 INFO sqlalchemy.engine.Engine UPDATE some_table SET y=%(y)s WHERE x=%(x)s\n",
      "2023-07-18 12:19:16,443 INFO sqlalchemy.engine.Engine [generated in 0.00028s] [{'y': 11, 'x': 9}, {'y': 15, 'x': 13}]\n",
      "2023-07-18 12:19:16,444 INFO sqlalchemy.engine.Engine COMMIT\n"
     ]
    }
   ],
   "source": [
    "with Session(engine) as session:\n",
    "    result = session.execute(\n",
    "        text(\"UPDATE some_table SET y=:y WHERE x=:x\"),\n",
    "        [{\"x\": 9, \"y\": 11}, {\"x\": 13, \"y\": 15}],\n",
    "    )\n",
    "    session.commit()"
   ]
  },
  {
   "cell_type": "markdown",
   "id": "e7718826",
   "metadata": {},
   "source": [
    "`Session` не удерживает объект `Connection` после завршения транзакции. Она получает новое соединение от движка каждый раз, когда ей требуется выпонить SQL-запрос."
   ]
  },
  {
   "cell_type": "markdown",
   "id": "aa1daaeb",
   "metadata": {},
   "source": [
    "### Работа с метаданными БД.\n",
    "\n",
    "\n",
    "Центральным элементом Core и ORM, является язык SQL, который позволяет свободно строить SQL-запросы. Основой для этих запросов в связыке c SQLAlchemy являются *объекты Python*, которые  описывают таблицы и столбцы. Эти объекты в совокупности называются [метаданными БД](https://docs.sqlalchemy.org/en/20/glossary.html#term-database-metadata). \n",
    "\n",
    "Формально, термин *метаданные* **обычно означает данные** **которые описывают другие данные**. В SQLAlchemy термин `метаданные`, относится к конструкции [`MetaData`](https://docs.sqlalchemy.org/en/20/core/metadata.html#sqlalchemy.schema.MetaData), который представляет собой набор нформации о таблицах, столбцах, констрейнтах и других объектах DDL, которые могут описывать какую-то таблицу и существовать в БД.\n",
    "\n",
    "Наиболее распространенными, фундаментальными объектами для метаданных БД в SQLAlchemy являются `MetaData`, `Table`, `Column`.\n",
    "\n",
    "Ниже будет показано как эти объекты используются как в Core-ориентированном, так и ORM-ориентированном стиле.\n",
    "\n",
    "В SQLAlchemy `таблицу` базы данных представляет/описывает объект который называется [Table](https://docs.sqlalchemy.org/en/20/core/metadata.html#sqlalchemy.schema.Table).\n",
    "\n",
    "Перед тем как начать пользоваться `языком выраженый SQLAlchemy`, необходимо создать объекты `Table`, представляющие/описывающие таблицы БД, с которыми мы хотим работать. Объекты `Table`, создается либо с помощью `конструктора Table`, либо с помощью `ORM Mapped`. Существует также возможность загрузки информации о существующей таблице в БД, что называется [reflection](https://docs.sqlalchemy.org/en/20/glossary.html#term-reflection).\n",
    "\n",
    "Какой бы подход ни использовался, мы всегда начинаем с коллекции, в которой будут размещаться наши таблицы, называемой объектом `MetaData`. Этот объект, по сути является оберткой/[facade](https://docs.sqlalchemy.org/en/20/glossary.html#term-facade) словаря Python,  в котором хранится ряд объектов `Table`, с ключом в виде их строкового имени. Хотя ORM предоставляет несколько вариантов, где можно получить эту коллекцию... у нас всегда есть возможность создать ее напрямую:"
   ]
  },
  {
   "cell_type": "code",
   "execution_count": 11,
   "id": "e9e10690",
   "metadata": {},
   "outputs": [],
   "source": [
    "from sqlalchemy import MetaData\n",
    "metadata_obj = MetaData()"
   ]
  },
  {
   "cell_type": "markdown",
   "id": "de0437dc",
   "metadata": {},
   "source": [
    "После того как у нас есть объект `MetaData`, мы можем объявить несколько объектов `Table`.\n",
    "\n",
    "Опишем классическую модель, в которой есть таблица `user_account`, хранящая к примеру пользователей веб-сайта, и связанная с ней таблица `address`, хранящая адреса электронной почти, связанные со строками в таблице `user_account`.\n",
    "\n",
    "Когда мы не используем `декларативные модели ORM`, то мы создаем каждый объект `Table` присваивая его переменной, которя в свою очередь будет ссылаться на таблице в коде приложения."
   ]
  },
  {
   "cell_type": "code",
   "execution_count": 12,
   "id": "9fa656d6",
   "metadata": {},
   "outputs": [],
   "source": [
    "from sqlalchemy import Table, Column, Integer, String\n",
    "user_table = Table(\n",
    "    \"user_account\",\n",
    "    metadata_obj,\n",
    "    Column(\"id\", Integer, primary_key=True),\n",
    "    Column(\"name\", String(30)),\n",
    "    Column(\"fullname\", String),\n",
    ")"
   ]
  },
  {
   "cell_type": "markdown",
   "id": "aa0daa81",
   "metadata": {},
   "source": [
    "В приведенном выше примере, когда мы захотим обратиться к таблице `user_account` в БД, мы будем использовать Python-переменную `user_table`.\n",
    "\n",
    "Можно заметить, что конструкция `Table`, похожа на SQL-выражение `CREATE TABLE`. Мы начинаем с имени таблицы, затем перечисляем все столбцы и их типы.\n",
    "\n",
    "`Column` - представляет собой столбец таблицы базы данных и присваивается объекту `Table`. `Column` обычно включает в себя строковое имя и объект типа. Доступ к коллекции объектов `Column` в терминах родительской таблицы обычно осуществляется через ассоциативный массив, расположенный по адресу `Table.c`:"
   ]
  },
  {
   "cell_type": "code",
   "execution_count": 13,
   "id": "8f9cd889",
   "metadata": {},
   "outputs": [
    {
     "data": {
      "text/plain": [
       "['id', 'name', 'fullname']"
      ]
     },
     "execution_count": 13,
     "metadata": {},
     "output_type": "execute_result"
    }
   ],
   "source": [
    "user_table.c.keys()"
   ]
  },
  {
   "cell_type": "code",
   "execution_count": 14,
   "id": "1d7ef5e0",
   "metadata": {},
   "outputs": [
    {
     "data": {
      "text/plain": [
       "Column('name', String(length=30), table=<user_account>)"
      ]
     },
     "execution_count": 14,
     "metadata": {},
     "output_type": "execute_result"
    }
   ],
   "source": [
    "user_table.c.name"
   ]
  },
  {
   "cell_type": "markdown",
   "id": "6800ffa4",
   "metadata": {},
   "source": [
    "`Integer`, `String` - эти классы представляют типы данных SQL и могут быть переданы в `Column` как с инстанцированием, так и без него. Выше мы хотели задать столбцу \"`name`\" длину \"30\", поэтому инстанцировали `String(30)`. Но для \"`id`\" и \"`fullname`\" мы их не указывали, поэтому можем передать сам класс."
   ]
  },
  {
   "cell_type": "markdown",
   "id": "e7cb411f",
   "metadata": {},
   "source": [
    "Теперь нам нужно создать вторую таблицу, которая будет иметь констрейнт `ForeignKey`:"
   ]
  },
  {
   "cell_type": "code",
   "execution_count": 15,
   "id": "63c00a6f",
   "metadata": {},
   "outputs": [],
   "source": [
    "from sqlalchemy import ForeignKey\n",
    "address_table = Table(\n",
    "    \"address\",\n",
    "    metadata_obj,\n",
    "    Column(\"id\", Integer, primary_key=True),\n",
    "    Column(\"user_id\", ForeignKey(\"user_account.id\"), nullable=False),\n",
    "    Column(\"email_address\", String, nullable=False),\n",
    ")"
   ]
  },
  {
   "cell_type": "markdown",
   "id": "5081dfb3",
   "metadata": {},
   "source": [
    "В приведеннем выше примере также в столбце, которая является внешним ключом, мы указали `nullable=False` что эквивалентно `NOT NULL`.\n",
    "\n",
    "При использовании объекта `ForeignKey` в определении столбца можно не указывать тип данных для этого столбца; он автоматически подставляется из типа данных связанного столбца, в приведенном выше примере - типа `Integer` столбца `user_account.id`.\n",
    "\n",
    "В следующем разделе мы выдадим готовый DDL для таблицы пользователей и адресов, чтобы увидеть готовый результат.\n"
   ]
  },
  {
   "cell_type": "markdown",
   "id": "f0773b41",
   "metadata": {},
   "source": [
    "Мы построили объектную структуру, представляющую две таблицы в базе данных, начиная с корневого объекта `MetaData` и заканчивая двумя объектами `Table`, каждый из которых содержит коллекцию объектов `Column` и [Constraint](https://docs.sqlalchemy.org/en/20/core/constraints.html#sqlalchemy.schema.Constraint). Эта объектная структура будет в центре большинства операций, выполняемых нами в Core и ORM в дальнейшем.\n",
    "\n",
    "Первое, что мы можем сделать с помощью этой структуры, - это выполнить операторы `CREATE TABLE`, или DDL, для нашей базы данных, чтобы мы могли вставлять и запрашивать данные из них. \n",
    "\n",
    "У нас уже есть все необходимые для этого инструменты: мы вызываем метод `MetaData.create_all()` для наших `MetaData`, передавая им `Engine`, который ссылается на целевую базу данных:"
   ]
  },
  {
   "cell_type": "code",
   "execution_count": 16,
   "id": "1787e369",
   "metadata": {},
   "outputs": [
    {
     "name": "stdout",
     "output_type": "stream",
     "text": [
      "2023-07-18 12:19:16,466 INFO sqlalchemy.engine.Engine BEGIN (implicit)\n",
      "2023-07-18 12:19:16,468 INFO sqlalchemy.engine.Engine SELECT pg_catalog.pg_class.relname \n",
      "FROM pg_catalog.pg_class JOIN pg_catalog.pg_namespace ON pg_catalog.pg_namespace.oid = pg_catalog.pg_class.relnamespace \n",
      "WHERE pg_catalog.pg_class.relname = %(table_name)s AND pg_catalog.pg_class.relkind = ANY (ARRAY[%(param_1)s, %(param_2)s, %(param_3)s, %(param_4)s, %(param_5)s]) AND pg_catalog.pg_table_is_visible(pg_catalog.pg_class.oid) AND pg_catalog.pg_namespace.nspname != %(nspname_1)s\n",
      "2023-07-18 12:19:16,468 INFO sqlalchemy.engine.Engine [generated in 0.00033s] {'table_name': 'user_account', 'param_1': 'r', 'param_2': 'p', 'param_3': 'f', 'param_4': 'v', 'param_5': 'm', 'nspname_1': 'pg_catalog'}\n",
      "2023-07-18 12:19:16,470 INFO sqlalchemy.engine.Engine SELECT pg_catalog.pg_class.relname \n",
      "FROM pg_catalog.pg_class JOIN pg_catalog.pg_namespace ON pg_catalog.pg_namespace.oid = pg_catalog.pg_class.relnamespace \n",
      "WHERE pg_catalog.pg_class.relname = %(table_name)s AND pg_catalog.pg_class.relkind = ANY (ARRAY[%(param_1)s, %(param_2)s, %(param_3)s, %(param_4)s, %(param_5)s]) AND pg_catalog.pg_table_is_visible(pg_catalog.pg_class.oid) AND pg_catalog.pg_namespace.nspname != %(nspname_1)s\n",
      "2023-07-18 12:19:16,471 INFO sqlalchemy.engine.Engine [cached since 0.003116s ago] {'table_name': 'address', 'param_1': 'r', 'param_2': 'p', 'param_3': 'f', 'param_4': 'v', 'param_5': 'm', 'nspname_1': 'pg_catalog'}\n",
      "2023-07-18 12:19:16,471 INFO sqlalchemy.engine.Engine \n",
      "CREATE TABLE user_account (\n",
      "\tid SERIAL NOT NULL, \n",
      "\tname VARCHAR(30), \n",
      "\tfullname VARCHAR, \n",
      "\tPRIMARY KEY (id)\n",
      ")\n",
      "\n",
      "\n",
      "2023-07-18 12:19:16,472 INFO sqlalchemy.engine.Engine [no key 0.00018s] {}\n",
      "2023-07-18 12:19:16,477 INFO sqlalchemy.engine.Engine \n",
      "CREATE TABLE address (\n",
      "\tid SERIAL NOT NULL, \n",
      "\tuser_id INTEGER NOT NULL, \n",
      "\temail_address VARCHAR NOT NULL, \n",
      "\tPRIMARY KEY (id), \n",
      "\tFOREIGN KEY(user_id) REFERENCES user_account (id)\n",
      ")\n",
      "\n",
      "\n",
      "2023-07-18 12:19:16,477 INFO sqlalchemy.engine.Engine [no key 0.00035s] {}\n",
      "2023-07-18 12:19:16,481 INFO sqlalchemy.engine.Engine COMMIT\n"
     ]
    }
   ],
   "source": [
    "metadata_obj.create_all(engine)"
   ]
  },
  {
   "cell_type": "markdown",
   "id": "c2b04654",
   "metadata": {},
   "source": [
    "Приведенный выше процесс создания DDL включает несколько специфических операторов, которые проверяют существование каждой таблицы перед выполнением `CREATE`. Вся серия шагов также включена в пару `BEGIN/COMMIT`, что позволяет использовать транзакционный DDL.\n",
    "\n",
    "Процесс создания также заботится о том, чтобы операторы `CREATE` выполнялись в правильном порядке; выше ограничение `FOREIGN KEY` зависит от существования таблицы `user`, поэтому таблица `address` создается **второй**. В более сложных сценариях зависимостей ограничения `FOREIGN KEY` могут также применяться к таблицам постфактум с помощью `ALTER`.\n",
    "\n",
    "В объекте `MetaData` также имеется метод `MetaData.drop_all()`, который для удаления элементов схемы будет выдавать операторы `DROP` в обратном порядке, чем при выдаче `CREATE`."
   ]
  },
  {
   "cell_type": "markdown",
   "id": "fd667dda",
   "metadata": {},
   "source": [
    "Использование `декларативных форм ORM` для определения метаданных таблицы.\n",
    "\n",
    "Другой способ создания объектов `Table`?"
   ]
  },
  {
   "cell_type": "markdown",
   "id": "a6ac6846",
   "metadata": {},
   "source": [
    "В предыдущих примерах было показано прямое использование объекта `Table`, который лежит в основе того, как SQLAlchemy в конечном итоге обращается к таблицам базы данных при построении SQL-выражений. Как уже упоминалось, в SQLAlchemy ORM предусмотрен фасад, позволяющий обойти процесс объявления `Table`, называемый **Declarative Table**. Процесс Declarative `Table` достигает той же цели, что и в предыдущем разделе, - создание объектов `Table`, но в рамках этого процесса дает нам нечто иное, называемое [ORM mapped class](https://docs.sqlalchemy.org/en/20/glossary.html#term-ORM-mapped-class), или просто \"`mapped class`\". Сопоставленный класс является наиболее распространенной основополагающей единицей SQL при использовании ORM, а в современной SQLAlchemy может также достаточно эффективно применяться и в Core-ориентированном использовании.\n",
    "\n",
    "К числу преимуществ использования декларативной таблицы относятся:\n",
    "\n",
    "- Более лаконичный и питонический стиль задания определений столбцов, где типы Python могут использоваться для представления типов SQL, используемых в базе данных\n",
    "\n",
    "- Результирующий сопоставленный класс может быть использован для формирования SQL-выражений, которые во многих случаях поддерживают информацию о типизации, предусмотренную [PEP 484](https://peps.python.org/pep-0484/), которая учитывается средствами статического анализа, такими как Mypy, и средствами проверки типов IDE.\n",
    "\n",
    "- Позволяет одновременно объявлять метаданные таблицы и ORM mapped class, используемый в операциях сохранения/загрузки объектов.\n",
    "\n",
    "В этом разделе будет показано, как метаданные таблицы, описанные в предыдущих разделах, создаются с помощью Declarative Table."
   ]
  },
  {
   "cell_type": "markdown",
   "id": "e108559e",
   "metadata": {},
   "source": [
    "При использовании ORM, процесс объявления метаданных таблицы совмещается с процессом объявления `ORM mapped class`.\n",
    "\n",
    "`ORM mapped class` - это по сути любой класс Python, содержащий атрибуты связанные колонками таблицы БД.\n",
    "\n",
    "Хотя существует несколько видов этого процесса, наиболее рапространенный стиль известен как **декларативный**, что позволяет нам одновременно объявлять пользовательские классы и метаданные таблцы."
   ]
  },
  {
   "cell_type": "markdown",
   "id": "289a8b57",
   "metadata": {},
   "source": [
    "Создание декларативной базы.\n",
    "\n",
    "При использовании ORM, коллекция `MetaData` сохраняется, однако сама она ассоциируется с конструкцией предназначенной только для ORM и называемой декларативной базой (Declarative Base). Наиболее целесообразным способом получения новой декларативной базы является создание нового класса, который является подклассом класса Declarative Base."
   ]
  },
  {
   "cell_type": "code",
   "execution_count": 17,
   "id": "ef03974e",
   "metadata": {},
   "outputs": [],
   "source": [
    "from sqlalchemy.orm import DeclarativeBase\n",
    "class Base(DeclarativeBase):\n",
    "    pass"
   ]
  },
  {
   "cell_type": "markdown",
   "id": "e05012d4",
   "metadata": {},
   "source": [
    "Выше мы создали класс `Base`, который мы будем называть `Declarative Base`. Когда мы создаем новые классы являющиеся подклассом `Base`, каждый из них будет создат как новый `маппед класс ORM`, каждый из которых обычно ссылается на определенный объект `Table`.\n",
    "\n",
    "Декларативная база ссылается на коллекцию `MetaData`, которая создается для нас автоматически, если мы не предоставили ее извне. Доступ к этой коллекции `MetaData` осуществляется через атрибут уровня класса [DeclarativeBase.metadata](https://docs.sqlalchemy.org/en/20/orm/mapping_api.html#sqlalchemy.orm.DeclarativeBase.metadata). При создании новых отображаемых классов каждый из них будет ссылаться на таблицу в этой коллекции `MetaData`:"
   ]
  },
  {
   "cell_type": "code",
   "execution_count": 18,
   "id": "7bb41e70",
   "metadata": {},
   "outputs": [
    {
     "data": {
      "text/plain": [
       "MetaData()"
      ]
     },
     "execution_count": 18,
     "metadata": {},
     "output_type": "execute_result"
    }
   ],
   "source": [
    "Base.metadata"
   ]
  },
  {
   "cell_type": "markdown",
   "id": "f81edcd7",
   "metadata": {},
   "source": [
    "Декларативная база также ссылается на коллекцию под названием [registry](https://docs.sqlalchemy.org/en/20/orm/mapping_api.html#sqlalchemy.orm.registry), которая является центральной единицей \"`mapper configuration`\" в SQLAlchemy ORM. Хотя к этому объекту редко обращаются напрямую, он занимает центральное место в процессе `mapper configuration`, поскольку набор отображаемых классов ORM будет координироваться друг с другом через этот [registry](https://docs.sqlalchemy.org/en/20/orm/mapping_api.html#sqlalchemy.orm.registry). Как и в случае с `MetaData`, наша декларативная база также создала для нас реестр (опять же с возможностью передачи собственного [реестра](https://docs.sqlalchemy.org/en/20/orm/mapping_api.html#sqlalchemy.orm.registry)), доступ к которому мы можем получить через переменную класса [DeclarativeBase.registry](https://docs.sqlalchemy.org/en/20/orm/mapping_api.html#sqlalchemy.orm.DeclarativeBase.registry):"
   ]
  },
  {
   "cell_type": "code",
   "execution_count": 19,
   "id": "be7e214f",
   "metadata": {},
   "outputs": [
    {
     "data": {
      "text/plain": [
       "<sqlalchemy.orm.decl_api.registry at 0x1092b2c10>"
      ]
     },
     "execution_count": 19,
     "metadata": {},
     "output_type": "execute_result"
    }
   ],
   "source": [
    "Base.registry"
   ]
  },
  {
   "cell_type": "markdown",
   "id": "4fbba483",
   "metadata": {},
   "source": [
    "[DeclarativeBase](https://docs.sqlalchemy.org/en/20/orm/mapping_api.html#sqlalchemy.orm.DeclarativeBase) - это не единственный способ отображения классов, а только самый распространенный. В [registry](https://docs.sqlalchemy.org/en/20/orm/mapping_api.html#sqlalchemy.orm.registry) представлены и другие конфигурационные паттерны отображения, включая декораторно-ориентированный и императивный способы отображения классов. Также имеется полная поддержка создания Python-классов данных при отображении. Все это можно найти в справочной документации по конфигурации [отображаемых классов в ORM](https://docs.sqlalchemy.org/en/20/orm/mapper_config.html).\n",
    "\n"
   ]
  },
  {
   "cell_type": "markdown",
   "id": "00d7ed0d",
   "metadata": {},
   "source": [
    "Объявление `mapped classes`/`отображаемых классов`/`классов сопоставления`/`маппируемых классов`.\n",
    "\n",
    "Теперь, когда класс `Base` создан, мы можем определить `ORM-маппируемые классы` для таблиц `user_account` и `address` в терминах новых классов `User` и `Address`. Ниже мы проиллюстрируем наиболее современную форму `Declarative`, которая основана на аннотациях типов [PEP 484](https://peps.python.org/pep-0484/) с использованием специального типа `Mapped`, указывающего на атрибуты, которые должны быть отображены как определенные типы:"
   ]
  },
  {
   "cell_type": "code",
   "execution_count": 20,
   "id": "247be97b",
   "metadata": {},
   "outputs": [],
   "source": [
    "from typing import List\n",
    "from typing import Optional\n",
    "from sqlalchemy.orm import Mapped\n",
    "from sqlalchemy.orm import mapped_column\n",
    "from sqlalchemy.orm import relationship\n",
    "\n",
    "class User(Base):\n",
    "    __tablename__ = \"user_account\"\n",
    "    id: Mapped[int] = mapped_column(primary_key=True)\n",
    "    name: Mapped[str] = mapped_column(String(30))\n",
    "    fullname: Mapped[Optional[str]]\n",
    "    addresses: Mapped[List[\"Address\"]] = relationship(back_populates=\"user\")\n",
    "    def __repr__(self) -> str:\n",
    "        return f\"User(id={self.id!r}, name={self.name!r}, fullname={self.fullname!r})\"\n",
    "\n",
    "class Address(Base):\n",
    "    __tablename__ = \"address\"\n",
    "    id: Mapped[int] = mapped_column(primary_key=True)\n",
    "    email_address: Mapped[str]\n",
    "    user_id = mapped_column(ForeignKey(\"user_account.id\"))\n",
    "    user: Mapped[User] = relationship(back_populates=\"addresses\")\n",
    "    def __repr__(self) -> str:\n",
    "        return f\"Address(id={self.id!r}, email_address={self.email_address!r})\""
   ]
  },
  {
   "cell_type": "code",
   "execution_count": null,
   "id": "5d157f9b",
   "metadata": {},
   "outputs": [],
   "source": [
    "from typing import List\n",
    "from typing import Optional\n",
    "from sqlalchemy.orm import Mapped\n",
    "from sqlalchemy.orm import mapped_column\n",
    "from sqlalchemy.orm import relationship\n",
    "\n",
    "class User(Base):\n",
    "    __tablename__ = \"user_account\"\n",
    "    id: Mapped[int] = mapped_column(primary_key=True)\n",
    "    name: Mapped[str] = mapped_column(String(30))\n",
    "    fullname: Mapped[Optional[str]]\n",
    "    addresses: Mapped[List[\"Address\"]] = relationship(back_populates=\"user\")\n",
    "    def __repr__(self) -> str:\n",
    "        return f\"User(id={self.id!r}, name={self.name!r}, fullname={self.fullname!r})\"\n",
    "\n",
    "class Address(Base):\n",
    "    __tablename__ = \"address\"\n",
    "    id: Mapped[int] = mapped_column(primary_key=True)\n",
    "    email_address: Mapped[str]\n",
    "    user_id = mapped_column(ForeignKey(\"user_account.id\"))\n",
    "    user: Mapped[User] = relationship(back_populates=\"addresses\")\n",
    "    def __repr__(self) -> str:\n",
    "        return f\"Address(id={self.id!r}, email_address={self.email_address!r})\""
   ]
  },
  {
   "cell_type": "markdown",
   "id": "ba2836bb",
   "metadata": {},
   "source": [
    "Два класса выше, `User` и `Address`, теперь называются `ORM Mapped Classes` и доступны для использования в операциях персистентного хранения и запросов ORM, которые будут описаны позже. \n",
    "\n",
    "Более подробная информация об этих классах включает:\n",
    "\n",
    "- Каждый класс ссылается на объект `Table`, сгенерированный в процессе декларативного отображения/маппинга, который именуется путем присвоения строки атрибуту `DeclarativeBase.__tablename__`. После создания класса эта сгенерированная таблица становится доступной по атрибуту `DeclarativeBase.__table__`.\n",
    "\n",
    "- Как упоминалось, такая форма называется [декларативной конфигурацией таблиц](https://docs.sqlalchemy.org/en/20/orm/declarative_tables.html#orm-declarative-table-configuration). Мы создаем объект `Table` напрямую и присваиваем его непосредственно к `DeclarativeBase.__table__`. Этот стиль известен как `Declarative with Imperative Table`.\n",
    "\n",
    "- Для указания столбцов в таблице используется конструкция [mapped_column()](https://docs.sqlalchemy.org/en/20/orm/mapping_api.html#sqlalchemy.orm.mapped_column) в сочетании с аннотациями типов, основанными на типе [Mapped](https://docs.sqlalchemy.org/en/20/orm/internals.html#sqlalchemy.orm.Mapped). Этот объект будет генерировать объекты `Column`, которые применяются при построении `Table`.\n",
    "\n",
    "- Для столбцов с простыми типами данных, не имеющих других вариантов, мы можем указать только аннотацию `Mapped`, используя такие простые типы Python, как `int` и `str`, для обозначения `Integer` и `String`. Настройки интерпретации типов Python в процессе декларативного отображения очень свободны; см. разделы [Использование аннотированной декларативной таблицы (Формы с аннотацией типов для mapped_column())](https://docs.sqlalchemy.org/en/20/orm/declarative_tables.html#orm-declarative-mapped-column) и [Настройка Типов Map](https://docs.sqlalchemy.org/en/20/orm/declarative_tables.html#orm-declarative-mapped-column-type-map).\n",
    "\n",
    "- Колонка может быть объявлена как \"nullable\" или \"not null\" на основании наличия аннотации типа `Optional[<typ>]` (или ее эквивалентов `<typ> | None или Union[<typ>, None]`). Параметр [mapped_column.nullable](https://docs.sqlalchemy.org/en/20/orm/mapping_api.html#sqlalchemy.orm.mapped_column.params.nullable) также может быть использован явно (и не обязательно должен соответствовать опциональности аннотации).\n",
    "\n",
    "- Использование явных аннотаций типов совершенно необязательно. Мы также можем использовать `mapped_column()` без аннотаций. В этом случае в каждой конструкции `mapped_column()` следует использовать более явные объекты типа `Integer` и `String`, а также `nullable=False` по мере необходимости.\n",
    "\n",
    "- Два дополнительных атрибута, `User.addresses` и `Address.user`, определяют другой тип атрибута, называемый [relationship()](https://docs.sqlalchemy.org/en/20/orm/relationship_api.html#sqlalchemy.orm.relationship), который имеет аналогичные аннотационно-ориентированные настройки типов, как показано в примере. Более подробно конструкция [relationship()](https://docs.sqlalchemy.org/en/20/orm/relationship_api.html#sqlalchemy.orm.relationship) рассматривается в разделе [Работа со связанными объектами ORM](https://docs.sqlalchemy.org/en/20/tutorial/orm_related_objects.html#tutorial-orm-related-objects).\n",
    "\n",
    "- Классы автоматически получают метод `__init__()`, если мы не объявляем его самостоятельно. В стандартной форме этот метод принимает все имена атрибутов в качестве необязательных аргументов-ключей:\n",
    "```python\n",
    "sandy = User(name=\"sandy\", fullname=\"Sandy Cheeks\")\n",
    "```\n",
    "\n",
    "- Для автоматической генерации полнофункционального метода `__init__()`, в котором предусмотрены позиционные аргументы, а также аргументы со значениями ключевых слов по умолчанию, можно использовать функцию dataclasses, представленную в разделе [Declarative Dataclass Mapping](https://docs.sqlalchemy.org/en/20/orm/dataclasses.html#orm-declarative-native-dataclasses). Конечно, всегда можно использовать и явный метод `__init__()`.\n",
    "\n",
    "- Методы `__repr__()` добавлены для того, чтобы мы получили читаемый строковый вывод; наличие этих методов не является обязательным. Как и в случае с `__init__()`, метод `__repr__()` может быть сгенерирован автоматически с помощью функции [dataclasses](https://docs.sqlalchemy.org/en/20/orm/dataclasses.html#orm-declarative-native-dataclasses).\n"
   ]
  },
  {
   "cell_type": "markdown",
   "id": "d01e0e34",
   "metadata": {},
   "source": [
    "Куда делась старая добрая декларативность?\n",
    "\n",
    "Пользователи `SQLAlchemy 1.4` и более ранних версий заметят, что приведенное выше отображение/mapping имеет принципиально иную форму, чем раньше; оно не только использует `mapped_column()` вместо `Column` в декларативном отображении/mapping, но и использует аннотации типов Python для получения информации о столбцах.\n",
    "\n",
    "Для пользователей \"старого\" способа поясним, что декларативные отображения/mapping по-прежнему могут выполняться с использованием объектов `Column` (а также с использованием функции [declarative_base()](https://docs.sqlalchemy.org/en/20/orm/mapping_api.html#sqlalchemy.orm.declarative_base) для создания базового класса), и эти формы будут поддерживаться и в дальнейшем, причем их отмена не планируется. Причина замены этих двух объектов новыми конструкциями заключается, прежде всего, в том, что они легко интегрируются с инструментами `PEP 484`, включая `IDE`, такие как `VSCode`, и программы проверки типов, такие как `Mypy` и `Pyright`, без необходимости установки плагинов. Во-вторых, вывод деклараций из аннотаций типов является частью интеграции SQLAlchemy с датаклассами Python, которые теперь могут быть [сгенерированы нативно](https://docs.sqlalchemy.org/en/20/orm/dataclasses.html#orm-declarative-native-dataclasses) из отображений/mappings.\n",
    "\n",
    "Для пользователей, которым нравится \"старый\" способ, но при этом они хотят, чтобы их IDE не выдавала ошибочных сообщений об ошибках ввода в декларативных отображениях/mappings, конструкция `mapped_column()` является полноценной заменой `Column` в декларативных отображениях ORM (обратите внимание, что `mapped_column()` предназначена только для декларативных отображений ORM; она не может использоваться внутри конструкции `Table`), а аннотации типов являются необязательными. Наше отображение, приведенное выше, можно записать без аннотаций как:\n",
    "\n",
    "```python\n",
    "class User(Base):\n",
    "    __tablename__ = \"user_account\"\n",
    "\n",
    "    id = mapped_column(Integer, primary_key=True)\n",
    "    name = mapped_column(String(30), nullable=False)\n",
    "    fullname = mapped_column(String)\n",
    "\n",
    "    addresses = relationship(\"Address\", back_populates=\"user\")\n",
    "\n",
    "    # ... продолжение опеределений\n",
    "```"
   ]
  },
  {
   "cell_type": "markdown",
   "id": "ed5b6676",
   "metadata": {},
   "source": [
    "См. также:\n",
    "\n",
    "- [ORM Mapping Styles](https://docs.sqlalchemy.org/en/20/orm/mapping_styles.html#orm-mapping-styles) -  полная информация о различных конфигурационных стилях ORM.\n",
    "- \n",
    "- [https://docs.sqlalchemy.org/en/20/orm/mapping_styles.html#orm-declarative-mapping](https://docs.sqlalchemy.org/en/20/orm/mapping_styles.html#orm-declarative-mapping) - обзор декларативного отображения классов\n",
    "\n",
    "\n",
    "- [https://docs.sqlalchemy.org/en/20/orm/declarative_tables.html#orm-declarative-table](https://docs.sqlalchemy.org/en/20/orm/declarative_tables.html#orm-declarative-table) - подробно описано использование функций `mapped_column()` и `Mapped` для определения столбцов `Table`, которые должны быть сопоставлены при использовании Declarative.\n"
   ]
  },
  {
   "cell_type": "markdown",
   "id": "6a30ca75",
   "metadata": {},
   "source": [
    "Генерация DDL в базу данных из `ORM mapping`.\n",
    "\n",
    "Поскольку наши классы, отображаемые в ORM, ссылаются на объекты `Table`, содержащиеся в коллекции `MetaData`, генерация DDL на основе декларативной базы происходит аналогично процессу, описанному ранее в разделе. В нашем случае мы уже создавали таблицы `пользователей` и `адресов` в нашей базе данных выше. Если бы мы этого еще не сделали, то могли бы воспользоваться для этого метаданными, связанными с нашим классом ORM Declarative Base, получив доступ к коллекции из атрибута [DeclarativeBase.metadata](https://docs.sqlalchemy.org/en/20/orm/mapping_api.html#sqlalchemy.orm.DeclarativeBase.metadata), а затем, как и раньше, использовать [MetaData.create_all()](https://docs.sqlalchemy.org/en/20/core/metadata.html#sqlalchemy.schema.MetaData.create_all). В этом случае выполняются операторы *(IF EXISTS)*, но новые таблицы не создаются, так как они уже присутствуют:"
   ]
  },
  {
   "cell_type": "code",
   "execution_count": 21,
   "id": "11f888f7",
   "metadata": {},
   "outputs": [
    {
     "name": "stdout",
     "output_type": "stream",
     "text": [
      "2023-07-18 12:19:16,501 INFO sqlalchemy.engine.Engine BEGIN (implicit)\n",
      "2023-07-18 12:19:16,502 INFO sqlalchemy.engine.Engine SELECT pg_catalog.pg_class.relname \n",
      "FROM pg_catalog.pg_class JOIN pg_catalog.pg_namespace ON pg_catalog.pg_namespace.oid = pg_catalog.pg_class.relnamespace \n",
      "WHERE pg_catalog.pg_class.relname = %(table_name)s AND pg_catalog.pg_class.relkind = ANY (ARRAY[%(param_1)s, %(param_2)s, %(param_3)s, %(param_4)s, %(param_5)s]) AND pg_catalog.pg_table_is_visible(pg_catalog.pg_class.oid) AND pg_catalog.pg_namespace.nspname != %(nspname_1)s\n",
      "2023-07-18 12:19:16,502 INFO sqlalchemy.engine.Engine [cached since 0.03465s ago] {'table_name': 'user_account', 'param_1': 'r', 'param_2': 'p', 'param_3': 'f', 'param_4': 'v', 'param_5': 'm', 'nspname_1': 'pg_catalog'}\n",
      "2023-07-18 12:19:16,503 INFO sqlalchemy.engine.Engine SELECT pg_catalog.pg_class.relname \n",
      "FROM pg_catalog.pg_class JOIN pg_catalog.pg_namespace ON pg_catalog.pg_namespace.oid = pg_catalog.pg_class.relnamespace \n",
      "WHERE pg_catalog.pg_class.relname = %(table_name)s AND pg_catalog.pg_class.relkind = ANY (ARRAY[%(param_1)s, %(param_2)s, %(param_3)s, %(param_4)s, %(param_5)s]) AND pg_catalog.pg_table_is_visible(pg_catalog.pg_class.oid) AND pg_catalog.pg_namespace.nspname != %(nspname_1)s\n",
      "2023-07-18 12:19:16,504 INFO sqlalchemy.engine.Engine [cached since 0.03601s ago] {'table_name': 'address', 'param_1': 'r', 'param_2': 'p', 'param_3': 'f', 'param_4': 'v', 'param_5': 'm', 'nspname_1': 'pg_catalog'}\n",
      "2023-07-18 12:19:16,504 INFO sqlalchemy.engine.Engine COMMIT\n"
     ]
    }
   ],
   "source": [
    "Base.metadata.create_all(engine)"
   ]
  },
  {
   "cell_type": "markdown",
   "id": "1349bdd2",
   "metadata": {},
   "source": [
    "Далее мы рассмотрим, как мы можем генерировать объекты `Table` из существующей БД.\n",
    "\n",
    "Завершая раздел о работе с метаданными таблиц, мы проиллюстрируем еще одну операцию, о которой говорилось в начале раздела, - отражение таблицы (**table reflection**). Под отражением таблицы (**table reflaction**) понимается процесс генерации объектов `Table` и связанных с ними объектов путем чтения текущего состояния базы данных. Если в предыдущих разделах мы объявляли объекты `Table` в Python, после чего у нас была возможность отправить DDL в базу данных для создания схемы, то в процессе отражения эти два шага выполняются в обратном порядке, начиная с существующей базы данных и создавая структуры данных на языке Python для представления схем в этой базе.\n",
    "\n",
    "\n",
    "В качестве примера отражения (reflection) создадим новый объект `Table`, представляющий объект `some_table`, который мы создали вручную в предыдущих разделах этого документа. Существует несколько вариантов того, как это делается, однако наиболее простой заключается в создании объекта `Table` с указанием имени таблицы и коллекции `MetaData`, к которой он будет принадлежать, а затем вместо указания отдельных объектов `Column` и `Constraint` передать ему целевой `Engine` с помощью параметра `Table.autoload_with`:"
   ]
  },
  {
   "cell_type": "code",
   "execution_count": 22,
   "id": "b4d4b757",
   "metadata": {},
   "outputs": [
    {
     "name": "stdout",
     "output_type": "stream",
     "text": [
      "2023-07-18 12:19:16,510 INFO sqlalchemy.engine.Engine BEGIN (implicit)\n",
      "2023-07-18 12:19:16,510 INFO sqlalchemy.engine.Engine SELECT pg_catalog.pg_attribute.attname AS name, pg_catalog.format_type(pg_catalog.pg_attribute.atttypid, pg_catalog.pg_attribute.atttypmod) AS format_type, (SELECT pg_catalog.pg_get_expr(pg_catalog.pg_attrdef.adbin, pg_catalog.pg_attrdef.adrelid) AS pg_get_expr_1 \n",
      "FROM pg_catalog.pg_attrdef \n",
      "WHERE pg_catalog.pg_attrdef.adrelid = pg_catalog.pg_attribute.attrelid AND pg_catalog.pg_attrdef.adnum = pg_catalog.pg_attribute.attnum AND pg_catalog.pg_attribute.atthasdef) AS \"default\", pg_catalog.pg_attribute.attnotnull AS not_null, pg_catalog.pg_class.relname AS table_name, pg_catalog.pg_description.description AS comment, pg_catalog.pg_attribute.attgenerated AS generated, (SELECT json_build_object(%(json_build_object_2)s, pg_catalog.pg_attribute.attidentity = %(attidentity_1)s, %(json_build_object_3)s, pg_catalog.pg_sequence.seqstart, %(json_build_object_4)s, pg_catalog.pg_sequence.seqincrement, %(json_build_object_5)s, pg_catalog.pg_sequence.seqmin, %(json_build_object_6)s, pg_catalog.pg_sequence.seqmax, %(json_build_object_7)s, pg_catalog.pg_sequence.seqcache, %(json_build_object_8)s, pg_catalog.pg_sequence.seqcycle) AS json_build_object_1 \n",
      "FROM pg_catalog.pg_sequence \n",
      "WHERE pg_catalog.pg_attribute.attidentity != %(attidentity_2)s AND pg_catalog.pg_sequence.seqrelid = CAST(CAST(pg_catalog.pg_get_serial_sequence(CAST(CAST(pg_catalog.pg_attribute.attrelid AS REGCLASS) AS TEXT), pg_catalog.pg_attribute.attname) AS REGCLASS) AS OID)) AS identity_options \n",
      "FROM pg_catalog.pg_class LEFT OUTER JOIN pg_catalog.pg_attribute ON pg_catalog.pg_class.oid = pg_catalog.pg_attribute.attrelid AND pg_catalog.pg_attribute.attnum > %(attnum_1)s AND NOT pg_catalog.pg_attribute.attisdropped LEFT OUTER JOIN pg_catalog.pg_description ON pg_catalog.pg_description.objoid = pg_catalog.pg_attribute.attrelid AND pg_catalog.pg_description.objsubid = pg_catalog.pg_attribute.attnum JOIN pg_catalog.pg_namespace ON pg_catalog.pg_namespace.oid = pg_catalog.pg_class.relnamespace \n",
      "WHERE pg_catalog.pg_class.relkind = ANY (ARRAY[%(param_1)s, %(param_2)s, %(param_3)s, %(param_4)s, %(param_5)s]) AND pg_catalog.pg_table_is_visible(pg_catalog.pg_class.oid) AND pg_catalog.pg_namespace.nspname != %(nspname_1)s AND pg_catalog.pg_class.relname IN (%(filter_names_1)s) ORDER BY pg_catalog.pg_class.relname, pg_catalog.pg_attribute.attnum\n",
      "2023-07-18 12:19:16,510 INFO sqlalchemy.engine.Engine [generated in 0.00085s] {'json_build_object_2': 'always', 'attidentity_1': 'a', 'json_build_object_3': 'start', 'json_build_object_4': 'increment', 'json_build_object_5': 'minvalue', 'json_build_object_6': 'maxvalue', 'json_build_object_7': 'cache', 'json_build_object_8': 'cycle', 'attidentity_2': '', 'attnum_1': 0, 'param_1': 'r', 'param_2': 'p', 'param_3': 'f', 'param_4': 'v', 'param_5': 'm', 'nspname_1': 'pg_catalog', 'filter_names_1': 'some_table'}\n",
      "2023-07-18 12:19:16,518 INFO sqlalchemy.engine.Engine SELECT pg_catalog.pg_type.typname AS name, pg_catalog.format_type(pg_catalog.pg_type.typbasetype, pg_catalog.pg_type.typtypmod) AS attype, NOT pg_catalog.pg_type.typnotnull AS nullable, pg_catalog.pg_type.typdefault AS \"default\", pg_catalog.pg_type_is_visible(pg_catalog.pg_type.oid) AS visible, pg_catalog.pg_namespace.nspname AS schema, domain_constraints.condefs, domain_constraints.connames \n",
      "FROM pg_catalog.pg_type JOIN pg_catalog.pg_namespace ON pg_catalog.pg_namespace.oid = pg_catalog.pg_type.typnamespace LEFT OUTER JOIN (SELECT pg_catalog.pg_constraint.contypid AS contypid, array_agg(pg_catalog.pg_get_constraintdef(pg_catalog.pg_constraint.oid, %(pg_get_constraintdef_1)s)) AS condefs, array_agg(CAST(pg_catalog.pg_constraint.conname AS TEXT)) AS connames \n",
      "FROM pg_catalog.pg_constraint \n",
      "WHERE pg_catalog.pg_constraint.contypid != %(contypid_1)s GROUP BY pg_catalog.pg_constraint.contypid) AS domain_constraints ON pg_catalog.pg_type.oid = domain_constraints.contypid \n",
      "WHERE pg_catalog.pg_type.typtype = %(typtype_1)s ORDER BY pg_catalog.pg_namespace.nspname, pg_catalog.pg_type.typname\n",
      "2023-07-18 12:19:16,519 INFO sqlalchemy.engine.Engine [generated in 0.00035s] {'pg_get_constraintdef_1': True, 'contypid_1': 0, 'typtype_1': 'd'}\n",
      "2023-07-18 12:19:16,523 INFO sqlalchemy.engine.Engine SELECT pg_catalog.pg_type.typname AS name, pg_catalog.pg_type_is_visible(pg_catalog.pg_type.oid) AS visible, pg_catalog.pg_namespace.nspname AS schema, lbl_agg.labels AS labels \n",
      "FROM pg_catalog.pg_type JOIN pg_catalog.pg_namespace ON pg_catalog.pg_namespace.oid = pg_catalog.pg_type.typnamespace LEFT OUTER JOIN (SELECT pg_catalog.pg_enum.enumtypid AS enumtypid, array_agg(CAST(pg_catalog.pg_enum.enumlabel AS TEXT) ORDER BY pg_catalog.pg_enum.enumsortorder) AS labels \n",
      "FROM pg_catalog.pg_enum GROUP BY pg_catalog.pg_enum.enumtypid) AS lbl_agg ON pg_catalog.pg_type.oid = lbl_agg.enumtypid \n",
      "WHERE pg_catalog.pg_type.typtype = %(typtype_1)s ORDER BY pg_catalog.pg_namespace.nspname, pg_catalog.pg_type.typname\n",
      "2023-07-18 12:19:16,524 INFO sqlalchemy.engine.Engine [generated in 0.00040s] {'typtype_1': 'e'}\n",
      "2023-07-18 12:19:16,527 INFO sqlalchemy.engine.Engine SELECT pg_catalog.pg_class.oid, pg_catalog.pg_class.relname \n",
      "FROM pg_catalog.pg_class JOIN pg_catalog.pg_namespace ON pg_catalog.pg_namespace.oid = pg_catalog.pg_class.relnamespace \n",
      "WHERE pg_catalog.pg_class.relkind = ANY (ARRAY[%(param_1)s, %(param_2)s, %(param_3)s, %(param_4)s, %(param_5)s]) AND pg_catalog.pg_table_is_visible(pg_catalog.pg_class.oid) AND pg_catalog.pg_namespace.nspname != %(nspname_1)s AND pg_catalog.pg_class.relname IN (%(filter_names_1)s)\n",
      "2023-07-18 12:19:16,527 INFO sqlalchemy.engine.Engine [generated in 0.00045s] {'param_1': 'r', 'param_2': 'p', 'param_3': 'f', 'param_4': 'v', 'param_5': 'm', 'nspname_1': 'pg_catalog', 'filter_names_1': 'some_table'}\n",
      "2023-07-18 12:19:16,531 INFO sqlalchemy.engine.Engine SELECT attr.conrelid, array_agg(CAST(attr.attname AS TEXT) ORDER BY attr.ord) AS cols, attr.conname, min(attr.description) AS description, NULL AS extra \n",
      "FROM (SELECT con.conrelid AS conrelid, con.conname AS conname, con.conindid AS conindid, con.description AS description, con.ord AS ord, pg_catalog.pg_attribute.attname AS attname \n",
      "FROM pg_catalog.pg_attribute JOIN (SELECT pg_catalog.pg_constraint.conrelid AS conrelid, pg_catalog.pg_constraint.conname AS conname, pg_catalog.pg_constraint.conindid AS conindid, unnest(pg_catalog.pg_constraint.conkey) AS attnum, generate_subscripts(pg_catalog.pg_constraint.conkey, %(generate_subscripts_1)s) AS ord, pg_catalog.pg_description.description AS description \n",
      "FROM pg_catalog.pg_constraint LEFT OUTER JOIN pg_catalog.pg_description ON pg_catalog.pg_description.objoid = pg_catalog.pg_constraint.oid \n",
      "WHERE pg_catalog.pg_constraint.contype = %(contype)s AND pg_catalog.pg_constraint.conrelid IN (%(oids_1)s)) AS con ON pg_catalog.pg_attribute.attnum = con.attnum AND pg_catalog.pg_attribute.attrelid = con.conrelid \n",
      "WHERE con.conrelid IN (%(oids_1)s)) AS attr GROUP BY attr.conrelid, attr.conname ORDER BY attr.conrelid, attr.conname\n",
      "2023-07-18 12:19:16,531 INFO sqlalchemy.engine.Engine [generated in 0.00046s] {'generate_subscripts_1': 1, 'contype': 'p', 'oids_1': 33544}\n",
      "2023-07-18 12:19:16,536 INFO sqlalchemy.engine.Engine SELECT pg_catalog.pg_class.relname, pg_catalog.pg_constraint.conname, CASE WHEN (pg_catalog.pg_constraint.oid IS NOT NULL) THEN pg_catalog.pg_get_constraintdef(pg_catalog.pg_constraint.oid, %(pg_get_constraintdef_1)s) END AS anon_1, nsp_ref.nspname, pg_catalog.pg_description.description \n",
      "FROM pg_catalog.pg_class LEFT OUTER JOIN pg_catalog.pg_constraint ON pg_catalog.pg_class.oid = pg_catalog.pg_constraint.conrelid AND pg_catalog.pg_constraint.contype = %(contype_1)s LEFT OUTER JOIN pg_catalog.pg_class AS cls_ref ON cls_ref.oid = pg_catalog.pg_constraint.confrelid LEFT OUTER JOIN pg_catalog.pg_namespace AS nsp_ref ON cls_ref.relnamespace = nsp_ref.oid LEFT OUTER JOIN pg_catalog.pg_description ON pg_catalog.pg_description.objoid = pg_catalog.pg_constraint.oid JOIN pg_catalog.pg_namespace ON pg_catalog.pg_namespace.oid = pg_catalog.pg_class.relnamespace \n",
      "WHERE pg_catalog.pg_class.relkind = ANY (ARRAY[%(param_1)s, %(param_2)s, %(param_3)s, %(param_4)s, %(param_5)s]) AND pg_catalog.pg_table_is_visible(pg_catalog.pg_class.oid) AND pg_catalog.pg_namespace.nspname != %(nspname_1)s AND pg_catalog.pg_class.relname IN (%(filter_names_1)s) ORDER BY pg_catalog.pg_class.relname, pg_catalog.pg_constraint.conname\n",
      "2023-07-18 12:19:16,536 INFO sqlalchemy.engine.Engine [generated in 0.00042s] {'pg_get_constraintdef_1': True, 'contype_1': 'f', 'param_1': 'r', 'param_2': 'p', 'param_3': 'f', 'param_4': 'v', 'param_5': 'm', 'nspname_1': 'pg_catalog', 'filter_names_1': 'some_table'}\n",
      "2023-07-18 12:19:16,540 INFO sqlalchemy.engine.Engine SELECT pg_catalog.pg_index.indrelid, cls_idx.relname AS relname_index, pg_catalog.pg_index.indisunique, pg_catalog.pg_constraint.conrelid IS NOT NULL AS has_constraint, pg_catalog.pg_index.indoption, cls_idx.reloptions, pg_catalog.pg_am.amname, CASE WHEN (pg_catalog.pg_index.indpred IS NOT NULL) THEN pg_catalog.pg_get_expr(pg_catalog.pg_index.indpred, pg_catalog.pg_index.indrelid) END AS filter_definition, pg_catalog.pg_index.indnkeyatts, pg_catalog.pg_index.indnullsnotdistinct, idx_cols.elements, idx_cols.elements_is_expr \n",
      "FROM pg_catalog.pg_index JOIN pg_catalog.pg_class AS cls_idx ON pg_catalog.pg_index.indexrelid = cls_idx.oid JOIN pg_catalog.pg_am ON cls_idx.relam = pg_catalog.pg_am.oid LEFT OUTER JOIN (SELECT idx_attr.indexrelid AS indexrelid, min(idx_attr.indrelid) AS min_1, array_agg(idx_attr.element ORDER BY idx_attr.ord) AS elements, array_agg(idx_attr.is_expr ORDER BY idx_attr.ord) AS elements_is_expr \n",
      "FROM (SELECT idx.indexrelid AS indexrelid, idx.indrelid AS indrelid, idx.ord AS ord, CASE WHEN (idx.attnum = %(attnum_1)s) THEN pg_catalog.pg_get_indexdef(idx.indexrelid, idx.ord + %(ord_1)s, %(pg_get_indexdef_1)s) ELSE CAST(pg_catalog.pg_attribute.attname AS TEXT) END AS element, idx.attnum = %(attnum_2)s AS is_expr \n",
      "FROM (SELECT pg_catalog.pg_index.indexrelid AS indexrelid, pg_catalog.pg_index.indrelid AS indrelid, unnest(pg_catalog.pg_index.indkey) AS attnum, generate_subscripts(pg_catalog.pg_index.indkey, %(generate_subscripts_1)s) AS ord \n",
      "FROM pg_catalog.pg_index \n",
      "WHERE NOT pg_catalog.pg_index.indisprimary AND pg_catalog.pg_index.indrelid IN (%(oids_1)s)) AS idx LEFT OUTER JOIN pg_catalog.pg_attribute ON pg_catalog.pg_attribute.attnum = idx.attnum AND pg_catalog.pg_attribute.attrelid = idx.indrelid \n",
      "WHERE idx.indrelid IN (%(oids_1)s)) AS idx_attr GROUP BY idx_attr.indexrelid) AS idx_cols ON pg_catalog.pg_index.indexrelid = idx_cols.indexrelid LEFT OUTER JOIN pg_catalog.pg_constraint ON pg_catalog.pg_index.indrelid = pg_catalog.pg_constraint.conrelid AND pg_catalog.pg_index.indexrelid = pg_catalog.pg_constraint.conindid AND pg_catalog.pg_constraint.contype = ANY (ARRAY[%(param_1)s, %(param_2)s, %(param_3)s]) \n",
      "WHERE pg_catalog.pg_index.indrelid IN (%(oids_1)s) AND NOT pg_catalog.pg_index.indisprimary ORDER BY pg_catalog.pg_index.indrelid, cls_idx.relname\n",
      "2023-07-18 12:19:16,541 INFO sqlalchemy.engine.Engine [generated in 0.00066s] {'attnum_1': 0, 'ord_1': 1, 'pg_get_indexdef_1': True, 'attnum_2': 0, 'generate_subscripts_1': 1, 'param_1': 'p', 'param_2': 'u', 'param_3': 'x', 'oids_1': 33544}\n",
      "2023-07-18 12:19:16,546 INFO sqlalchemy.engine.Engine SELECT attr.conrelid, array_agg(CAST(attr.attname AS TEXT) ORDER BY attr.ord) AS cols, attr.conname, min(attr.description) AS description, bool_and(pg_catalog.pg_index.indnullsnotdistinct) AS indnullsnotdistinct \n",
      "FROM (SELECT con.conrelid AS conrelid, con.conname AS conname, con.conindid AS conindid, con.description AS description, con.ord AS ord, pg_catalog.pg_attribute.attname AS attname \n",
      "FROM pg_catalog.pg_attribute JOIN (SELECT pg_catalog.pg_constraint.conrelid AS conrelid, pg_catalog.pg_constraint.conname AS conname, pg_catalog.pg_constraint.conindid AS conindid, unnest(pg_catalog.pg_constraint.conkey) AS attnum, generate_subscripts(pg_catalog.pg_constraint.conkey, %(generate_subscripts_1)s) AS ord, pg_catalog.pg_description.description AS description \n",
      "FROM pg_catalog.pg_constraint LEFT OUTER JOIN pg_catalog.pg_description ON pg_catalog.pg_description.objoid = pg_catalog.pg_constraint.oid \n",
      "WHERE pg_catalog.pg_constraint.contype = %(contype)s AND pg_catalog.pg_constraint.conrelid IN (%(oids_1)s)) AS con ON pg_catalog.pg_attribute.attnum = con.attnum AND pg_catalog.pg_attribute.attrelid = con.conrelid \n",
      "WHERE con.conrelid IN (%(oids_1)s)) AS attr JOIN pg_catalog.pg_index ON attr.conindid = pg_catalog.pg_index.indexrelid GROUP BY attr.conrelid, attr.conname ORDER BY attr.conrelid, attr.conname\n",
      "2023-07-18 12:19:16,546 INFO sqlalchemy.engine.Engine [generated in 0.00051s] {'generate_subscripts_1': 1, 'contype': 'u', 'oids_1': 33544}\n",
      "2023-07-18 12:19:16,548 INFO sqlalchemy.engine.Engine SELECT pg_catalog.pg_class.relname, pg_catalog.pg_description.description \n",
      "FROM pg_catalog.pg_class LEFT OUTER JOIN pg_catalog.pg_description ON pg_catalog.pg_class.oid = pg_catalog.pg_description.objoid AND pg_catalog.pg_description.objsubid = %(objsubid_1)s JOIN pg_catalog.pg_namespace ON pg_catalog.pg_namespace.oid = pg_catalog.pg_class.relnamespace \n",
      "WHERE pg_catalog.pg_class.relkind = ANY (ARRAY[%(param_1)s, %(param_2)s, %(param_3)s, %(param_4)s, %(param_5)s]) AND pg_catalog.pg_table_is_visible(pg_catalog.pg_class.oid) AND pg_catalog.pg_namespace.nspname != %(nspname_1)s AND pg_catalog.pg_class.relname IN (%(filter_names_1)s)\n",
      "2023-07-18 12:19:16,549 INFO sqlalchemy.engine.Engine [generated in 0.00035s] {'objsubid_1': 0, 'param_1': 'r', 'param_2': 'p', 'param_3': 'f', 'param_4': 'v', 'param_5': 'm', 'nspname_1': 'pg_catalog', 'filter_names_1': 'some_table'}\n",
      "2023-07-18 12:19:16,551 INFO sqlalchemy.engine.Engine SELECT pg_catalog.pg_class.relname, pg_catalog.pg_constraint.conname, CASE WHEN (pg_catalog.pg_constraint.oid IS NOT NULL) THEN pg_catalog.pg_get_constraintdef(pg_catalog.pg_constraint.oid, %(pg_get_constraintdef_1)s) END AS anon_1, pg_catalog.pg_description.description \n",
      "FROM pg_catalog.pg_class LEFT OUTER JOIN pg_catalog.pg_constraint ON pg_catalog.pg_class.oid = pg_catalog.pg_constraint.conrelid AND pg_catalog.pg_constraint.contype = %(contype_1)s LEFT OUTER JOIN pg_catalog.pg_description ON pg_catalog.pg_description.objoid = pg_catalog.pg_constraint.oid JOIN pg_catalog.pg_namespace ON pg_catalog.pg_namespace.oid = pg_catalog.pg_class.relnamespace \n",
      "WHERE pg_catalog.pg_class.relkind = ANY (ARRAY[%(param_1)s, %(param_2)s, %(param_3)s, %(param_4)s, %(param_5)s]) AND pg_catalog.pg_table_is_visible(pg_catalog.pg_class.oid) AND pg_catalog.pg_namespace.nspname != %(nspname_1)s AND pg_catalog.pg_class.relname IN (%(filter_names_1)s) ORDER BY pg_catalog.pg_class.relname, pg_catalog.pg_constraint.conname\n",
      "2023-07-18 12:19:16,551 INFO sqlalchemy.engine.Engine [generated in 0.00035s] {'pg_get_constraintdef_1': True, 'contype_1': 'c', 'param_1': 'r', 'param_2': 'p', 'param_3': 'f', 'param_4': 'v', 'param_5': 'm', 'nspname_1': 'pg_catalog', 'filter_names_1': 'some_table'}\n",
      "2023-07-18 12:19:16,552 INFO sqlalchemy.engine.Engine ROLLBACK\n"
     ]
    }
   ],
   "source": [
    "some_table = Table(\"some_table\", metadata_obj, autoload_with=engine)"
   ]
  },
  {
   "cell_type": "markdown",
   "id": "a63ebf75",
   "metadata": {},
   "source": [
    "В конце процесса объект `some_table` теперь содержит информацию об объектах `Column`, присутствующих в таблице, и может использоваться точно так же, как и таблица, которую мы объявили явно:"
   ]
  },
  {
   "cell_type": "code",
   "execution_count": 23,
   "id": "de78f63d",
   "metadata": {},
   "outputs": [
    {
     "data": {
      "text/plain": [
       "Table('some_table', MetaData(), Column('x', INTEGER(), table=<some_table>), Column('y', INTEGER(), table=<some_table>), schema=None)"
      ]
     },
     "execution_count": 23,
     "metadata": {},
     "output_type": "execute_result"
    }
   ],
   "source": [
    "some_table"
   ]
  },
  {
   "cell_type": "markdown",
   "id": "428d9431",
   "metadata": {},
   "source": [
    "Теперь у нас есть готовая база данных с двумя таблицами, а также таблично-ориентированные конструкции Core и ORM, которые мы можем использовать для взаимодействия с этими таблицами через `Connection` и/или `ORM Session`. В следующих разделах мы проиллюстрируем, как создавать, манипулировать и выбирать данные с помощью этих конструкций."
   ]
  },
  {
   "cell_type": "markdown",
   "metadata": {},
   "source": [
    "Декларативная база также ссылается на коллекцию под названием [registry](https://docs.sqlalchemy.org/en/20/orm/mapping_api.html#sqlalchemy.orm.registry), которая является центральной единицей \"`mapper configuration`\" в SQLAlchemy ORM. Хотя к этому объекту редко обращаются напрямую, он занимает центральное место в процессе `mapper configuration`, поскольку набор отображаемых классов ORM будет координироваться друг с другом через этот [registry](https://docs.sqlalchemy.org/en/20/orm/mapping_api.html#sqlalchemy.orm.registry). Как и в случае с `MetaData`, наша декларативная база также создала для нас реестр (опять же с возможностью передачи собственного [реестра](https://docs.sqlalchemy.org/en/20/orm/mapping_api.html#sqlalchemy.orm.registry)), доступ к которому мы можем получить через переменную класса [DeclarativeBase.registry](https://docs.sqlalchemy.org/en/20/orm/mapping_api.html#sqlalchemy.orm.DeclarativeBase.registry):"
   ]
  },
  {
   "cell_type": "markdown",
   "id": "e2224b59",
   "metadata": {},
   "source": [
    "Использование `INSERT-выражений`.\n",
    "\n",
    "При использовании Core и ORM, `SQL INSERT` формируется с помощью функции [insert()](https://docs.sqlalchemy.org/en/20/core/dml.html#sqlalchemy.sql.expression.insert) - эта функция генерирует новый экземпляр `Insert`, который представляет собой оператор `INSERT` в SQL, добавляющий новые данные в таблицу."
   ]
  },
  {
   "cell_type": "code",
   "execution_count": 24,
   "id": "8c61a309",
   "metadata": {},
   "outputs": [],
   "source": [
    "from sqlalchemy import insert\n",
    "stmt = insert(user_table).values(name=\"spongebob\", fullname=\"Spongebob Squarepants\")\n",
    "\n",
    "# smts - является инстансом Insert"
   ]
  },
  {
   "cell_type": "markdown",
   "id": "d875116a",
   "metadata": {},
   "source": [
    "В примере выше, `stmt` - это инстанс [Insert](https://docs.sqlalchemy.org/en/20/core/dml.html#sqlalchemy.sql.expression.Insert).\n",
    "\n",
    "Мы также можем передать функции принт эту переменную, и получить строчное представление SQL-запроса:"
   ]
  },
  {
   "cell_type": "code",
   "execution_count": 25,
   "id": "7c896fd0",
   "metadata": {},
   "outputs": [
    {
     "name": "stdout",
     "output_type": "stream",
     "text": [
      "INSERT INTO user_account (name, fullname) VALUES (:name, :fullname)\n"
     ]
    }
   ],
   "source": [
    "print(stmt)"
   ]
  },
  {
   "cell_type": "markdown",
   "id": "3668733a",
   "metadata": {},
   "source": [
    "Строчная форма создается путем создания компилированный формы объекта, которая включает в себя специфическое для базы даннх SQL-представление оператора. Мы можем получить этот объект непосредственно с помощью метода `ClauseElemnt.compile()`"
   ]
  },
  {
   "cell_type": "code",
   "execution_count": 26,
   "id": "b76b5710",
   "metadata": {},
   "outputs": [],
   "source": [
    "compiled = stmt.compile()"
   ]
  },
  {
   "cell_type": "code",
   "execution_count": 27,
   "id": "d3a2e8c4",
   "metadata": {},
   "outputs": [
    {
     "data": {
      "text/plain": [
       "{'name': 'spongebob', 'fullname': 'Spongebob Squarepants'}"
      ]
     },
     "execution_count": 27,
     "metadata": {},
     "output_type": "execute_result"
    }
   ],
   "source": [
    "compiled.params"
   ]
  },
  {
   "cell_type": "markdown",
   "id": "3416e6ed",
   "metadata": {},
   "source": [
    "Теперь мы можем выполнить это выражение."
   ]
  },
  {
   "cell_type": "code",
   "execution_count": 28,
   "id": "c04abd37",
   "metadata": {},
   "outputs": [
    {
     "name": "stdout",
     "output_type": "stream",
     "text": [
      "2023-07-18 12:19:16,577 INFO sqlalchemy.engine.Engine BEGIN (implicit)\n",
      "2023-07-18 12:19:16,578 INFO sqlalchemy.engine.Engine INSERT INTO user_account (name, fullname) VALUES (%(name)s, %(fullname)s) RETURNING user_account.id\n",
      "2023-07-18 12:19:16,578 INFO sqlalchemy.engine.Engine [generated in 0.00099s] {'name': 'spongebob', 'fullname': 'Spongebob Squarepants'}\n",
      "2023-07-18 12:19:16,579 INFO sqlalchemy.engine.Engine COMMIT\n"
     ]
    }
   ],
   "source": [
    "with engine.connect() as conn:\n",
    "    result = conn.execute(stmt)\n",
    "    conn.commit()"
   ]
  },
  {
   "cell_type": "markdown",
   "id": "c1fe5cc7",
   "metadata": {},
   "source": [
    "В своей простой форме оператор `INSERT` не возвращает никаких строк, а если вставляется только одна строка, то он обычно включает в себя возможность возврата информации о значениях по умолчанию на уровне столбцов, которые были сгенерированы во время `INSERT` этой строки, чаще всего целочисленного значения первичного ключа. В приведенном выше случае первая строка в базе данных обычно возвращает 1 для первого целочисленного значения первичного ключа, которое мы можем получить с помощью аксессора [CursorResult.inserted_primary_key](https://docs.sqlalchemy.org/en/20/core/connections.html#sqlalchemy.engine.CursorResult.inserted_primary_key):"
   ]
  },
  {
   "cell_type": "code",
   "execution_count": 29,
   "id": "6e7ee4a1",
   "metadata": {},
   "outputs": [
    {
     "data": {
      "text/plain": [
       "(1,)"
      ]
     },
     "execution_count": 29,
     "metadata": {},
     "output_type": "execute_result"
    }
   ],
   "source": [
    "result.inserted_primary_key  # (1,)"
   ]
  },
  {
   "cell_type": "code",
   "execution_count": 30,
   "id": "592fea02",
   "metadata": {},
   "outputs": [
    {
     "name": "stdout",
     "output_type": "stream",
     "text": [
      "2023-07-18 12:19:16,587 INFO sqlalchemy.engine.Engine BEGIN (implicit)\n",
      "2023-07-18 12:19:16,587 INFO sqlalchemy.engine.Engine INSERT INTO user_account (name, fullname) VALUES (%(name)s, %(fullname)s) RETURNING user_account.id\n",
      "2023-07-18 12:19:16,587 INFO sqlalchemy.engine.Engine [cached since 0.01s ago] {'name': 'skwidward', 'fullname': 'Skwidward'}\n",
      "2023-07-18 12:19:16,588 INFO sqlalchemy.engine.Engine COMMIT\n"
     ]
    },
    {
     "data": {
      "text/plain": [
       "(2,)"
      ]
     },
     "execution_count": 30,
     "metadata": {},
     "output_type": "execute_result"
    }
   ],
   "source": [
    "another_stmt = insert(user_table).values(name=\"skwidward\", fullname=\"Skwidward\")\n",
    "with engine.connect() as conn:\n",
    "    result = conn.execute(another_stmt)\n",
    "    conn.commit()\n",
    "result.inserted_primary_key  # (2,)"
   ]
  },
  {
   "cell_type": "markdown",
   "id": "27556eaf",
   "metadata": {},
   "source": [
    "В приведенном примере метод `Insert.values()` использовался для явного создания пункта `VALUES` оператора `SQL INSERT`. Если мы не используем метод `Insert.values()`, а просто выведем \"пустой\" оператор, то получим `INSERT` для каждого столбца таблицы:"
   ]
  },
  {
   "cell_type": "code",
   "execution_count": 31,
   "id": "71664e5f",
   "metadata": {},
   "outputs": [
    {
     "name": "stdout",
     "output_type": "stream",
     "text": [
      "INSERT INTO user_account (id, name, fullname) VALUES (:id, :name, :fullname)\n"
     ]
    }
   ],
   "source": [
    "print(insert(user_table))"
   ]
  },
  {
   "cell_type": "markdown",
   "id": "62c6ce5a",
   "metadata": {},
   "source": [
    "Если взять конструкцию `Insert`, для которой не вызывалась функция `Insert.values()`, и выполнить ее, а не вывести на печать, то оператор будет скомпилирован в строку на основе параметров, переданных методу `Connection.execute()`, и будет включать только столбцы, соответствующие переданным параметрам. Собственно, это и есть обычный способ использования `Insert` для вставки строк без необходимости вводить явное предложение `VALUES`. Приведенный ниже пример иллюстрирует выполнение оператора `INSERT` с двумя столбцами и сразу со списком параметров:"
   ]
  },
  {
   "cell_type": "code",
   "execution_count": 32,
   "id": "280bafc7",
   "metadata": {},
   "outputs": [
    {
     "name": "stdout",
     "output_type": "stream",
     "text": [
      "2023-07-18 12:19:16,595 INFO sqlalchemy.engine.Engine BEGIN (implicit)\n",
      "2023-07-18 12:19:16,596 INFO sqlalchemy.engine.Engine INSERT INTO user_account (name, fullname) VALUES (%(name__0)s, %(fullname__0)s), (%(name__1)s, %(fullname__1)s)\n",
      "2023-07-18 12:19:16,596 INFO sqlalchemy.engine.Engine [generated in 0.00053s (insertmanyvalues) 1/1 (unordered)] {'fullname__0': 'Sandy Cheeks', 'name__0': 'sandy', 'fullname__1': 'Patrick Star', 'name__1': 'patrick'}\n",
      "2023-07-18 12:19:16,597 INFO sqlalchemy.engine.Engine COMMIT\n"
     ]
    }
   ],
   "source": [
    "with engine.connect() as conn:\n",
    "    result = conn.execute(\n",
    "        insert(user_table),\n",
    "        [\n",
    "            {\"name\": \"sandy\", \"fullname\": \"Sandy Cheeks\"},\n",
    "            {\"name\": \"patrick\", \"fullname\": \"Patrick Star\"},\n",
    "        ],\n",
    "    )\n",
    "    conn.commit()"
   ]
  },
  {
   "cell_type": "markdown",
   "id": "e71494dc",
   "metadata": {},
   "source": [
    "Приведенное выше выполнение имеет форму \"`executemany`\", впервые показанную в разделе [\"Передача нескольких параметров\"](https://docs.sqlalchemy.org/en/20/tutorial/dbapi_transactions.html#tutorial-multiple-parameters), однако, в отличие от использования конструкции `text()`, нам не пришлось прописывать никакой SQL. Передавая словарь или список словарей в метод `Connection.execute()` в сочетании с конструкцией `Insert`, `Connection` гарантирует, что переданные имена столбцов будут автоматически выражены в предложении `VALUES` конструкции `Insert`."
   ]
  },
  {
   "cell_type": "markdown",
   "id": "04a397b8",
   "metadata": {},
   "source": [
    "Ниже приведен более продвинутый пример, иллюстрирующий, как можно использовать метод `Insert.values()` в явном виде и в то же время включать дополнительные `VALUES`, генерируемые из параметров. Строится [скалярный подзапрос](https://docs.sqlalchemy.org/en/20/glossary.html#term-scalar-subquery) с использованием конструкции [select()](https://docs.sqlalchemy.org/en/20/core/selectable.html#sqlalchemy.sql.expression.select), представленной в следующем разделе, а параметры, используемые в подзапросе, задаются с помощью явного связанного имени параметра, устанавливаемого с помощью конструкции `bindparam()`.\n",
    "\n",
    "Это несколько более глубокая алхимия для того, чтобы мы могли добавлять связанные строки без извлечения идентификаторов первичных ключей из операции `user_table` в приложение. Большинство алхимиков просто используют ORM, который позаботится о подобных вещах за нас."
   ]
  },
  {
   "cell_type": "code",
   "execution_count": 33,
   "id": "92f03904",
   "metadata": {},
   "outputs": [
    {
     "name": "stdout",
     "output_type": "stream",
     "text": [
      "2023-07-18 12:19:16,601 INFO sqlalchemy.engine.Engine BEGIN (implicit)\n",
      "2023-07-18 12:19:16,602 INFO sqlalchemy.engine.Engine INSERT INTO address (user_id, email_address) VALUES ((SELECT user_account.id \n",
      "FROM user_account \n",
      "WHERE user_account.name = %(username__0)s), %(email_address__0)s), ((SELECT user_account.id \n",
      "FROM user_account \n",
      "WHERE user_account.name = %(username__1)s), %(email_address__1)s), ((SELECT user_account.id \n",
      "FROM user_account \n",
      "WHERE user_account.name = %(username__2)s), %(email_address__2)s)\n",
      "2023-07-18 12:19:16,602 INFO sqlalchemy.engine.Engine [generated in 0.00045s (insertmanyvalues) 1/1 (unordered)] {'email_address__0': 'spongebob@sqlalchemy.org', 'username__0': 'spongebob', 'email_address__1': 'sandy@sqlalchemy.org', 'username__1': 'sandy', 'email_address__2': 'sandy@squirrelpower.org', 'username__2': 'sandy'}\n",
      "2023-07-18 12:19:16,604 INFO sqlalchemy.engine.Engine COMMIT\n"
     ]
    }
   ],
   "source": [
    "from sqlalchemy import select, bindparam\n",
    "scalar_subq = (\n",
    "    select(user_table.c.id)\n",
    "    .where(user_table.c.name == bindparam(\"username\"))\n",
    "    .scalar_subquery()\n",
    ")\n",
    "\n",
    "with engine.connect() as conn:\n",
    "    result = conn.execute(\n",
    "        insert(address_table).values(user_id=scalar_subq),\n",
    "        [\n",
    "            {\n",
    "                \"username\": \"spongebob\",\n",
    "                \"email_address\": \"spongebob@sqlalchemy.org\",\n",
    "            },\n",
    "            {\"username\": \"sandy\", \"email_address\": \"sandy@sqlalchemy.org\"},\n",
    "            {\"username\": \"sandy\", \"email_address\": \"sandy@squirrelpower.org\"},\n",
    "        ],\n",
    "    )\n",
    "    conn.commit()"
   ]
  },
  {
   "cell_type": "markdown",
   "id": "b13514f3",
   "metadata": {},
   "source": [
    "`INSERT...RETURNING`\n",
    "\n",
    "Предложение `RETURNING` для поддерживаемых *бэкендов* используется автоматически для получения последнего вставленного значения первичного ключа, а также значений для умолчаний сервера. Однако условие `RETURNING` может быть задано и явно с помощью метода `Insert.returning()`; в этом случае объект `Result`, возвращаемый при выполнении оператора, содержит строки, которые могут быть извлечены:"
   ]
  },
  {
   "cell_type": "code",
   "execution_count": 34,
   "id": "74bc1f40",
   "metadata": {},
   "outputs": [
    {
     "name": "stdout",
     "output_type": "stream",
     "text": [
      "INSERT INTO address (id, user_id, email_address) VALUES (:id, :user_id, :email_address) RETURNING address.id, address.email_address\n"
     ]
    },
    {
     "data": {
      "text/plain": [
       "'\\nINSERT INTO address (id, user_id, email_address)\\nVALUES (:id, :user_id, :email_address)\\nRETURNING address.id, address.email_address\\n'"
      ]
     },
     "execution_count": 34,
     "metadata": {},
     "output_type": "execute_result"
    }
   ],
   "source": [
    "insert_stmt = insert(address_table).returning(\n",
    "    address_table.c.id, address_table.c.email_address\n",
    ")\n",
    "print(insert_stmt)\n",
    "\n",
    "'''\n",
    "INSERT INTO address (id, user_id, email_address)\n",
    "VALUES (:id, :user_id, :email_address)\n",
    "RETURNING address.id, address.email_address\n",
    "'''"
   ]
  },
  {
   "cell_type": "markdown",
   "id": "d940954b",
   "metadata": {},
   "source": [
    "Его также можно комбинировать с `Insert.from_select()`, как в приведенном ниже примере, развивающем пример, изложенный в `INSERT...FROM SELECT`:"
   ]
  },
  {
   "cell_type": "code",
   "execution_count": 35,
   "id": "fc7ba28a",
   "metadata": {},
   "outputs": [
    {
     "name": "stdout",
     "output_type": "stream",
     "text": [
      "INSERT INTO address (user_id, email_address) SELECT user_account.id, user_account.name || :name_1 AS anon_1 \n",
      "FROM user_account RETURNING address.id, address.email_address\n"
     ]
    }
   ],
   "source": [
    "select_stmt = select(user_table.c.id, user_table.c.name + \"@aol.com\")\n",
    "insert_stmt = insert(address_table).from_select(\n",
    "    [\"user_id\", \"email_address\",], select_stmt\n",
    ")\n",
    "print(insert_stmt.returning(address_table.c.id, address_table.c.email_address))"
   ]
  },
  {
   "cell_type": "markdown",
   "id": "71a55479",
   "metadata": {},
   "source": [
    "`INSERT...FROM SELECT`\n",
    "\n",
    "Менее используемая возможность `Insert`, но приведенная здесь для полноты картины, конструкция `Insert` может составлять `INSERT`, получающий строки непосредственно из `SELECT` с помощью метода `Insert.from_select()`. Этот метод принимает конструкцию `select()`, которая рассматривается в следующем разделе, а также список имен столбцов, на которые будет ориентирована `INSERT`. В приведенном ниже примере в таблицу `address` добавляются строки, полученные из строк таблицы `user_account`, в результате чего каждый пользователь получает бесплатный адрес электронной почты на сайте aol.com:"
   ]
  },
  {
   "cell_type": "code",
   "execution_count": 36,
   "id": "aae3c9d2",
   "metadata": {},
   "outputs": [
    {
     "name": "stdout",
     "output_type": "stream",
     "text": [
      "INSERT INTO address (user_id, email_address) SELECT user_account.id, user_account.name || :name_1 AS anon_1 \n",
      "FROM user_account\n"
     ]
    }
   ],
   "source": [
    "select_stmt = select(user_table.c.id, user_table.c.name + \"@aol.com\")\n",
    "insert_stmt = insert(address_table).from_select(\n",
    "    [\"user_id\", \"email_address\"], select_stmt\n",
    ")\n",
    "print(insert_stmt)"
   ]
  },
  {
   "cell_type": "markdown",
   "id": "ff2e312b",
   "metadata": {},
   "source": [
    "Эта конструкция используется в тех случаях, когда требуется скопировать данные из другой части базы данных непосредственно в новый набор строк, без необходимости получения и повторной отправки данных от клиента."
   ]
  },
  {
   "cell_type": "markdown",
   "id": "ab3e6b0c",
   "metadata": {},
   "source": [
    "Конструкция SQL-выражения select()\n",
    "\n",
    "Как в `Core`, так и в `ORM` функция `select()` генерирует конструкцию [Select](https://docs.sqlalchemy.org/en/20/core/selectable.html#sqlalchemy.sql.expression.select), которая используется для всех запросов `SELECT`. Переданный в такие методы, как [Connection.execute()](https://docs.sqlalchemy.org/en/20/core/connections.html#sqlalchemy.engine.Connection.execute) в Core и [Session.execute()](https://docs.sqlalchemy.org/en/20/orm/session_api.html#sqlalchemy.orm.Session.execute) в ORM, оператор SELECT выполняется в текущей транзакции, а строки результатов доступны через возвращаемый объект [Result](https://docs.sqlalchemy.org/en/20/core/connections.html#sqlalchemy.engine.Result).\n",
    "\n",
    "Читателям ORM - приведенные здесь материалы одинаково хорошо применимы как к Core, так и к ORM, и здесь описаны основные варианты использования ORM. Однако существует и множество других возможностей, специфичных для ORM; они описаны в [ORM Querying Guide](https://docs.sqlalchemy.org/en/20/orm/queryguide/index.html).\n",
    "\n",
    "Конструкция `select()` строит выражения так же, как и `insert()`, используя [генеративный](https://docs.sqlalchemy.org/en/20/glossary.html#term-generative) подход, когда каждый метод наращивает состояние объекта. Как и другие конструкции SQL, она может быть построена на месте:"
   ]
  },
  {
   "cell_type": "code",
   "execution_count": 37,
   "id": "09ba4dc5",
   "metadata": {},
   "outputs": [
    {
     "name": "stdout",
     "output_type": "stream",
     "text": [
      "SELECT user_account.id, user_account.name, user_account.fullname \n",
      "FROM user_account \n",
      "WHERE user_account.name = :name_1\n"
     ]
    }
   ],
   "source": [
    "from sqlalchemy import select\n",
    "stmt = select(user_table).where(user_table.c.name == 'spongebob')\n",
    "print(stmt)"
   ]
  },
  {
   "cell_type": "markdown",
   "id": "2d587589",
   "metadata": {},
   "source": [
    "Также, как и все остальные конструкции SQL на уровне оператора, для фактического выполнения оператора мы передаем его в метод выполнения (execute). Поскольку оператор `SELECT` возвращает строки, мы всегда можем выполнить итерацию объекта `result`, чтобы получить обратно объекты [Row](https://docs.sqlalchemy.org/en/20/core/connections.html#sqlalchemy.engine.Row):"
   ]
  },
  {
   "cell_type": "code",
   "execution_count": 38,
   "id": "495a8c8d",
   "metadata": {},
   "outputs": [
    {
     "name": "stdout",
     "output_type": "stream",
     "text": [
      "2023-07-18 12:19:16,621 INFO sqlalchemy.engine.Engine BEGIN (implicit)\n",
      "2023-07-18 12:19:16,622 INFO sqlalchemy.engine.Engine SELECT user_account.id, user_account.name, user_account.fullname \n",
      "FROM user_account \n",
      "WHERE user_account.name = %(name_1)s\n",
      "2023-07-18 12:19:16,622 INFO sqlalchemy.engine.Engine [generated in 0.00057s] {'name_1': 'spongebob'}\n",
      "(1, 'spongebob', 'Spongebob Squarepants')\n",
      "2023-07-18 12:19:16,623 INFO sqlalchemy.engine.Engine ROLLBACK\n"
     ]
    }
   ],
   "source": [
    "with engine.connect() as conn:\n",
    "    for row in conn.execute(stmt):\n",
    "        print(row)\n"
   ]
  },
  {
   "cell_type": "markdown",
   "id": "9f5332c1",
   "metadata": {},
   "source": [
    "При использовании ORM, в частности, конструкции `select()`, состоящей из ORM-сущностей, мы хотим выполнить ее с помощью метода `Session.execute()` на `Session`; при таком подходе мы продолжаем получать объекты `Row` из результата, однако эти строки теперь могут включать полные сущности, такие как **экземпляры класса** `User`, в качестве отдельных элементов в каждой строке:"
   ]
  },
  {
   "cell_type": "code",
   "execution_count": 39,
   "id": "fb217eb6",
   "metadata": {},
   "outputs": [
    {
     "name": "stdout",
     "output_type": "stream",
     "text": [
      "2023-07-18 12:19:16,626 INFO sqlalchemy.engine.Engine BEGIN (implicit)\n",
      "2023-07-18 12:19:16,628 INFO sqlalchemy.engine.Engine SELECT user_account.id, user_account.name, user_account.fullname \n",
      "FROM user_account \n",
      "WHERE user_account.name = %(name_1)s\n",
      "2023-07-18 12:19:16,629 INFO sqlalchemy.engine.Engine [generated in 0.00036s] {'name_1': 'spongebob'}\n",
      "(User(id=1, name='spongebob', fullname='Spongebob Squarepants'),)\n",
      "2023-07-18 12:19:16,629 INFO sqlalchemy.engine.Engine ROLLBACK\n"
     ]
    }
   ],
   "source": [
    "stmt = select(User).where(User.name == 'spongebob')\n",
    "with Session(engine) as session:\n",
    "    for row in session.execute(stmt):\n",
    "        print(row)"
   ]
  },
  {
   "cell_type": "markdown",
   "id": "2bc16b1f",
   "metadata": {},
   "source": [
    "Функция `select()` принимает позиционные элементы, представляющие любое количество выражений типа `Column` и/или `Table`, а также широкий спектр совместимых объектов, которые преобразуются в список SQL-выражений, подлежащих `ВЫБОРУ`, которые будут возвращены в качестве столбцов в наборе результатов. В более простых случаях эти элементы также служат для создания предложения `FROM`, которое выводится из переданных столбцов и табличных выражений:"
   ]
  },
  {
   "cell_type": "code",
   "execution_count": 40,
   "id": "14bcf953",
   "metadata": {},
   "outputs": [
    {
     "name": "stdout",
     "output_type": "stream",
     "text": [
      "SELECT user_account.id, user_account.name, user_account.fullname \n",
      "FROM user_account\n"
     ]
    }
   ],
   "source": [
    "print(select(user_table))"
   ]
  },
  {
   "cell_type": "markdown",
   "id": "491ddb8a",
   "metadata": {},
   "source": [
    "Для `SELECT` из отдельных столбцов с использованием подхода Core объекты `Column` доступны из аксессора `Table.c` и могут быть отправлены напрямую; предложение FROM будет выведено как набор всех объектов `Table` и других объектов [FromClause](https://docs.sqlalchemy.org/en/20/core/selectable.html#sqlalchemy.sql.expression.FromClause), которые представлены этими столбцами:"
   ]
  },
  {
   "cell_type": "code",
   "execution_count": 41,
   "id": "5c73ea8f",
   "metadata": {},
   "outputs": [
    {
     "name": "stdout",
     "output_type": "stream",
     "text": [
      "SELECT user_account.name, user_account.fullname \n",
      "FROM user_account\n"
     ]
    }
   ],
   "source": [
    "print(select(user_table.c.name, user_table.c.fullname))"
   ]
  },
  {
   "cell_type": "markdown",
   "id": "18d82da8",
   "metadata": {},
   "source": [
    "В качестве альтернативы, при использовании коллекции [FromClause.c](https://docs.sqlalchemy.org/en/20/core/selectable.html#sqlalchemy.sql.expression.FromClause.c) любого [FromClause](https://docs.sqlalchemy.org/en/20/core/selectable.html#sqlalchemy.sql.expression.FromClause), например `Table`, для `select()` можно указать несколько столбцов, используя кортеж строковых имен:"
   ]
  },
  {
   "cell_type": "code",
   "execution_count": 42,
   "id": "66f8d558",
   "metadata": {},
   "outputs": [
    {
     "name": "stdout",
     "output_type": "stream",
     "text": [
      "SELECT user_account.name, user_account.fullname \n",
      "FROM user_account\n"
     ]
    }
   ],
   "source": [
    "print(select(user_table.c[\"name\", \"fullname\"]))"
   ]
  },
  {
   "cell_type": "markdown",
   "id": "5af5c25f",
   "metadata": {},
   "source": [
    "Выбор сущностей и столбцов ORM\n",
    "\n",
    "ORM-сущности, такие как наш класс `User`, а также привязанные к нему атрибуты столбцов, например `User.name`, также участвуют в системе языка `SQL Expression Language`, представляя таблицы и столбцы. Ниже приведен пример `SELECT` из сущности `User`, который в итоге выглядит так же, как если бы мы использовали непосредственно `user_table`:"
   ]
  },
  {
   "cell_type": "code",
   "execution_count": 43,
   "id": "19160196",
   "metadata": {},
   "outputs": [
    {
     "name": "stdout",
     "output_type": "stream",
     "text": [
      "SELECT user_account.id, user_account.name, user_account.fullname \n",
      "FROM user_account\n"
     ]
    }
   ],
   "source": [
    "print(select(User))"
   ]
  },
  {
   "cell_type": "markdown",
   "id": "3126f760",
   "metadata": {},
   "source": [
    "При выполнении оператора, подобного приведенному выше, с помощью метода `ORM Session.execute()` есть важное отличие, когда мы выбираем из полной сущности, такой как `User`, в отличие от `user_table`, которое заключается в том, что сама сущность возвращается в виде одного элемента в каждой строке. То есть при выборке строк из приведенного выше оператора, поскольку в списке объектов для выборки присутствует только сущность `User`, мы получаем обратно объекты `Row`, имеющие только один элемент, содержащий экземпляры класса `User`:"
   ]
  },
  {
   "cell_type": "code",
   "execution_count": 44,
   "id": "b55e88c3",
   "metadata": {},
   "outputs": [
    {
     "name": "stdout",
     "output_type": "stream",
     "text": [
      "2023-07-18 12:19:16,649 INFO sqlalchemy.engine.Engine BEGIN (implicit)\n",
      "2023-07-18 12:19:16,649 INFO sqlalchemy.engine.Engine SELECT user_account.id, user_account.name, user_account.fullname \n",
      "FROM user_account\n",
      "2023-07-18 12:19:16,650 INFO sqlalchemy.engine.Engine [generated in 0.00024s] {}\n"
     ]
    }
   ],
   "source": [
    "row = session.execute(select(User)).first()"
   ]
  },
  {
   "cell_type": "code",
   "execution_count": 45,
   "id": "0561870f",
   "metadata": {},
   "outputs": [
    {
     "data": {
      "text/plain": [
       "(User(id=1, name='spongebob', fullname='Spongebob Squarepants'),)"
      ]
     },
     "execution_count": 45,
     "metadata": {},
     "output_type": "execute_result"
    }
   ],
   "source": [
    "row"
   ]
  },
  {
   "cell_type": "markdown",
   "id": "d30b0a7f",
   "metadata": {},
   "source": [
    "Приведенный выше Row содержит только один элемент, представляющий сущность `User`:"
   ]
  },
  {
   "cell_type": "code",
   "execution_count": 46,
   "id": "aecf9ed0",
   "metadata": {},
   "outputs": [
    {
     "data": {
      "text/plain": [
       "User(id=1, name='spongebob', fullname='Spongebob Squarepants')"
      ]
     },
     "execution_count": 46,
     "metadata": {},
     "output_type": "execute_result"
    }
   ],
   "source": [
    "row[0]"
   ]
  },
  {
   "cell_type": "markdown",
   "id": "fc05cc51",
   "metadata": {},
   "source": [
    "Для достижения того же результата, что и выше, **настоятельно рекомендуется использовать метод Session.scalars()** для непосредственного выполнения оператора; этот метод вернет объект [ScalarResult](https://docs.sqlalchemy.org/en/20/core/connections.html#sqlalchemy.engine.ScalarResult), который доставит сразу первый \"столбец\" каждой строки, в данном случае - экземпляры класса `User`:"
   ]
  },
  {
   "cell_type": "code",
   "execution_count": 47,
   "id": "c598e691",
   "metadata": {},
   "outputs": [
    {
     "name": "stdout",
     "output_type": "stream",
     "text": [
      "2023-07-18 12:19:16,660 INFO sqlalchemy.engine.Engine SELECT user_account.id, user_account.name, user_account.fullname \n",
      "FROM user_account\n",
      "2023-07-18 12:19:16,660 INFO sqlalchemy.engine.Engine [cached since 0.01057s ago] {}\n"
     ]
    }
   ],
   "source": [
    "user = session.scalars(select(User)).first()"
   ]
  },
  {
   "cell_type": "code",
   "execution_count": 48,
   "id": "2db1fb0b",
   "metadata": {},
   "outputs": [
    {
     "data": {
      "text/plain": [
       "User(id=1, name='spongebob', fullname='Spongebob Squarepants')"
      ]
     },
     "execution_count": 48,
     "metadata": {},
     "output_type": "execute_result"
    }
   ],
   "source": [
    "user"
   ]
  },
  {
   "cell_type": "markdown",
   "id": "e7b85e30",
   "metadata": {},
   "source": [
    "В качестве альтернативы мы можем выбирать отдельные столбцы сущности ORM как отдельные элементы в строках результатов, используя атрибуты, связанные с классом; когда они передаются в такую конструкцию, как `select()`, они преобразуются в `Column` или другое выражение SQL, представленное каждым атрибутом:"
   ]
  },
  {
   "cell_type": "code",
   "execution_count": 49,
   "id": "0807856f",
   "metadata": {},
   "outputs": [
    {
     "name": "stdout",
     "output_type": "stream",
     "text": [
      "SELECT user_account.name, user_account.fullname \n",
      "FROM user_account\n"
     ]
    }
   ],
   "source": [
    "print(select(User.name, User.fullname))"
   ]
  },
  {
   "cell_type": "markdown",
   "id": "7f31263e",
   "metadata": {},
   "source": [
    "Когда мы вызываем этот оператор с помощью `Session.execute()`, то получаем строки, содержащие отдельные элементы на каждое значение, каждый из которых соответствует отдельному столбцу или другому выражению SQL:"
   ]
  },
  {
   "cell_type": "code",
   "execution_count": 50,
   "id": "8dcfc4fc",
   "metadata": {},
   "outputs": [
    {
     "name": "stdout",
     "output_type": "stream",
     "text": [
      "2023-07-18 12:19:16,670 INFO sqlalchemy.engine.Engine SELECT user_account.name, user_account.fullname \n",
      "FROM user_account\n",
      "2023-07-18 12:19:16,670 INFO sqlalchemy.engine.Engine [generated in 0.00056s] {}\n"
     ]
    },
    {
     "data": {
      "text/plain": [
       "('spongebob', 'Spongebob Squarepants')"
      ]
     },
     "execution_count": 50,
     "metadata": {},
     "output_type": "execute_result"
    }
   ],
   "source": [
    "row = session.execute(select(User.name, User.fullname)).first()\n",
    "row"
   ]
  },
  {
   "cell_type": "markdown",
   "id": "7421739f",
   "metadata": {},
   "source": [
    "Эти подходы можно также смешивать, как показано ниже, где мы выбираем атрибут name сущности `User` в качестве первого элемента строки и объединяем его с полной сущностью `Address` во втором элементе:"
   ]
  },
  {
   "cell_type": "code",
   "execution_count": 51,
   "id": "55eb25e7",
   "metadata": {},
   "outputs": [
    {
     "name": "stdout",
     "output_type": "stream",
     "text": [
      "2023-07-18 12:19:16,675 INFO sqlalchemy.engine.Engine SELECT user_account.name, address.id, address.email_address, address.user_id \n",
      "FROM user_account, address \n",
      "WHERE user_account.id = address.user_id ORDER BY address.id\n",
      "2023-07-18 12:19:16,676 INFO sqlalchemy.engine.Engine [generated in 0.00041s] {}\n"
     ]
    },
    {
     "data": {
      "text/plain": [
       "[('spongebob', Address(id=1, email_address='spongebob@sqlalchemy.org')),\n",
       " ('sandy', Address(id=2, email_address='sandy@sqlalchemy.org')),\n",
       " ('sandy', Address(id=3, email_address='sandy@squirrelpower.org'))]"
      ]
     },
     "execution_count": 51,
     "metadata": {},
     "output_type": "execute_result"
    }
   ],
   "source": [
    "session.execute(\n",
    "    select(User.name, Address).where(User.id == Address.user_id).order_by(Address.id)\n",
    ").all()"
   ]
  },
  {
   "cell_type": "markdown",
   "id": "de1fffea",
   "metadata": {},
   "source": [
    "Подходы к выбору ORM-сущностей и столбцов, а также общие методы преобразования строк рассматриваются далее в разделе [Выбор ORM-сущностей и атрибутов](https://docs.sqlalchemy.org/en/20/orm/queryguide/select.html#orm-queryguide-select-columns)).\n",
    "\n",
    "См. также:\n",
    "    [Выбор сущностей и атрибутов ORM](https://docs.sqlalchemy.org/en/20/orm/queryguide/select.html#orm-queryguide-select-columns) - в [руководстве по созданию запросов ORM](https://docs.sqlalchemy.org/en/20/orm/queryguide/index.html)"
   ]
  },
  {
   "cell_type": "markdown",
   "id": "609aaeae",
   "metadata": {},
   "source": [
    "Выборка из маркированных выражений SQL\n",
    "\n",
    "Метод `ColumnElement.label()`, а также одноименный метод, доступный для ORM-атрибутов, обеспечивают SQL-метку столбца или выражения, позволяя ему иметь определенное имя в наборе результатов. Это может быть полезно при обращении к произвольным SQL-выражениям в строке результата по имени:"
   ]
  },
  {
   "cell_type": "code",
   "execution_count": 52,
   "id": "29839a87",
   "metadata": {},
   "outputs": [
    {
     "name": "stdout",
     "output_type": "stream",
     "text": [
      "2023-07-18 12:19:16,683 INFO sqlalchemy.engine.Engine BEGIN (implicit)\n",
      "2023-07-18 12:19:16,684 INFO sqlalchemy.engine.Engine SELECT %(name_1)s || user_account.name AS username \n",
      "FROM user_account ORDER BY user_account.name\n",
      "2023-07-18 12:19:16,684 INFO sqlalchemy.engine.Engine [generated in 0.00049s] {'name_1': 'Username: '}\n",
      "Username: patrick\n",
      "Username: sandy\n",
      "Username: skwidward\n",
      "Username: spongebob\n",
      "2023-07-18 12:19:16,685 INFO sqlalchemy.engine.Engine ROLLBACK\n"
     ]
    }
   ],
   "source": [
    "from sqlalchemy import cast\n",
    "stmt = select(\n",
    "    (\"Username: \" + user_table.c.name).label(\"username\"),\n",
    ").order_by(user_table.c.name)\n",
    "with engine.connect() as conn:\n",
    "    for row in conn.execute(stmt):\n",
    "        print(f\"{row.username}\")"
   ]
  },
  {
   "cell_type": "markdown",
   "id": "b6fef1e9",
   "metadata": {},
   "source": [
    "См. также: [Упорядочивание или группировка по метке](https://docs.sqlalchemy.org/en/20/tutorial/data_select.html#tutorial-order-by-label) - имена меток, которые мы создаем, могут также использоваться в предложении `ORDER BY` или `GROUP BY` в `Select`."
   ]
  },
  {
   "cell_type": "markdown",
   "id": "2d1d6cec",
   "metadata": {},
   "source": [
    "Выделение с помощью текстовых выражений столбцов.\n",
    "\n",
    "Когда мы строим объект `Select` с помощью функции `select()`, мы обычно передаем ему ряд объектов `Table` и `Column`, которые были определены с помощью [метаданных таблицы](https://docs.sqlalchemy.org/en/20/tutorial/metadata.html#tutorial-working-with-metadata), или при использовании ORM мы можем передавать ORM-mapped атрибуты, представляющие столбцы таблицы. Однако иногда возникает необходимость в создании произвольных SQL-блоков внутри операторов, например, константных строковых выражений или просто произвольного SQL, который быстрее написать буквально.\n",
    "\n",
    "Конструкция `text()`, представленная в разделе Работа с транзакциями и DBAPI, может быть встроена непосредственно в конструкцию `Select`, как показано ниже, где мы создаем жестко закодированный строковый литерал 'some phrase' и вставляем его в оператор `SELECT`:"
   ]
  },
  {
   "cell_type": "code",
   "execution_count": 53,
   "id": "1ad5f660",
   "metadata": {},
   "outputs": [
    {
     "name": "stdout",
     "output_type": "stream",
     "text": [
      "2023-07-18 12:19:16,689 INFO sqlalchemy.engine.Engine BEGIN (implicit)\n",
      "2023-07-18 12:19:16,689 INFO sqlalchemy.engine.Engine SELECT 'some phrase', user_account.name \n",
      "FROM user_account ORDER BY user_account.name\n",
      "2023-07-18 12:19:16,689 INFO sqlalchemy.engine.Engine [generated in 0.00078s] {}\n",
      "[('some phrase', 'patrick'), ('some phrase', 'sandy'), ('some phrase', 'skwidward'), ('some phrase', 'spongebob')]\n",
      "2023-07-18 12:19:16,690 INFO sqlalchemy.engine.Engine ROLLBACK\n"
     ]
    }
   ],
   "source": [
    "from sqlalchemy import text\n",
    "stmt = select(text(\"'some phrase'\"), user_table.c.name).order_by(user_table.c.name)\n",
    "with engine.connect() as conn:\n",
    "    print(conn.execute(stmt).all())"
   ]
  },
  {
   "cell_type": "markdown",
   "id": "0bbc292d",
   "metadata": {},
   "source": [
    "Хотя конструкция `text()` в большинстве случаев может использоваться для введения буквальных фраз SQL, чаще всего мы имеем дело с текстовыми единицами, каждая из которых представляет собой отдельное выражение столбца. В этом случае мы можем получить больше функциональности от нашего текстового фрагмента, используя вместо него конструкцию [literal_column()](https://docs.sqlalchemy.org/en/20/core/sqlelement.html#sqlalchemy.sql.expression.literal_column). Этот объект аналогичен `text()`, но вместо того, чтобы представлять произвольный SQL в любой форме, он явно представляет один \"столбец\", который затем может быть помечен и на него можно ссылаться в подзапросах и других выражениях:"
   ]
  },
  {
   "cell_type": "code",
   "execution_count": 54,
   "id": "5a4f2c00",
   "metadata": {},
   "outputs": [
    {
     "name": "stdout",
     "output_type": "stream",
     "text": [
      "2023-07-18 12:19:16,694 INFO sqlalchemy.engine.Engine BEGIN (implicit)\n",
      "2023-07-18 12:19:16,694 INFO sqlalchemy.engine.Engine SELECT 'some phrase' AS p, user_account.name \n",
      "FROM user_account ORDER BY user_account.name\n",
      "2023-07-18 12:19:16,695 INFO sqlalchemy.engine.Engine [generated in 0.00069s] {}\n",
      "some phrase, patrick\n",
      "some phrase, sandy\n",
      "some phrase, skwidward\n",
      "some phrase, spongebob\n",
      "2023-07-18 12:19:16,695 INFO sqlalchemy.engine.Engine ROLLBACK\n"
     ]
    }
   ],
   "source": [
    "from sqlalchemy import literal_column\n",
    "stmt = select(literal_column(\"'some phrase'\").label(\"p\"), user_table.c.name).order_by(\n",
    "    user_table.c.name\n",
    ")\n",
    "with engine.connect() as conn:\n",
    "    for row in conn.execute(stmt):\n",
    "        print(f\"{row.p}, {row.name}\")"
   ]
  },
  {
   "cell_type": "markdown",
   "id": "98416db8",
   "metadata": {},
   "source": [
    "SQLAlchemy позволяет составлять SQL-выражения, такие как `name = 'squidward'` или `user_id > 10`, используя стандартные операторы Python в сочетании с `Column` и подобными объектами. Для булевых выражений большинство операторов Python, таких как `==, !=, <, >=` и т.д., генерируют новые объекты `SQL Expression`, а не простые булевые значения `True/False`:"
   ]
  },
  {
   "cell_type": "code",
   "execution_count": 55,
   "id": "9ebe65cc",
   "metadata": {},
   "outputs": [
    {
     "name": "stdout",
     "output_type": "stream",
     "text": [
      "user_account.name = :name_1\n"
     ]
    }
   ],
   "source": [
    "print(user_table.c.name == 'squidward')"
   ]
  },
  {
   "cell_type": "code",
   "execution_count": 56,
   "id": "f9834307",
   "metadata": {},
   "outputs": [
    {
     "name": "stdout",
     "output_type": "stream",
     "text": [
      "address.user_id > :user_id_1\n"
     ]
    }
   ],
   "source": [
    "print(address_table.c.user_id > 10)"
   ]
  },
  {
   "cell_type": "markdown",
   "id": "d128ecfc",
   "metadata": {},
   "source": [
    "Мы можем использовать подобные выражение, в конструкцияхъ выражения `WHERE`, передавая полученные выше выражения в `Select.where()`:"
   ]
  },
  {
   "cell_type": "code",
   "execution_count": 57,
   "id": "b955c723",
   "metadata": {},
   "outputs": [
    {
     "name": "stdout",
     "output_type": "stream",
     "text": [
      "SELECT user_account.id, user_account.name, user_account.fullname \n",
      "FROM user_account \n",
      "WHERE user_account.name = :name_1\n"
     ]
    }
   ],
   "source": [
    "print(select(user_table).where(user_table.c.name == 'squidward'))"
   ]
  },
  {
   "cell_type": "markdown",
   "id": "2d0bcf3d",
   "metadata": {},
   "source": [
    "При нескольких таких выражениях, мы можем объединить их подобно `AND`, в данном случае мы несколько раз вызываем `Select.where()`:"
   ]
  },
  {
   "cell_type": "code",
   "execution_count": 58,
   "id": "b5e1bfeb",
   "metadata": {},
   "outputs": [
    {
     "name": "stdout",
     "output_type": "stream",
     "text": [
      "SELECT address.email_address \n",
      "FROM address, user_account \n",
      "WHERE user_account.name = :name_1 AND address.user_id = user_account.id\n"
     ]
    }
   ],
   "source": [
    "print(\n",
    "    select(address_table.c.email_address)\n",
    "    .where(user_table.c.name == \"squidward\")\n",
    "    .where(address_table.c.user_id == user_table.c.id)\n",
    ")"
   ]
  },
  {
   "cell_type": "markdown",
   "id": "deaebe5f",
   "metadata": {},
   "source": [
    "Но мы также можем получить точно такое же выражение, что выше, вызвав `Select.where()` один раз:"
   ]
  },
  {
   "cell_type": "code",
   "execution_count": 59,
   "id": "195f0bd7",
   "metadata": {},
   "outputs": [
    {
     "name": "stdout",
     "output_type": "stream",
     "text": [
      "SELECT address.email_address \n",
      "FROM address, user_account \n",
      "WHERE user_account.name = :name_1 AND address.user_id = user_account.id\n"
     ]
    }
   ],
   "source": [
    "print(\n",
    "    select(address_table.c.email_address).where(\n",
    "        user_table.c.name == 'squidward',\n",
    "        address_table.c.user_id == user_table.c.id,\n",
    "    )\n",
    ")"
   ]
  },
  {
   "cell_type": "markdown",
   "id": "78f11d7a",
   "metadata": {},
   "source": [
    "В результате получаем точно такое же SQL выражение, в случае когда мы использовали два раза `Select.where()`."
   ]
  },
  {
   "cell_type": "markdown",
   "id": "1692bf2c",
   "metadata": {},
   "source": [
    "Конъюнкции \"`AND`\" и \"`OR`\" доступны непосредственно с помощью функций `and_()` и `or_()`, что иллюстрируется ниже в терминах сущностей ORM:"
   ]
  },
  {
   "cell_type": "code",
   "execution_count": 60,
   "id": "c8f6d10c",
   "metadata": {},
   "outputs": [
    {
     "name": "stdout",
     "output_type": "stream",
     "text": [
      "SELECT address.email_address \n",
      "FROM address, user_account \n",
      "WHERE (user_account.name = :name_1 OR user_account.name = :name_2) AND address.user_id = user_account.id\n"
     ]
    }
   ],
   "source": [
    "from sqlalchemy import and_, or_\n",
    "\n",
    "print(\n",
    "\n",
    "    select(Address.email_address)\n",
    "    .where(and_(or_(User.name == 'squidward', User.name == 'sandy'), Address.user_id == User.id))\n",
    "    \n",
    ")\n"
   ]
  },
  {
   "cell_type": "markdown",
   "id": "10244a89",
   "metadata": {},
   "source": [
    "Для простого сравнения \"на равенство\" с одной сущностью существует также популярный метод [Select.filter_by()](https://docs.sqlalchemy.org/en/20/core/selectable.html#sqlalchemy.sql.expression.Select.filter_by), который принимает аргументы в виде ключевых слов, совпадающих с ключами столбцов или именами атрибутов ORM. Он выполняет фильтрацию по крайнему левому предложению FROM или по последней присоединенной сущности:"
   ]
  },
  {
   "cell_type": "code",
   "execution_count": 61,
   "id": "28ca780c",
   "metadata": {},
   "outputs": [
    {
     "name": "stdout",
     "output_type": "stream",
     "text": [
      "SELECT user_account.id, user_account.name, user_account.fullname \n",
      "FROM user_account \n",
      "WHERE user_account.name = :name_1 AND user_account.fullname = :fullname_1\n"
     ]
    }
   ],
   "source": [
    "print(select(User).filter_by(name='spongebob', fullname='Spongebob Squarepants'))"
   ]
  },
  {
   "cell_type": "markdown",
   "id": "ce88c0d0",
   "metadata": {},
   "source": [
    "\n",
    "см. также [operator reference](https://docs.sqlalchemy.org/en/20/core/operators.html) - описание большинства функций операторов SQL в SQLAlchemy."
   ]
  },
  {
   "cell_type": "markdown",
   "id": "6bb989b0",
   "metadata": {},
   "source": []
  },
  {
   "cell_type": "markdown",
   "id": "6f19907a",
   "metadata": {},
   "source": [
    "Явные предложения `FROM` и `JOIN'ы`.\n",
    "\n",
    "Как уже говорилось, предложение `FROM` обычно **выводится** на основе выражений, которые мы задаем в предложении `columns`, а также других элементов `Select`."
   ]
  },
  {
   "cell_type": "code",
   "execution_count": 62,
   "id": "33abfa07",
   "metadata": {},
   "outputs": [
    {
     "name": "stdout",
     "output_type": "stream",
     "text": [
      "SELECT user_account.name \n",
      "FROM user_account\n"
     ]
    }
   ],
   "source": [
    "print(select(user_table.c.name))"
   ]
  },
  {
   "cell_type": "markdown",
   "id": "39b4268c",
   "metadata": {},
   "source": [
    "Если мы поместим столбцы из двух таблиц, то получим предложение `FROM`, разделенное запятыми:"
   ]
  },
  {
   "cell_type": "code",
   "execution_count": 63,
   "id": "7b0f5e7a",
   "metadata": {},
   "outputs": [
    {
     "name": "stdout",
     "output_type": "stream",
     "text": [
      "SELECT user_account.name, address.email_address \n",
      "FROM user_account, address\n"
     ]
    }
   ],
   "source": [
    "print(select(user_table.c.name, address_table.c.email_address))"
   ]
  },
  {
   "cell_type": "markdown",
   "id": "64881763",
   "metadata": {},
   "source": [
    "Для того чтобы соединить эти две таблицы, мы обычно используем один из двух методов `Select`. Первый - это метод [Select.join_from()](https://docs.sqlalchemy.org/en/20/core/selectable.html#sqlalchemy.sql.expression.Select.join_from), который позволяет нам явно указать левую и правую стороны `JOIN`:"
   ]
  },
  {
   "cell_type": "code",
   "execution_count": 64,
   "id": "f374720d",
   "metadata": {},
   "outputs": [
    {
     "name": "stdout",
     "output_type": "stream",
     "text": [
      "SELECT user_account.name, address.email_address \n",
      "FROM user_account JOIN address ON user_account.id = address.user_id\n"
     ]
    }
   ],
   "source": [
    "print(\n",
    "    select(user_table.c.name, address_table.c.email_address).join_from(\n",
    "        user_table, address_table\n",
    "    )\n",
    ")\n"
   ]
  },
  {
   "cell_type": "markdown",
   "id": "f5b462e4",
   "metadata": {},
   "source": [
    "Другой метод - [Select.join()](https://docs.sqlalchemy.org/en/20/core/selectable.html#sqlalchemy.sql.expression.Select.join), который указывает только правую часть `JOIN`, а левая часть выводится:"
   ]
  },
  {
   "cell_type": "code",
   "execution_count": 65,
   "id": "66953e2d",
   "metadata": {},
   "outputs": [
    {
     "name": "stdout",
     "output_type": "stream",
     "text": [
      "SELECT user_account.name, address.email_address \n",
      "FROM user_account JOIN address ON user_account.id = address.user_id\n"
     ]
    }
   ],
   "source": [
    "print(\n",
    "    select(user_table.c.name, address_table.c.email_address).join(\n",
    "        address_table\n",
    "    )\n",
    ")\n"
   ]
  },
  {
   "cell_type": "markdown",
   "id": "4b754142",
   "metadata": {},
   "source": [
    "При использовании `Select.join_from()` или `Select.join()` можно заметить, что в простых случаях с внешним ключом также подставляется предложение `ON` в объединение. Подробнее об этом в следующем разделе."
   ]
  },
  {
   "cell_type": "markdown",
   "id": "2e86ba16",
   "metadata": {},
   "source": []
  },
  {
   "cell_type": "markdown",
   "id": "eea0c67a",
   "metadata": {},
   "source": [
    "У нас также есть возможность добавлять элементы в предложение `FROM` явно, если они не выводятся нужным образом из предложения `columns` (тут речь идет про атрибут `c` у `Table`). Для этого мы используем метод `Select.select_from()`, как показано ниже, где мы устанавливаем `user_table` в качестве первого элемента в предложении `FROM`, а `Select.join()` устанавливает `address_table` в качестве второго:"
   ]
  },
  {
   "cell_type": "code",
   "execution_count": 67,
   "id": "ccbb39ca",
   "metadata": {},
   "outputs": [
    {
     "name": "stdout",
     "output_type": "stream",
     "text": [
      "SELECT address.email_address \n",
      "FROM user_account JOIN address ON user_account.id = address.user_id\n"
     ]
    }
   ],
   "source": [
    "print(\n",
    "    select(address_table.c.email_address).select_from(user_table).join(address_table)\n",
    ")"
   ]
  },
  {
   "cell_type": "markdown",
   "id": "45a4854d",
   "metadata": {},
   "source": [
    "Другой пример, когда мы можем захотеть использовать `Select.select_from()`, - это если наше предложение `columns` не содержит достаточно информации для предложения `FROM`. Например, для `SELECT` из распространенного SQL-выражения `count(*)` мы используем элемент SQLAlchemy, известный как `sqlalchemy.sql.expression.func`, для создания SQL-функции `count()`:"
   ]
  },
  {
   "cell_type": "code",
   "execution_count": 68,
   "id": "b762dc1b",
   "metadata": {},
   "outputs": [
    {
     "name": "stdout",
     "output_type": "stream",
     "text": [
      "SELECT count(:count_2) AS count_1 \n",
      "FROM user_account\n"
     ]
    }
   ],
   "source": [
    "from sqlalchemy import func\n",
    "print(select(\n",
    "    func.count(\"*\")\n",
    ").select_from(user_table))\n"
   ]
  },
  {
   "cell_type": "markdown",
   "id": "8c8ba94f",
   "metadata": {},
   "source": [
    "Установка положения ON.\n",
    "\n",
    "В предыдущих примерах `JOIN` было показано, что конструкция `Select` может соединять две таблицы и автоматически создавать предложение `ON`. В этих примерах это происходит потому, что табличные объекты `user_table` и `address_table` включают одно определение `ForeignKeyConstraint`, которое и используется для формирования этого предложения `ON`.\n",
    "\n",
    "Если левая и правая цели объединения не имеют таких ограничений или их несколько, то нам необходимо указать предложение `ON` напрямую. И `Select.join()`, и `Select.join_from()` принимают дополнительный аргумент для предложения `ON`, который задается с помощью той же механики SQL-выражений, о которой мы говорили в пункте `WHERE`:"
   ]
  },
  {
   "cell_type": "code",
   "execution_count": 69,
   "id": "c3dd739a",
   "metadata": {},
   "outputs": [
    {
     "name": "stdout",
     "output_type": "stream",
     "text": [
      "SELECT address.email_address \n",
      "FROM user_account JOIN address ON user_account.id = address.user_id\n"
     ]
    }
   ],
   "source": [
    "print(\n",
    "    select(address_table.c.email_address)\n",
    "    .select_from(user_table)\n",
    "    .join(address_table, user_table.c.id == address_table.c.user_id)\n",
    ")"
   ]
  },
  {
   "cell_type": "markdown",
   "id": "9f64e3a4",
   "metadata": {},
   "source": [
    "OUTER and FULL join\n",
    "Оба метода `Select.join()` и `Select.join_from()` принимают ключевые аргументы `Select.join.isouter` и `Select.join.full`, которые приводят к появлению `LEFT OUTER JOIN` и `FULL OUTER JOIN` соответственно:"
   ]
  },
  {
   "cell_type": "code",
   "execution_count": 70,
   "id": "62bc87d5",
   "metadata": {},
   "outputs": [
    {
     "name": "stdout",
     "output_type": "stream",
     "text": [
      "SELECT user_account.id, user_account.name, user_account.fullname \n",
      "FROM user_account LEFT OUTER JOIN address ON user_account.id = address.user_id\n"
     ]
    }
   ],
   "source": [
    "print(select(user_table).join(address_table, isouter=True))"
   ]
  },
  {
   "cell_type": "code",
   "execution_count": 71,
   "id": "6cf341b2",
   "metadata": {},
   "outputs": [
    {
     "name": "stdout",
     "output_type": "stream",
     "text": [
      "SELECT user_account.id, user_account.name, user_account.fullname \n",
      "FROM user_account FULL OUTER JOIN address ON user_account.id = address.user_id\n"
     ]
    }
   ],
   "source": [
    "print(select(user_table).join(address_table, full=True))"
   ]
  },
  {
   "cell_type": "markdown",
   "id": "658e4594",
   "metadata": {},
   "source": [
    "В SQL также существует \"`RIGHT OUTER JOIN`\". SQLAlchemy не позволяет сделать это напрямую; вместо этого следует изменить порядок таблиц и использовать \"`LEFT OUTER JOIN`\"."
   ]
  },
  {
   "cell_type": "markdown",
   "id": "7b644209",
   "metadata": {},
   "source": [
    "Существует также метод `Select.outerjoin()`, который эквивалентен использованию `.join(..., isouter=True)`."
   ]
  },
  {
   "cell_type": "markdown",
   "id": "92e69f6f",
   "metadata": {},
   "source": [
    "ORDER BY, GROUP BY, HAVING.\n",
    "\n",
    "SQL-оператор `SELECT` содержит предложение `ORDER BY`, которое используется для возврата выбранных строк в заданном порядке.\n",
    "\n",
    "Предложение `GROUP BY` строится аналогично предложению `ORDER BY` и предназначено для разделения выбранных строк на определенные группы, для которых могут быть вызваны агрегатные функции. Предложение `HAVING` обычно используется вместе с `GROUP BY` и по форме аналогично предложению `WHERE`, за исключением того, что оно применяется к агрегированным функциям, используемым внутри групп.\n",
    "\n",
    "`ORDER BY`\n",
    "\n",
    "Предложение `ORDER BY` строится в терминах конструкций SQL Expression, обычно основанных на `Column` или аналогичных объектах. Метод `Select.order_by()` позиционно принимает одно или несколько таких выражений:"
   ]
  },
  {
   "cell_type": "code",
   "execution_count": 72,
   "id": "83874945",
   "metadata": {},
   "outputs": [
    {
     "name": "stdout",
     "output_type": "stream",
     "text": [
      "SELECT user_account.id, user_account.name, user_account.fullname \n",
      "FROM user_account ORDER BY user_account.name\n"
     ]
    }
   ],
   "source": [
    "print(\n",
    "    select(user_table).order_by(user_table.c.name)\n",
    ")"
   ]
  },
  {
   "cell_type": "markdown",
   "id": "f81fcab6",
   "metadata": {},
   "source": [
    "`ASC / DESC` доступно с помощью модификаторов `ColumnElement.asc()` и `ColumnElement.desc()`, которые присутствуют и у ORM-связанных атрибутов:"
   ]
  },
  {
   "cell_type": "code",
   "execution_count": 73,
   "id": "cb2846fb",
   "metadata": {},
   "outputs": [
    {
     "name": "stdout",
     "output_type": "stream",
     "text": [
      "SELECT user_account.id, user_account.name, user_account.fullname \n",
      "FROM user_account ORDER BY user_account.fullname DESC\n"
     ]
    }
   ],
   "source": [
    "print(\n",
    "    select(User).order_by(User.fullname.desc())\n",
    ")"
   ]
  },
  {
   "cell_type": "markdown",
   "id": "56651622",
   "metadata": {},
   "source": [
    "В результате выполнения приведенного выше оператора будут получены строки, отсортированные по столбцу `user_account.fullname` в порядке убывания."
   ]
  },
  {
   "cell_type": "markdown",
   "id": "fcb1c245",
   "metadata": {},
   "source": [
    "**Агрегированные функции с GROUP BY / HAVING.**\n",
    "\n",
    "В SQL агрегатные функции позволяют агрегировать выражения столбцов в нескольких строках для получения единого результата. Примерами могут служить подсчеты, вычисление средних значений, а также нахождение максимального или минимального значения в наборе значений.\n",
    "\n",
    "SQLAlchemy предоставляет функции SQL в открытом виде, используя пространство имен, известное как `func`. Это специальный объект-конструктор, который создает новые экземпляры `Function`, когда ему задается имя конкретной SQL-функции, которое может быть любым, а также ноль или более аргументов для передачи в функцию, которые, как и во всех других случаях, являются конструкциями SQL-выражений. Например, чтобы вывести SQL-функцию `COUNT()` для столбца `user_account.id`, мы обращаемся к имени `count()`:"
   ]
  },
  {
   "cell_type": "code",
   "execution_count": 74,
   "id": "1510fe11",
   "metadata": {},
   "outputs": [
    {
     "name": "stdout",
     "output_type": "stream",
     "text": [
      "count(user_account.id)\n"
     ]
    }
   ],
   "source": [
    "from sqlalchemy import func\n",
    "count_fn = func.count(user_table.c.id)\n",
    "print(count_fn)"
   ]
  },
  {
   "cell_type": "code",
   "execution_count": 75,
   "id": "909cd0af",
   "metadata": {},
   "outputs": [
    {
     "name": "stdout",
     "output_type": "stream",
     "text": [
      "2023-07-18 14:58:14,617 INFO sqlalchemy.engine.Engine BEGIN (implicit)\n",
      "2023-07-18 14:58:14,618 INFO sqlalchemy.engine.Engine SELECT user_account.name, count(address.id) AS count \n",
      "FROM user_account JOIN address ON user_account.id = address.user_id GROUP BY user_account.name \n",
      "HAVING count(address.id) > %(count_1)s\n",
      "2023-07-18 14:58:14,618 INFO sqlalchemy.engine.Engine [generated in 0.00136s] {'count_1': 1}\n",
      "[('sandy', 2)]\n",
      "2023-07-18 14:58:14,622 INFO sqlalchemy.engine.Engine ROLLBACK\n"
     ]
    }
   ],
   "source": [
    "with engine.connect() as conn:\n",
    "    result = conn.execute(\n",
    "        select(User.name, func.count(Address.id).label('count'))\n",
    "        .join(Address)\n",
    "        .group_by(User.name)\n",
    "        .having(func.count(Address.id) > 1)\n",
    "    )\n",
    "    print(result.all())"
   ]
  },
  {
   "cell_type": "markdown",
   "id": "3136aff0",
   "metadata": {},
   "source": [
    "**Упорядочивание или группировка по label**"
   ]
  },
  {
   "cell_type": "code",
   "execution_count": 76,
   "id": "716ce900",
   "metadata": {},
   "outputs": [],
   "source": [
    "from sqlalchemy import func, desc\n",
    "stmt = (\n",
    "    select(Address.user_id, func.count(Address.id).label('num_addresses'))\n",
    "    .group_by('user_id')\n",
    "    .order_by('user_id', desc('num_addresses'))\n",
    ")"
   ]
  },
  {
   "cell_type": "code",
   "execution_count": 77,
   "id": "02a1831d",
   "metadata": {},
   "outputs": [
    {
     "name": "stdout",
     "output_type": "stream",
     "text": [
      "SELECT address.user_id, count(address.id) AS num_addresses \n",
      "FROM address GROUP BY address.user_id ORDER BY address.user_id, num_addresses DESC\n"
     ]
    }
   ],
   "source": [
    "print(stmt)"
   ]
  },
  {
   "cell_type": "markdown",
   "id": "77d3d77f",
   "metadata": {},
   "source": [
    "Использование Алиасов.\n",
    "\n",
    "Теперь, когда мы выбираем из нескольких таблиц и используем объединения, мы быстро сталкиваемся с необходимостью многократно ссылаться на одну и ту же таблицу в предложении FROM оператора. Для этого мы используем псевдонимы SQL, которые представляют собой синтаксис, задающий альтернативное имя таблицы или подзапроса, с которого на нее можно ссылаться в операторе.\n",
    "\n",
    "В языке выражений SQLAlchemy эти \"имена\" представлены объектами `FromClause`, известными как конструкция `Alias`, которая строится в Core с помощью метода `FromClause.alias()`. Конструкция `Alias`, как и конструкция `Table`, также имеет пространство имен объектов Column в коллекции Alias.c. Приведенный ниже оператор `SELECT`, например, возвращает все уникальные пары имен пользователей:"
   ]
  },
  {
   "cell_type": "code",
   "execution_count": 78,
   "id": "fa46a1f1",
   "metadata": {},
   "outputs": [
    {
     "name": "stdout",
     "output_type": "stream",
     "text": [
      "SELECT user_account_1.name, user_account_2.name AS name_1 \n",
      "FROM user_account AS user_account_1 JOIN user_account AS user_account_2 ON user_account_1.id > user_account_2.id\n"
     ]
    }
   ],
   "source": [
    "user_alias_1 = user_table.alias()\n",
    "user_alias_2 = user_table.alias()\n",
    "\n",
    "print(\n",
    "    select(user_alias_1.c.name, user_alias_2.c.name).join_from(\n",
    "        user_alias_1, user_alias_2, user_alias_1.c.id > user_alias_2.c.id\n",
    "    )\n",
    ")"
   ]
  },
  {
   "cell_type": "markdown",
   "id": "ce0268de",
   "metadata": {},
   "source": [
    "ORM Алиасы.\n",
    "\n",
    "ORM-эквивалентом метода `FromClause.alias()` является ORM-функция `aliased()`, которая может быть применена к таким сущностям, как `User` и `Address`. При этом внутри создается объект `Alias`, который противопоставляется исходному сопоставленному объекту `Table`, сохраняя при этом функциональность ORM. Приведенный ниже `SELECT` выбирает из сущности `User` все объекты, включающие два определенных адреса электронной почты:"
   ]
  },
  {
   "cell_type": "code",
   "execution_count": 79,
   "id": "270b53e3",
   "metadata": {},
   "outputs": [
    {
     "name": "stdout",
     "output_type": "stream",
     "text": [
      "SELECT user_account.id, user_account.name, user_account.fullname \n",
      "FROM user_account JOIN address AS address_1 ON user_account.id = address_1.user_id JOIN address AS address_2 ON user_account.id = address_2.user_id \n",
      "WHERE address_1.email_address = :email_address_1 AND address_2.email_address = :email_address_2\n"
     ]
    }
   ],
   "source": [
    "from sqlalchemy.orm import aliased\n",
    "address_alias_1 = aliased(Address)\n",
    "address_alias_2 = aliased(Address)\n",
    "\n",
    "print(\n",
    "    select(User)\n",
    "    .join_from(User, address_alias_1)\n",
    "    .where(address_alias_1.email_address == 'patrick@aol.com')\n",
    "    .join_from(User, address_alias_2)\n",
    "    .where(address_alias_2.email_address == 'patrick@gmail.com')\n",
    ")"
   ]
  },
  {
   "cell_type": "markdown",
   "id": "9d5a5999",
   "metadata": {},
   "source": [
    "**Подзапросы и CTE**\n",
    "\n",
    "Подзапрос в SQL - это оператор `SELECT`, заключенный в круглые скобки и помещенный в контекст вложенного оператора, обычно оператора `SELECT`, но не обязательно.\n",
    "\n",
    "В этом разделе мы рассмотрим так называемый \"нескалярный\" подзапрос, который обычно помещается в предложение FROM вложенного оператора `SELECT`. Мы также рассмотрим общее табличное выражение `(Common Table Expression или CTE)`, которое используется аналогично подзапросу, но обладает дополнительными возможностями.\n",
    "\n",
    "В SQLAlchemy для представления подзапроса используется объект `Subquery`, а для представления `CTE` - `CTE`, обычно получаемый из методов `Select.subquery()` и `Select.cte()` соответственно. Любой из этих объектов может быть использован в качестве элемента FROM внутри более крупной конструкции `select()`.\n",
    "\n",
    "Мы можем построить подзапрос, который будет выбирать агрегированный счетчик строк из таблицы адресов (агрегированные функции и `GROUP BY` были представлены ранее в разделе Агрегированные функции с `GROUP BY` / `HAVING`):"
   ]
  },
  {
   "cell_type": "code",
   "execution_count": 80,
   "id": "f6add0b5",
   "metadata": {},
   "outputs": [],
   "source": [
    "subq = (\n",
    "    select(func.count(address_table.c.id).label(\"count\"), address_table.c.user_id)\n",
    "    .group_by(address_table.c.user_id)\n",
    "    .subquery()\n",
    ")"
   ]
  },
  {
   "cell_type": "code",
   "execution_count": 82,
   "id": "80f67ba8",
   "metadata": {},
   "outputs": [
    {
     "name": "stdout",
     "output_type": "stream",
     "text": [
      "SELECT count(address.id) AS count, address.user_id \n",
      "FROM address GROUP BY address.user_id\n"
     ]
    }
   ],
   "source": [
    "print(subq)"
   ]
  },
  {
   "cell_type": "code",
   "execution_count": 83,
   "id": "41111593",
   "metadata": {},
   "outputs": [
    {
     "name": "stdout",
     "output_type": "stream",
     "text": [
      "SELECT anon_1.user_id, anon_1.count \n",
      "FROM (SELECT count(address.id) AS count, address.user_id AS user_id \n",
      "FROM address GROUP BY address.user_id) AS anon_1\n"
     ]
    }
   ],
   "source": [
    "print(select(subq.c.user_id, subq.c.count))"
   ]
  },
  {
   "cell_type": "code",
   "execution_count": 84,
   "id": "18fa68e7",
   "metadata": {},
   "outputs": [
    {
     "name": "stdout",
     "output_type": "stream",
     "text": [
      "SELECT user_account.name, user_account.fullname, anon_1.count \n",
      "FROM user_account JOIN (SELECT count(address.id) AS count, address.user_id AS user_id \n",
      "FROM address GROUP BY address.user_id) AS anon_1 ON user_account.id = anon_1.user_id\n"
     ]
    }
   ],
   "source": [
    "stmt = select(user_table.c.name, user_table.c.fullname, subq.c.count).join_from(\n",
    "    user_table, subq\n",
    ")\n",
    "\n",
    "print(stmt)"
   ]
  },
  {
   "cell_type": "markdown",
   "id": "2f9b431e",
   "metadata": {},
   "source": [
    "Common Table Expressions (CTEs)"
   ]
  },
  {
   "cell_type": "code",
   "execution_count": 85,
   "id": "bcb29406",
   "metadata": {},
   "outputs": [
    {
     "name": "stdout",
     "output_type": "stream",
     "text": [
      "WITH anon_1 AS \n",
      "(SELECT count(address.id) AS count, address.user_id AS user_id \n",
      "FROM address GROUP BY address.user_id)\n",
      " SELECT user_account.name, user_account.fullname, anon_1.count \n",
      "FROM user_account JOIN anon_1 ON user_account.id = anon_1.user_id\n"
     ]
    }
   ],
   "source": [
    "subq = (\n",
    "    select(func.count(address_table.c.id).label(\"count\"), address_table.c.user_id)\n",
    "    .group_by(address_table.c.user_id)\n",
    "    .cte()\n",
    ")\n",
    "\n",
    "stmt = select(user_table.c.name, user_table.c.fullname, subq.c.count).join_from(\n",
    "    user_table, subq\n",
    ")\n",
    "\n",
    "print(stmt)"
   ]
  },
  {
   "cell_type": "code",
   "execution_count": null,
   "id": "8a6a43f7",
   "metadata": {},
   "outputs": [],
   "source": []
  }
 ],
 "metadata": {
  "kernelspec": {
   "display_name": "Python 3 (ipykernel)",
   "language": "python",
   "name": "python3"
  },
  "language_info": {
   "codemirror_mode": {
    "name": "ipython",
    "version": 3
   },
   "file_extension": ".py",
   "mimetype": "text/x-python",
   "name": "python",
   "nbconvert_exporter": "python",
   "pygments_lexer": "ipython3",
   "version": "3.11.4"
  }
 },
 "nbformat": 4,
 "nbformat_minor": 5
}
