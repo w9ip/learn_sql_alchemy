{
 "cells": [
  {
   "cell_type": "markdown",
   "id": "63e466dd",
   "metadata": {},
   "source": [
    "**Проверка версии:**"
   ]
  },
  {
   "cell_type": "code",
   "execution_count": 1,
   "id": "7f5c71e2",
   "metadata": {},
   "outputs": [
    {
     "data": {
      "text/plain": [
       "'2.0.19'"
      ]
     },
     "execution_count": 1,
     "metadata": {},
     "output_type": "execute_result"
    }
   ],
   "source": [
    "import sqlalchemy\n",
    "sqlalchemy.__version__"
   ]
  },
  {
   "cell_type": "markdown",
   "id": "e724b234",
   "metadata": {},
   "source": [
    "Любое приложение SQLAlchemy начинается с создания движка ([объекта Engine](https://docs.sqlalchemy.org/en/20/tutorial/engine.html#establishing-connectivity-the-engine))."
   ]
  },
  {
   "cell_type": "code",
   "execution_count": 2,
   "id": "e5445853",
   "metadata": {},
   "outputs": [],
   "source": [
    "from sqlalchemy import create_engine\n",
    "engine = create_engine(\"postgresql+psycopg2://w9i@localhost/w9i\", echo=True)"
   ]
  },
  {
   "cell_type": "markdown",
   "id": "fa46ef8a",
   "metadata": {},
   "source": [
    "Функция `create_engine` возвращает нам объект `Engine`.\n",
    "\n",
    "Объект `Engine` в свою очередь предоставляет нам единицу соединения с БД, называемую [`Connection`](https://docs.sqlalchemy.org/en/20/core/connections.html#sqlalchemy.engine.Connection).\n",
    "\n",
    "Объект `Connection` *приобретается* путем вызова `Engine.connect()`.\n",
    "\n",
    "`Connection` предоставляет нам возможность выполнять SQL-запросы, а также управлять транзакциями.\n",
    "\n",
    "Объект `Connection` представляет собой одно DBAPI-соединение, извлеченное из пула соединений. Для правильного управления пулом соединений необходимо возвращать соединения в пул (т.е. `Connection.close()`) каждый раз, когда соединение не используется.\n",
    "\n",
    "Поэтому мы будем создавать соединение в контекст менеджере."
   ]
  },
  {
   "cell_type": "code",
   "execution_count": 3,
   "id": "f9e6232b",
   "metadata": {},
   "outputs": [
    {
     "name": "stdout",
     "output_type": "stream",
     "text": [
      "2023-07-17 03:41:09,433 INFO sqlalchemy.engine.Engine select pg_catalog.version()\n",
      "2023-07-17 03:41:09,434 INFO sqlalchemy.engine.Engine [raw sql] {}\n",
      "2023-07-17 03:41:09,435 INFO sqlalchemy.engine.Engine select current_schema()\n",
      "2023-07-17 03:41:09,436 INFO sqlalchemy.engine.Engine [raw sql] {}\n",
      "2023-07-17 03:41:09,438 INFO sqlalchemy.engine.Engine show standard_conforming_strings\n",
      "2023-07-17 03:41:09,438 INFO sqlalchemy.engine.Engine [raw sql] {}\n",
      "2023-07-17 03:41:09,439 INFO sqlalchemy.engine.Engine BEGIN (implicit)\n",
      "2023-07-17 03:41:09,440 INFO sqlalchemy.engine.Engine SELECT 'Hello, SQLAlchemy World!'\n",
      "2023-07-17 03:41:09,440 INFO sqlalchemy.engine.Engine [generated in 0.00082s] {}\n",
      "[('Hello, SQLAlchemy World!',)]\n",
      "2023-07-17 03:41:09,441 INFO sqlalchemy.engine.Engine ROLLBACK\n"
     ]
    }
   ],
   "source": [
    "from sqlalchemy import text\n",
    "\n",
    "with engine.connect() as conn:\n",
    "    result = conn.execute(\n",
    "        text(\"SELECT 'Hello, SQLAlchemy World!'\")\n",
    "    )\n",
    "    print(result.all())"
   ]
  },
  {
   "cell_type": "markdown",
   "id": "80f90350",
   "metadata": {},
   "source": [
    "Импортированная нами функция `text`, предоставляет нам возможность безопасно писать запросы в *стиле* `SQL`. Эта функция будет более подробно рассмотрена позже.\n",
    "\n",
    "Результат нашего `SELECT` был возвращен в объекте [Result](https://docs.sqlalchemy.org/en/20/core/connections.html#sqlalchemy.engine.Result), который будет рассмотрен позже, но пока отметим, что этот объект должен использоваться внутри блока \"connect\" и не передаватся за пределы области действия нашего соединения (контекст менеджера)."
   ]
  },
  {
   "cell_type": "markdown",
   "id": "ea6455e6",
   "metadata": {},
   "source": [
    "Из лога, который выдает нам SQLAlchemy, благодаря флагу `echo=True`, мы можем увидеть что наши запросы **неявно** являются транзакционными, но *незакомиченными* (то есть незафиксированная транзакция).\n",
    "\n",
    "Коммитить изменения мы должны явно, используя `.commit()` на объекте `Connection`.\n",
    "\n",
    "Давайте создадим таблицу, внесем какие-то данные и закоммитим изменения."
   ]
  },
  {
   "cell_type": "code",
   "execution_count": 4,
   "id": "ff5f5ed1",
   "metadata": {},
   "outputs": [
    {
     "name": "stdout",
     "output_type": "stream",
     "text": [
      "2023-07-17 03:41:09,448 INFO sqlalchemy.engine.Engine BEGIN (implicit)\n",
      "2023-07-17 03:41:09,448 INFO sqlalchemy.engine.Engine CREATE TABLE some_table (x int, y int)\n",
      "2023-07-17 03:41:09,449 INFO sqlalchemy.engine.Engine [generated in 0.00117s] {}\n",
      "2023-07-17 03:41:09,453 INFO sqlalchemy.engine.Engine INSERT INTO some_table (x, y) VALUES (%(x)s, %(y)s)\n",
      "2023-07-17 03:41:09,453 INFO sqlalchemy.engine.Engine [generated in 0.00045s] [{'x': 1, 'y': 1}, {'x': 2, 'y': 4}]\n",
      "2023-07-17 03:41:09,454 INFO sqlalchemy.engine.Engine COMMIT\n"
     ]
    }
   ],
   "source": [
    "with engine.connect() as conn:\n",
    "    conn.execute(text(\"CREATE TABLE some_table (x int, y int)\"))  # Создаем таблицу\n",
    "    conn.execute(\n",
    "        text(\"INSERT INTO some_table (x, y) VALUES (:x, :y)\"),  # Вставка данных в таблицу\n",
    "        [{\"x\": 1, \"y\": 1}, {\"x\": 2, \"y\": 4}],                   # (параметризированный запрос).\n",
    "    )\n",
    "    conn.commit()  # Коммит изменений."
   ]
  },
  {
   "cell_type": "markdown",
   "id": "c3dcc881",
   "metadata": {},
   "source": [
    "Выше мы выполнили два SQL-оператора, которые являются траназкционными.\n",
    "\n",
    "1. Оператор `CREATE TABLE`\n",
    "2. Параметризированный оператор `INSERT`\n",
    "\n",
    "Синтаксис параметризации, будет рассмотрен ниже.\n",
    "\n",
    "Мы также закоммитили наши изменения, это означает что сейчас в БД у нас таблица `some-table` с внесенными в нее нами данными.\n",
    "\n",
    "Мы также можем продолжать писать другие запросы, и также вызывать `Connection.commit()` для последующих SQL-операторов."
   ]
  },
  {
   "cell_type": "markdown",
   "id": "13be5396",
   "metadata": {},
   "source": [
    "Существует другой способ фиксации данных, для этого мы можем заранее объявить наш блок connect блоком транзакций.\n",
    "В этом случае мы используем `Engine.begin()` а не `Engine.connect()`."
   ]
  },
  {
   "cell_type": "code",
   "execution_count": 5,
   "id": "cdce5116",
   "metadata": {},
   "outputs": [
    {
     "name": "stdout",
     "output_type": "stream",
     "text": [
      "2023-07-17 03:41:09,460 INFO sqlalchemy.engine.Engine BEGIN (implicit)\n",
      "2023-07-17 03:41:09,461 INFO sqlalchemy.engine.Engine INSERT INTO some_table (x, y) VALUES (%(x)s, %(y)s)\n",
      "2023-07-17 03:41:09,462 INFO sqlalchemy.engine.Engine [cached since 0.009108s ago] [{'x': 6, 'y': 8}, {'x': 9, 'y': 10}]\n",
      "2023-07-17 03:41:09,464 INFO sqlalchemy.engine.Engine COMMIT\n"
     ]
    }
   ],
   "source": [
    "with engine.begin() as conn:\n",
    "    conn.execute(\n",
    "        text(\"INSERT INTO some_table (x, y) VALUES (:x, :y)\"),\n",
    "        [{\"x\": 6, \"y\": 8}, {\"x\": 9, \"y\": 10}],\n",
    "    )"
   ]
  },
  {
   "cell_type": "markdown",
   "id": "d30d87a7",
   "metadata": {},
   "source": [
    "Чтобы получить резульирующие строки, мы воспользуемся SQL-оператором `SELECT`."
   ]
  },
  {
   "cell_type": "code",
   "execution_count": 6,
   "id": "b0113d66",
   "metadata": {},
   "outputs": [
    {
     "name": "stdout",
     "output_type": "stream",
     "text": [
      "2023-07-17 03:41:09,468 INFO sqlalchemy.engine.Engine BEGIN (implicit)\n",
      "2023-07-17 03:41:09,469 INFO sqlalchemy.engine.Engine SELECT x, y FROM some_table\n",
      "2023-07-17 03:41:09,470 INFO sqlalchemy.engine.Engine [generated in 0.00144s] {}\n",
      "x: 1  y: 1\n",
      "x: 2  y: 4\n",
      "x: 6  y: 8\n",
      "x: 9  y: 10\n",
      "2023-07-17 03:41:09,471 INFO sqlalchemy.engine.Engine ROLLBACK\n"
     ]
    }
   ],
   "source": [
    "with engine.connect() as conn:\n",
    "    result = conn.execute(text(\"SELECT x, y FROM some_table\"))\n",
    "    for row in result:\n",
    "        print(f\"x: {row.x}  y: {row.y}\")"
   ]
  },
  {
   "cell_type": "markdown",
   "id": "52e00428",
   "metadata": {},
   "source": [
    "Выше, были выбраны все строки из нашей таблицы. \n",
    "\n",
    "Возвращаемый объект называется `Result` и представляет собой итерируемый объект резульирующих строк.\n",
    "\n",
    "`Result` имеет множество методов для получения и преобразования резульирующих строк, например, метод `Result.all()`, показанный ранее, который возвращает список всех объектов [Row](https://docs.sqlalchemy.org/en/20/core/connections.html#sqlalchemy.engine.Row). Кроме того, в нем реализован интерфейс итератора Python, что позволяет выполнять итерации непосредственно над коллекцией объектов [Row](https://docs.sqlalchemy.org/en/20/core/connections.html#sqlalchemy.engine.Row).\n",
    "\n",
    "Сами объекты [Row](https://docs.sqlalchemy.org/en/20/core/connections.html#sqlalchemy.engine.Row) похожи на [именованные кортежи](https://docs.python.org/3/library/collections.html#collections.namedtuple) Python. \n",
    "\n",
    "Ниже мы проиллюстрируем различные способы доступа к резульирующим строкам."
   ]
  },
  {
   "cell_type": "markdown",
   "id": "5b47a759",
   "metadata": {},
   "source": [
    "```python\n",
    "# Tuple Assignment :)\n",
    "result = conn.execute(text(\"select x, y from some_table\"))\n",
    "\n",
    "for x, y in result:\n",
    "    ...\n",
    "\n",
    "\n",
    "# извлечение по индексу\n",
    "result = conn.execute(text(\"select x, y from some_table\"))\n",
    "\n",
    "for row in result:\n",
    "    x = row[0]\n",
    "\n",
    "\n",
    "# извлечение по атрибуту\n",
    "result = conn.execute(text(\"select x, y from some_table\"))\n",
    "\n",
    "for row in result:\n",
    "    y = row.y\n",
    "\n",
    "    print(f\"Row: {row.x} {y}\")\n",
    "\n",
    "\n",
    "# Mapping Access\n",
    "result = conn.execute(text(\"select x, y from some_table\"))\n",
    "\n",
    "for dict_row in result.mappings():\n",
    "    x = dict_row[\"x\"]\n",
    "    y = dict_row[\"y\"]\n",
    "```"
   ]
  },
  {
   "cell_type": "markdown",
   "id": "9d6abd4c",
   "metadata": {},
   "source": [
    "Наконец-то параметризированные запросы.\n",
    "\n",
    "В наших SQL запросах мы каким-то образом должны передавать данные. \n",
    "`Connection.execute()` умеет принимать параметры, которые называются [связанные параметры](https://docs.sqlalchemy.org/en/20/glossary.html#term-bound-parameters).\n",
    "\n",
    "К примеру мы хотим отфильтровать результирующий вывод с помощью ключевого слова `WHERE`.А именно, чтобы в результате вывелись строки, в которых значение колонки `y` больше 2.\n",
    "\n",
    "Конструкция `text()` принимает наш параметр с ведущим двоеточием `:y`, а фактическое значение параметра передается в качестве словаря, вторым аргументом в `Connection.execute()`.\n",
    "\n",
    "В примере ниже вместо `:y` подставляется число `2`."
   ]
  },
  {
   "cell_type": "code",
   "execution_count": 7,
   "id": "79a024cd",
   "metadata": {},
   "outputs": [
    {
     "name": "stdout",
     "output_type": "stream",
     "text": [
      "2023-07-17 03:41:09,498 INFO sqlalchemy.engine.Engine BEGIN (implicit)\n",
      "2023-07-17 03:41:09,506 INFO sqlalchemy.engine.Engine SELECT x, y FROM some_table WHERE y > %(y)s\n",
      "2023-07-17 03:41:09,507 INFO sqlalchemy.engine.Engine [generated in 0.00910s] {'y': 2}\n",
      "x: 2  y: 4\n",
      "x: 6  y: 8\n",
      "x: 9  y: 10\n",
      "2023-07-17 03:41:09,514 INFO sqlalchemy.engine.Engine ROLLBACK\n"
     ]
    }
   ],
   "source": [
    "with engine.connect() as conn:\n",
    "    result = conn.execute(text(\"SELECT x, y FROM some_table WHERE y > :y\"), {\"y\": 2})\n",
    "    for row in result:\n",
    "        print(f\"x: {row.x}  y: {row.y}\")"
   ]
  },
  {
   "cell_type": "markdown",
   "id": "873a92f6",
   "metadata": {},
   "source": [
    "**Передача нескольких параметров.**\n",
    "\n",
    "В примерах выше, когда мы разбирали фиксацию (коммит) транзакций, мы выполняли оператор `INSERT`, в котором, как оказалось, можно было одновременно вводить в базу данных несколько строк. Для DML-операторов, таких как `\"INSERT\"`, `\"UPDATE\"` и `\"DELETE\"`, мы можем передать **несколько наборов параметров** в метод `Connection.execute()`, передав список словарей вместо одного словаря, в данном случае, один SQL-оператор будет вызван несколько раз, по одному разу для каждого набора параметров. Такой стиль выполнения известен как [executemany](https://docs.sqlalchemy.org/en/20/glossary.html#term-executemany):"
   ]
  },
  {
   "cell_type": "code",
   "execution_count": 8,
   "id": "e2f724ed",
   "metadata": {},
   "outputs": [
    {
     "name": "stdout",
     "output_type": "stream",
     "text": [
      "2023-07-17 03:41:09,526 INFO sqlalchemy.engine.Engine BEGIN (implicit)\n",
      "2023-07-17 03:41:09,532 INFO sqlalchemy.engine.Engine INSERT INTO some_table (x, y) VALUES (%(x)s, %(y)s)\n",
      "2023-07-17 03:41:09,536 INFO sqlalchemy.engine.Engine [cached since 0.08349s ago] [{'x': 11, 'y': 12}, {'x': 13, 'y': 14}]\n",
      "2023-07-17 03:41:09,549 INFO sqlalchemy.engine.Engine COMMIT\n"
     ]
    }
   ],
   "source": [
    "with engine.connect() as conn:\n",
    "    conn.execute(\n",
    "        text(\"INSERT INTO some_table (x, y) VALUES (:x, :y)\"),\n",
    "        [{\"x\": 11, \"y\": 12}, {\"x\": 13, \"y\": 14}],\n",
    "    )\n",
    "    conn.commit()"
   ]
  },
  {
   "cell_type": "markdown",
   "id": "895dbd87",
   "metadata": {},
   "source": [
    "Ключевое различие между `\"execute\"` и `\"executemany\"` заключается в том, что последний не поддерживает возврат результриующих строк, даже если в операторе присутствует предложение `RETURNING`. Единственным исключением является использование конструкции Core [insert()](https://docs.sqlalchemy.org/en/20/core/dml.html#sqlalchemy.sql.expression.insert), представленной далее в этом учебном пособии в разделе [\"Использование утверждений INSERT\"](https://docs.sqlalchemy.org/en/20/tutorial/data_insert.html#tutorial-core-insert), которая также указывает на возврат с помощью метода [Insert.returning()](https://docs.sqlalchemy.org/en/20/core/dml.html#sqlalchemy.sql.expression.Insert.returning). В этом случае SQLAlchemy использует специальную логику для реорганизации оператора `INSERT` таким образом, что он может быть вызван для многих строк и при этом поддерживать `RETURNING`."
   ]
  },
  {
   "cell_type": "code",
   "execution_count": null,
   "id": "564e064d",
   "metadata": {},
   "outputs": [],
   "source": []
  }
 ],
 "metadata": {
  "kernelspec": {
   "display_name": "Python 3 (ipykernel)",
   "language": "python",
   "name": "python3"
  },
  "language_info": {
   "codemirror_mode": {
    "name": "ipython",
    "version": 3
   },
   "file_extension": ".py",
   "mimetype": "text/x-python",
   "name": "python",
   "nbconvert_exporter": "python",
   "pygments_lexer": "ipython3",
   "version": "3.11.4"
  }
 },
 "nbformat": 4,
 "nbformat_minor": 5
}
