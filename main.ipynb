{
 "cells": [
  {
   "cell_type": "markdown",
   "id": "63e466dd",
   "metadata": {},
   "source": [
    "**Проверка версии:**"
   ]
  },
  {
   "cell_type": "code",
   "execution_count": 1,
   "id": "7f5c71e2",
   "metadata": {},
   "outputs": [
    {
     "data": {
      "text/plain": [
       "'2.0.19'"
      ]
     },
     "execution_count": 1,
     "metadata": {},
     "output_type": "execute_result"
    }
   ],
   "source": [
    "import sqlalchemy\n",
    "sqlalchemy.__version__"
   ]
  },
  {
   "cell_type": "markdown",
   "id": "e724b234",
   "metadata": {},
   "source": [
    "Любое приложение SQLAlchemy начинается с создания движка ([объекта Engine](https://docs.sqlalchemy.org/en/20/tutorial/engine.html#establishing-connectivity-the-engine))."
   ]
  },
  {
   "cell_type": "code",
   "execution_count": 2,
   "id": "e5445853",
   "metadata": {},
   "outputs": [],
   "source": [
    "from sqlalchemy import create_engine\n",
    "engine = create_engine(\"postgresql+psycopg2://w9i@localhost/w9i\", echo=True)"
   ]
  },
  {
   "cell_type": "markdown",
   "id": "fa46ef8a",
   "metadata": {},
   "source": [
    "Функция `create_engine` возвращает нам объект `Engine`.\n",
    "\n",
    "Объект `Engine` в свою очередь предоставляет нам единицу соединения с БД, называемую [`Connection`](https://docs.sqlalchemy.org/en/20/core/connections.html#sqlalchemy.engine.Connection).\n",
    "\n",
    "Объект `Connection` *приобретается* путем вызова `Engine.connect()`.\n",
    "\n",
    "`Connection` предоставляет нам возможность выполнять SQL-запросы, а также управлять транзакциями.\n",
    "\n",
    "Объект `Connection` представляет собой одно DBAPI-соединение, извлеченное из пула соединений. Для правильного управления пулом соединений необходимо возвращать соединения в пул (т.е. `Connection.close()`) каждый раз, когда соединение не используется.\n",
    "\n",
    "Поэтому мы будем создавать соединение в контекст менеджере."
   ]
  },
  {
   "cell_type": "code",
   "execution_count": 3,
   "id": "f9e6232b",
   "metadata": {},
   "outputs": [
    {
     "name": "stdout",
     "output_type": "stream",
     "text": [
      "2023-07-17 13:01:46,030 INFO sqlalchemy.engine.Engine select pg_catalog.version()\n",
      "2023-07-17 13:01:46,031 INFO sqlalchemy.engine.Engine [raw sql] {}\n",
      "2023-07-17 13:01:46,033 INFO sqlalchemy.engine.Engine select current_schema()\n",
      "2023-07-17 13:01:46,033 INFO sqlalchemy.engine.Engine [raw sql] {}\n",
      "2023-07-17 13:01:46,034 INFO sqlalchemy.engine.Engine show standard_conforming_strings\n",
      "2023-07-17 13:01:46,034 INFO sqlalchemy.engine.Engine [raw sql] {}\n",
      "2023-07-17 13:01:46,035 INFO sqlalchemy.engine.Engine BEGIN (implicit)\n",
      "2023-07-17 13:01:46,035 INFO sqlalchemy.engine.Engine SELECT 'Hello, SQLAlchemy World!'\n",
      "2023-07-17 13:01:46,035 INFO sqlalchemy.engine.Engine [generated in 0.00044s] {}\n",
      "[('Hello, SQLAlchemy World!',)]\n",
      "2023-07-17 13:01:46,036 INFO sqlalchemy.engine.Engine ROLLBACK\n"
     ]
    }
   ],
   "source": [
    "from sqlalchemy import text\n",
    "\n",
    "with engine.connect() as conn:\n",
    "    result = conn.execute(\n",
    "        text(\"SELECT 'Hello, SQLAlchemy World!'\")\n",
    "    )\n",
    "    print(result.all())"
   ]
  },
  {
   "cell_type": "markdown",
   "id": "80f90350",
   "metadata": {},
   "source": [
    "Импортированная нами функция `text`, предоставляет нам возможность безопасно писать запросы в *стиле* `SQL`. Эта функция будет более подробно рассмотрена позже.\n",
    "\n",
    "Результат нашего `SELECT` был возвращен в объекте [Result](https://docs.sqlalchemy.org/en/20/core/connections.html#sqlalchemy.engine.Result), который будет рассмотрен позже, но пока отметим, что этот объект должен использоваться внутри блока \"connect\" и не передаватся за пределы области действия нашего соединения (контекст менеджера)."
   ]
  },
  {
   "cell_type": "markdown",
   "id": "ea6455e6",
   "metadata": {},
   "source": [
    "Из лога, который выдает нам SQLAlchemy, благодаря флагу `echo=True`, мы можем увидеть что наши запросы **неявно** являются транзакционными, но *незакомиченными* (то есть незафиксированная транзакция).\n",
    "\n",
    "Коммитить изменения мы должны явно, используя `.commit()` на объекте `Connection`.\n",
    "\n",
    "Давайте создадим таблицу, внесем какие-то данные и закоммитим изменения."
   ]
  },
  {
   "cell_type": "code",
   "execution_count": 4,
   "id": "ff5f5ed1",
   "metadata": {},
   "outputs": [
    {
     "name": "stdout",
     "output_type": "stream",
     "text": [
      "2023-07-17 13:01:46,040 INFO sqlalchemy.engine.Engine BEGIN (implicit)\n",
      "2023-07-17 13:01:46,041 INFO sqlalchemy.engine.Engine CREATE TABLE some_table (x int, y int)\n",
      "2023-07-17 13:01:46,041 INFO sqlalchemy.engine.Engine [generated in 0.00097s] {}\n",
      "2023-07-17 13:01:46,047 INFO sqlalchemy.engine.Engine INSERT INTO some_table (x, y) VALUES (%(x)s, %(y)s)\n",
      "2023-07-17 13:01:46,047 INFO sqlalchemy.engine.Engine [generated in 0.00038s] [{'x': 1, 'y': 1}, {'x': 2, 'y': 4}]\n",
      "2023-07-17 13:01:46,048 INFO sqlalchemy.engine.Engine COMMIT\n"
     ]
    }
   ],
   "source": [
    "with engine.connect() as conn:\n",
    "    conn.execute(text(\"CREATE TABLE some_table (x int, y int)\"))  # Создаем таблицу\n",
    "    conn.execute(\n",
    "        text(\"INSERT INTO some_table (x, y) VALUES (:x, :y)\"),  # Вставка данных в таблицу\n",
    "        [{\"x\": 1, \"y\": 1}, {\"x\": 2, \"y\": 4}],                   # (параметризированный запрос).\n",
    "    )\n",
    "    conn.commit()  # Коммит изменений."
   ]
  },
  {
   "cell_type": "markdown",
   "id": "c3dcc881",
   "metadata": {},
   "source": [
    "Выше мы выполнили два SQL-оператора, которые являются траназкционными.\n",
    "\n",
    "1. Оператор `CREATE TABLE`\n",
    "2. Параметризированный оператор `INSERT`\n",
    "\n",
    "Синтаксис параметризации, будет рассмотрен ниже.\n",
    "\n",
    "Мы также закоммитили наши изменения, это означает что сейчас в БД у нас таблица `some-table` с внесенными в нее нами данными.\n",
    "\n",
    "Мы также можем продолжать писать другие запросы, и также вызывать `Connection.commit()` для последующих SQL-операторов."
   ]
  },
  {
   "cell_type": "markdown",
   "id": "13be5396",
   "metadata": {},
   "source": [
    "Существует другой способ фиксации данных, для этого мы можем заранее объявить наш блок connect блоком транзакций.\n",
    "В этом случае мы используем `Engine.begin()` а не `Engine.connect()`."
   ]
  },
  {
   "cell_type": "code",
   "execution_count": 5,
   "id": "cdce5116",
   "metadata": {},
   "outputs": [
    {
     "name": "stdout",
     "output_type": "stream",
     "text": [
      "2023-07-17 13:01:46,051 INFO sqlalchemy.engine.Engine BEGIN (implicit)\n",
      "2023-07-17 13:01:46,052 INFO sqlalchemy.engine.Engine INSERT INTO some_table (x, y) VALUES (%(x)s, %(y)s)\n",
      "2023-07-17 13:01:46,052 INFO sqlalchemy.engine.Engine [cached since 0.005758s ago] [{'x': 6, 'y': 8}, {'x': 9, 'y': 10}]\n",
      "2023-07-17 13:01:46,053 INFO sqlalchemy.engine.Engine COMMIT\n"
     ]
    }
   ],
   "source": [
    "with engine.begin() as conn:\n",
    "    conn.execute(\n",
    "        text(\"INSERT INTO some_table (x, y) VALUES (:x, :y)\"),\n",
    "        [{\"x\": 6, \"y\": 8}, {\"x\": 9, \"y\": 10}],\n",
    "    )"
   ]
  },
  {
   "cell_type": "markdown",
   "id": "d30d87a7",
   "metadata": {},
   "source": [
    "Чтобы получить резульирующие строки, мы воспользуемся SQL-оператором `SELECT`."
   ]
  },
  {
   "cell_type": "code",
   "execution_count": 6,
   "id": "b0113d66",
   "metadata": {},
   "outputs": [
    {
     "name": "stdout",
     "output_type": "stream",
     "text": [
      "2023-07-17 13:01:46,057 INFO sqlalchemy.engine.Engine BEGIN (implicit)\n",
      "2023-07-17 13:01:46,058 INFO sqlalchemy.engine.Engine SELECT x, y FROM some_table\n",
      "2023-07-17 13:01:46,058 INFO sqlalchemy.engine.Engine [generated in 0.00093s] {}\n",
      "x: 1  y: 1\n",
      "x: 2  y: 4\n",
      "x: 6  y: 8\n",
      "x: 9  y: 10\n",
      "2023-07-17 13:01:46,059 INFO sqlalchemy.engine.Engine ROLLBACK\n"
     ]
    }
   ],
   "source": [
    "with engine.connect() as conn:\n",
    "    result = conn.execute(text(\"SELECT x, y FROM some_table\"))\n",
    "    for row in result:\n",
    "        print(f\"x: {row.x}  y: {row.y}\")"
   ]
  },
  {
   "cell_type": "markdown",
   "id": "52e00428",
   "metadata": {},
   "source": [
    "Выше, были выбраны все строки из нашей таблицы. \n",
    "\n",
    "Возвращаемый объект называется `Result` и представляет собой итерируемый объект резульирующих строк.\n",
    "\n",
    "`Result` имеет множество методов для получения и преобразования резульирующих строк, например, метод `Result.all()`, показанный ранее, который возвращает список всех объектов [Row](https://docs.sqlalchemy.org/en/20/core/connections.html#sqlalchemy.engine.Row). Кроме того, в нем реализован интерфейс итератора Python, что позволяет выполнять итерации непосредственно над коллекцией объектов [Row](https://docs.sqlalchemy.org/en/20/core/connections.html#sqlalchemy.engine.Row).\n",
    "\n",
    "Сами объекты [Row](https://docs.sqlalchemy.org/en/20/core/connections.html#sqlalchemy.engine.Row) похожи на [именованные кортежи](https://docs.python.org/3/library/collections.html#collections.namedtuple) Python. \n",
    "\n",
    "Ниже мы проиллюстрируем различные способы доступа к резульирующим строкам."
   ]
  },
  {
   "cell_type": "markdown",
   "id": "5b47a759",
   "metadata": {},
   "source": [
    "```python\n",
    "# Tuple Assignment :)\n",
    "result = conn.execute(text(\"select x, y from some_table\"))\n",
    "\n",
    "for x, y in result:\n",
    "    ...\n",
    "\n",
    "\n",
    "# извлечение по индексу\n",
    "result = conn.execute(text(\"select x, y from some_table\"))\n",
    "\n",
    "for row in result:\n",
    "    x = row[0]\n",
    "\n",
    "\n",
    "# извлечение по атрибуту\n",
    "result = conn.execute(text(\"select x, y from some_table\"))\n",
    "\n",
    "for row in result:\n",
    "    y = row.y\n",
    "\n",
    "    print(f\"Row: {row.x} {y}\")\n",
    "\n",
    "\n",
    "# Mapping Access\n",
    "result = conn.execute(text(\"select x, y from some_table\"))\n",
    "\n",
    "for dict_row in result.mappings():\n",
    "    x = dict_row[\"x\"]\n",
    "    y = dict_row[\"y\"]\n",
    "```"
   ]
  },
  {
   "cell_type": "markdown",
   "id": "9d6abd4c",
   "metadata": {},
   "source": [
    "Наконец-то параметризированные запросы.\n",
    "\n",
    "В наших SQL запросах мы каким-то образом должны передавать данные. \n",
    "`Connection.execute()` умеет принимать параметры, которые называются [связанные параметры](https://docs.sqlalchemy.org/en/20/glossary.html#term-bound-parameters).\n",
    "\n",
    "К примеру мы хотим отфильтровать результирующий вывод с помощью ключевого слова `WHERE`.А именно, чтобы в результате вывелись строки, в которых значение колонки `y` больше 2.\n",
    "\n",
    "Конструкция `text()` принимает наш параметр с ведущим двоеточием `:y`, а фактическое значение параметра передается в качестве словаря, вторым аргументом в `Connection.execute()`.\n",
    "\n",
    "В примере ниже вместо `:y` подставляется число `2`."
   ]
  },
  {
   "cell_type": "code",
   "execution_count": 7,
   "id": "79a024cd",
   "metadata": {},
   "outputs": [
    {
     "name": "stdout",
     "output_type": "stream",
     "text": [
      "2023-07-17 13:01:46,062 INFO sqlalchemy.engine.Engine BEGIN (implicit)\n",
      "2023-07-17 13:01:46,063 INFO sqlalchemy.engine.Engine SELECT x, y FROM some_table WHERE y > %(y)s\n",
      "2023-07-17 13:01:46,064 INFO sqlalchemy.engine.Engine [generated in 0.00141s] {'y': 2}\n",
      "x: 2  y: 4\n",
      "x: 6  y: 8\n",
      "x: 9  y: 10\n",
      "2023-07-17 13:01:46,065 INFO sqlalchemy.engine.Engine ROLLBACK\n"
     ]
    }
   ],
   "source": [
    "with engine.connect() as conn:\n",
    "    result = conn.execute(text(\"SELECT x, y FROM some_table WHERE y > :y\"), {\"y\": 2})\n",
    "    for row in result:\n",
    "        print(f\"x: {row.x}  y: {row.y}\")"
   ]
  },
  {
   "cell_type": "markdown",
   "id": "873a92f6",
   "metadata": {},
   "source": [
    "**Передача нескольких параметров.**\n",
    "\n",
    "В примерах выше, когда мы разбирали фиксацию (коммит) транзакций, мы выполняли оператор `INSERT`, в котором, как оказалось, можно было одновременно вводить в базу данных несколько строк. Для DML-операторов, таких как `\"INSERT\"`, `\"UPDATE\"` и `\"DELETE\"`, мы можем передать **несколько наборов параметров** в метод `Connection.execute()`, передав список словарей вместо одного словаря, в данном случае, один SQL-оператор будет вызван несколько раз, по одному разу для каждого набора параметров. Такой стиль выполнения известен как [executemany](https://docs.sqlalchemy.org/en/20/glossary.html#term-executemany):"
   ]
  },
  {
   "cell_type": "code",
   "execution_count": 8,
   "id": "e2f724ed",
   "metadata": {},
   "outputs": [
    {
     "name": "stdout",
     "output_type": "stream",
     "text": [
      "2023-07-17 13:01:46,069 INFO sqlalchemy.engine.Engine BEGIN (implicit)\n",
      "2023-07-17 13:01:46,069 INFO sqlalchemy.engine.Engine INSERT INTO some_table (x, y) VALUES (%(x)s, %(y)s)\n",
      "2023-07-17 13:01:46,069 INFO sqlalchemy.engine.Engine [cached since 0.02265s ago] [{'x': 11, 'y': 12}, {'x': 13, 'y': 14}]\n",
      "2023-07-17 13:01:46,070 INFO sqlalchemy.engine.Engine COMMIT\n"
     ]
    }
   ],
   "source": [
    "with engine.connect() as conn:\n",
    "    conn.execute(\n",
    "        text(\"INSERT INTO some_table (x, y) VALUES (:x, :y)\"),\n",
    "        [{\"x\": 11, \"y\": 12}, {\"x\": 13, \"y\": 14}],\n",
    "    )\n",
    "    conn.commit()"
   ]
  },
  {
   "cell_type": "markdown",
   "id": "895dbd87",
   "metadata": {},
   "source": [
    "Ключевое различие между `\"execute\"` и `\"executemany\"` заключается в том, что последний не поддерживает возврат результриующих строк, даже если в операторе присутствует предложение `RETURNING`. Единственным исключением является использование конструкции Core [insert()](https://docs.sqlalchemy.org/en/20/core/dml.html#sqlalchemy.sql.expression.insert), представленной далее в этом учебном пособии в разделе [\"Использование утверждений INSERT\"](https://docs.sqlalchemy.org/en/20/tutorial/data_insert.html#tutorial-core-insert), которая также указывает на возврат с помощью метода [Insert.returning()](https://docs.sqlalchemy.org/en/20/core/dml.html#sqlalchemy.sql.expression.Insert.returning). В этом случае SQLAlchemy использует специальную логику для реорганизации оператора `INSERT` таким образом, что он может быть вызван для многих строк и при этом поддерживать `RETURNING`."
   ]
  },
  {
   "cell_type": "markdown",
   "id": "564e064d",
   "metadata": {},
   "source": [
    "### Executing with an ORM Session\n",
    "\n",
    "Большинство примеров вывше также применимы и к ORM части SQLAlchemy.\n",
    "\n",
    "Здесь мы представим совместное использование Core и ORM.\n",
    "\n",
    "Фундаментальным объектом для транзакций/подключений/интерактивности к БД при использовании ORM называется [Session](https://docs.sqlalchemy.org/en/20/orm/session_api.html#sqlalchemy.orm.Session).\n",
    "\n",
    "В современном SQLAlchemy этот объект используется также, как и `Connection`, на самом деле при использовании `Session` он внутренне ссылается на `Connection`.\n",
    "\n",
    "Когда `Session` используется в конструкциях, не относящихся к ORM, то это фактически ничем не отличается от того, что делает `Connection`. Мы проиллюстрируем данное описание на примере ниже, в простых SQL-операциях с `text()`, которые мы изучили.\n",
    "\n",
    "`Session` имеет много различных шаблонов создания, но здесь мы проиллюстрируем самый простой, который в точности соответствует тому, как мы бы использовали `Connection` в менеджере контекста."
   ]
  },
  {
   "cell_type": "code",
   "execution_count": 9,
   "id": "c3cb52ad",
   "metadata": {},
   "outputs": [
    {
     "name": "stdout",
     "output_type": "stream",
     "text": [
      "2023-07-17 13:01:46,131 INFO sqlalchemy.engine.Engine BEGIN (implicit)\n",
      "2023-07-17 13:01:46,132 INFO sqlalchemy.engine.Engine SELECT x, y FROM some_table WHERE y > %(y)s ORDER BY x, y\n",
      "2023-07-17 13:01:46,132 INFO sqlalchemy.engine.Engine [generated in 0.00035s] {'y': 6}\n",
      "x: 6  y: 8\n",
      "x: 9  y: 10\n",
      "x: 11  y: 12\n",
      "x: 13  y: 14\n",
      "2023-07-17 13:01:46,133 INFO sqlalchemy.engine.Engine ROLLBACK\n"
     ]
    }
   ],
   "source": [
    "from sqlalchemy.orm import Session\n",
    "\n",
    "stmt = text(\"SELECT x, y FROM some_table WHERE y > :y ORDER BY x, y\")\n",
    "with Session(engine) as session:\n",
    "    result = session.execute(stmt, {\"y\": 6})\n",
    "    for row in result:\n",
    "        print(f\"x: {row.x}  y: {row.y}\")"
   ]
  },
  {
   "cell_type": "markdown",
   "id": "3c966d9e",
   "metadata": {},
   "source": [
    "Обратите внимение, что `Session` принимает в качестве параметра, `engine`, здесь фактически происходит тоже самое, что и при `Connection.connect()`.\n",
    "\n",
    "Кроме прочего, `Session`, как и `Connection`, имеет возможность фиксировать данные с помощью `Session.commit()`, что показано ниже на примере SQL-оператора `UPDATE`."
   ]
  },
  {
   "cell_type": "code",
   "execution_count": 10,
   "id": "14108c99",
   "metadata": {},
   "outputs": [
    {
     "name": "stdout",
     "output_type": "stream",
     "text": [
      "2023-07-17 13:06:07,917 INFO sqlalchemy.engine.Engine BEGIN (implicit)\n",
      "2023-07-17 13:06:07,918 INFO sqlalchemy.engine.Engine UPDATE some_table SET y=%(y)s WHERE x=%(x)s\n",
      "2023-07-17 13:06:07,919 INFO sqlalchemy.engine.Engine [generated in 0.00081s] [{'y': 11, 'x': 9}, {'y': 15, 'x': 13}]\n",
      "2023-07-17 13:06:07,922 INFO sqlalchemy.engine.Engine COMMIT\n"
     ]
    }
   ],
   "source": [
    "with Session(engine) as session:\n",
    "    result = session.execute(\n",
    "        text(\"UPDATE some_table SET y=:y WHERE x=:x\"),\n",
    "        [{\"x\": 9, \"y\": 11}, {\"x\": 13, \"y\": 15}],\n",
    "    )\n",
    "    session.commit()"
   ]
  },
  {
   "cell_type": "markdown",
   "id": "e7718826",
   "metadata": {},
   "source": [
    "`Session` не удерживает объект `Connection` после завршения транзакции. Она получает новое соединение от движка каждый раз, когда ей требуется выпонить SQL-запрос."
   ]
  },
  {
   "cell_type": "markdown",
   "id": "aa1daaeb",
   "metadata": {},
   "source": [
    "### Работа с метаданными БД.\n",
    "\n",
    "\n",
    "Центральным элементом Core и ORM, является язык SQL, который позволяет свободно строить SQL-запросы. Основой для этих запросов в связыке c SQLAlchemy являются *объекты Python*, которые  описывают таблицы и столбцы. Эти объекты в совокупности называются [метаданными БД](https://docs.sqlalchemy.org/en/20/glossary.html#term-database-metadata). \n",
    "\n",
    "Формально, термин *метаданные* **обычно означает данные** **которые описывают другие данные**. В SQLAlchemy термин `метаданные`, относится к конструкции [`MetaData`](https://docs.sqlalchemy.org/en/20/core/metadata.html#sqlalchemy.schema.MetaData), который представляет собой набор нформации о таблицах, столбцах, констрейнтах и других объектах DDL, которые могут описывать какую-то таблицу и существовать в БД.\n",
    "\n",
    "Наиболее распространенными, фундаментальными объектами для метаданных БД в SQLAlchemy являются `MetaData`, `Table`, `Column`.\n",
    "\n",
    "Ниже будет показано как эти объекты используются как в Core-ориентированном, так и ORM-ориентированном стиле.\n",
    "\n",
    "В SQLAlchemy `таблицу` базы данных представляет/описывает объект который называется [Table](https://docs.sqlalchemy.org/en/20/core/metadata.html#sqlalchemy.schema.Table).\n",
    "\n",
    "Перед тем как начать пользоваться `языком выраженый SQLAlchemy`, необходимо создать объекты `Table`, представляющие/описывающие таблицы БД, с которыми мы хотим работать. Объекты `Table`, создается либо с помощью `конструктора Table`, либо с помощью `ORM Mapped`. Существует также возможность загрузки информации о существующей таблице в БД, что называется [reflection](https://docs.sqlalchemy.org/en/20/glossary.html#term-reflection).\n",
    "\n",
    "Какой бы подход ни использовался, мы всегда начинаем с коллекции, в которой будут размещаться наши таблицы, называемой объектом `MetaData`. Этот объект, по сути является оберткой/[facade](https://docs.sqlalchemy.org/en/20/glossary.html#term-facade) словаря Python,  в котором хранится ряд объектов `Table`, с ключом в виде их строкового имени. Хотя ORM предоставляет несколько вариантов, где можно получить эту коллекцию... у нас всегда есть возможность создать ее напрямую:"
   ]
  },
  {
   "cell_type": "code",
   "execution_count": 11,
   "id": "e9e10690",
   "metadata": {},
   "outputs": [],
   "source": [
    "from sqlalchemy import MetaData\n",
    "metadata_obj = MetaData()"
   ]
  },
  {
   "cell_type": "markdown",
   "id": "de0437dc",
   "metadata": {},
   "source": [
    "После того как у нас есть объект `MetaData`, мы можем объявить несколько объектов `Table`.\n",
    "\n",
    "Опишем классическую модель, в которой есть таблица `user_account`, хранящая к примеру пользователей веб-сайта, и связанная с ней таблица `address`, хранящая адреса электронной почти, связанные со строками в таблице `user_account`.\n",
    "\n",
    "Когда мы не используем `декларативные модели ORM`, то мы создаем каждый объект `Table` присваивая его переменной, которя в свою очередь будет ссылаться на таблице в коде приложения."
   ]
  },
  {
   "cell_type": "code",
   "execution_count": 12,
   "id": "9fa656d6",
   "metadata": {},
   "outputs": [],
   "source": [
    "from sqlalchemy import Table, Column, Integer, String\n",
    "user_table = Table(\n",
    "    \"user_account\",\n",
    "    metadata_obj,\n",
    "    Column(\"id\", Integer, primary_key=True),\n",
    "    Column(\"name\", String(30)),\n",
    "    Column(\"fullname\", String),\n",
    ")"
   ]
  },
  {
   "cell_type": "markdown",
   "id": "aa0daa81",
   "metadata": {},
   "source": [
    "В приведенном выше примере, когда мы захотим обратиться к таблице `user_account` в БД, мы будем использовать Python-переменную `user_table`.\n",
    "\n",
    "Можно заметить, что конструкция `Table`, похожа на SQL-выражение `CREATE TABLE`. Мы начинаем с имени таблицы, затем перечисляем все столбцы и их типы.\n",
    "\n",
    "`Column` - представляет собой столбец таблицы базы данных и присваивается объекту `Table`. `Column` обычно включает в себя строковое имя и объект типа. Доступ к коллекции объектов `Column` в терминах родительской таблицы обычно осуществляется через ассоциативный массив, расположенный по адресу `Table.c`:"
   ]
  },
  {
   "cell_type": "code",
   "execution_count": 13,
   "id": "8f9cd889",
   "metadata": {},
   "outputs": [
    {
     "data": {
      "text/plain": [
       "['id', 'name', 'fullname']"
      ]
     },
     "execution_count": 13,
     "metadata": {},
     "output_type": "execute_result"
    }
   ],
   "source": [
    "user_table.c.keys()"
   ]
  },
  {
   "cell_type": "code",
   "execution_count": 14,
   "id": "1d7ef5e0",
   "metadata": {},
   "outputs": [
    {
     "data": {
      "text/plain": [
       "Column('name', String(length=30), table=<user_account>)"
      ]
     },
     "execution_count": 14,
     "metadata": {},
     "output_type": "execute_result"
    }
   ],
   "source": [
    "user_table.c.name"
   ]
  },
  {
   "cell_type": "markdown",
   "id": "6800ffa4",
   "metadata": {},
   "source": [
    "`Integer`, `String` - эти классы представляют типы данных SQL и могут быть переданы в `Column` как с инстанцированием, так и без него. Выше мы хотели задать столбцу \"`name`\" длину \"30\", поэтому инстанцировали `String(30)`. Но для \"`id`\" и \"`fullname`\" мы их не указывали, поэтому можем передать сам класс."
   ]
  },
  {
   "cell_type": "markdown",
   "id": "e7cb411f",
   "metadata": {},
   "source": [
    "Теперь нам нужно создать вторую таблицу, которая будет иметь констрейнт `ForeignKey`:"
   ]
  },
  {
   "cell_type": "code",
   "execution_count": 15,
   "id": "63c00a6f",
   "metadata": {},
   "outputs": [],
   "source": [
    "from sqlalchemy import ForeignKey\n",
    "address_table = Table(\n",
    "    \"address\",\n",
    "    metadata_obj,\n",
    "    Column(\"id\", Integer, primary_key=True),\n",
    "    Column(\"user_id\", ForeignKey(\"user_account.id\"), nullable=False),\n",
    "    Column(\"email_address\", String, nullable=False),\n",
    ")"
   ]
  },
  {
   "cell_type": "markdown",
   "id": "5081dfb3",
   "metadata": {},
   "source": [
    "В приведеннем выше примере также в столбце, которая является внешним ключом, мы указали `nullable=False` что эквивалентно `NOT NULL`.\n",
    "\n",
    "При использовании объекта `ForeignKey` в определении столбца можно не указывать тип данных для этого столбца; он автоматически подставляется из типа данных связанного столбца, в приведенном выше примере - типа `Integer` столбца `user_account.id`.\n",
    "\n",
    "В следующем разделе мы выдадим готовый DDL для таблицы пользователей и адресов, чтобы увидеть готовый результат.\n"
   ]
  },
  {
   "cell_type": "markdown",
   "id": "f0773b41",
   "metadata": {},
   "source": [
    "Мы построили объектную структуру, представляющую две таблицы в базе данных, начиная с корневого объекта `MetaData` и заканчивая двумя объектами `Table`, каждый из которых содержит коллекцию объектов `Column` и [Constraint](https://docs.sqlalchemy.org/en/20/core/constraints.html#sqlalchemy.schema.Constraint). Эта объектная структура будет в центре большинства операций, выполняемых нами в Core и ORM в дальнейшем.\n",
    "\n",
    "Первое, что мы можем сделать с помощью этой структуры, - это выполнить операторы `CREATE TABLE`, или DDL, для нашей базы данных, чтобы мы могли вставлять и запрашивать данные из них. \n",
    "\n",
    "У нас уже есть все необходимые для этого инструменты: мы вызываем метод `MetaData.create_all()` для наших `MetaData`, передавая им `Engine`, который ссылается на целевую базу данных:"
   ]
  },
  {
   "cell_type": "code",
   "execution_count": 16,
   "id": "1787e369",
   "metadata": {},
   "outputs": [
    {
     "name": "stdout",
     "output_type": "stream",
     "text": [
      "2023-07-17 14:12:25,626 INFO sqlalchemy.engine.Engine BEGIN (implicit)\n",
      "2023-07-17 14:12:25,632 INFO sqlalchemy.engine.Engine SELECT pg_catalog.pg_class.relname \n",
      "FROM pg_catalog.pg_class JOIN pg_catalog.pg_namespace ON pg_catalog.pg_namespace.oid = pg_catalog.pg_class.relnamespace \n",
      "WHERE pg_catalog.pg_class.relname = %(table_name)s AND pg_catalog.pg_class.relkind = ANY (ARRAY[%(param_1)s, %(param_2)s, %(param_3)s, %(param_4)s, %(param_5)s]) AND pg_catalog.pg_table_is_visible(pg_catalog.pg_class.oid) AND pg_catalog.pg_namespace.nspname != %(nspname_1)s\n",
      "2023-07-17 14:12:25,633 INFO sqlalchemy.engine.Engine [generated in 0.00082s] {'table_name': 'user_account', 'param_1': 'r', 'param_2': 'p', 'param_3': 'f', 'param_4': 'v', 'param_5': 'm', 'nspname_1': 'pg_catalog'}\n",
      "2023-07-17 14:12:25,640 INFO sqlalchemy.engine.Engine SELECT pg_catalog.pg_class.relname \n",
      "FROM pg_catalog.pg_class JOIN pg_catalog.pg_namespace ON pg_catalog.pg_namespace.oid = pg_catalog.pg_class.relnamespace \n",
      "WHERE pg_catalog.pg_class.relname = %(table_name)s AND pg_catalog.pg_class.relkind = ANY (ARRAY[%(param_1)s, %(param_2)s, %(param_3)s, %(param_4)s, %(param_5)s]) AND pg_catalog.pg_table_is_visible(pg_catalog.pg_class.oid) AND pg_catalog.pg_namespace.nspname != %(nspname_1)s\n",
      "2023-07-17 14:12:25,640 INFO sqlalchemy.engine.Engine [cached since 0.008021s ago] {'table_name': 'address', 'param_1': 'r', 'param_2': 'p', 'param_3': 'f', 'param_4': 'v', 'param_5': 'm', 'nspname_1': 'pg_catalog'}\n",
      "2023-07-17 14:12:25,642 INFO sqlalchemy.engine.Engine \n",
      "CREATE TABLE user_account (\n",
      "\tid SERIAL NOT NULL, \n",
      "\tname VARCHAR(30), \n",
      "\tfullname VARCHAR, \n",
      "\tPRIMARY KEY (id)\n",
      ")\n",
      "\n",
      "\n",
      "2023-07-17 14:12:25,642 INFO sqlalchemy.engine.Engine [no key 0.00039s] {}\n",
      "2023-07-17 14:12:25,653 INFO sqlalchemy.engine.Engine \n",
      "CREATE TABLE address (\n",
      "\tid SERIAL NOT NULL, \n",
      "\tuser_id INTEGER NOT NULL, \n",
      "\temail_address VARCHAR NOT NULL, \n",
      "\tPRIMARY KEY (id), \n",
      "\tFOREIGN KEY(user_id) REFERENCES user_account (id)\n",
      ")\n",
      "\n",
      "\n",
      "2023-07-17 14:12:25,654 INFO sqlalchemy.engine.Engine [no key 0.00059s] {}\n",
      "2023-07-17 14:12:25,659 INFO sqlalchemy.engine.Engine COMMIT\n"
     ]
    }
   ],
   "source": [
    "metadata_obj.create_all(engine)"
   ]
  },
  {
   "cell_type": "markdown",
   "id": "c2b04654",
   "metadata": {},
   "source": [
    "Приведенный выше процесс создания DDL включает несколько специфических операторов, которые проверяют существование каждой таблицы перед выполнением `CREATE`. Вся серия шагов также включена в пару `BEGIN/COMMIT`, что позволяет использовать транзакционный DDL.\n",
    "\n",
    "Процесс создания также заботится о том, чтобы операторы `CREATE` выполнялись в правильном порядке; выше ограничение `FOREIGN KEY` зависит от существования таблицы `user`, поэтому таблица `address` создается **второй**. В более сложных сценариях зависимостей ограничения `FOREIGN KEY` могут также применяться к таблицам постфактум с помощью `ALTER`.\n",
    "\n",
    "В объекте `MetaData` также имеется метод `MetaData.drop_all()`, который для удаления элементов схемы будет выдавать операторы `DROP` в обратном порядке, чем при выдаче `CREATE`."
   ]
  },
  {
   "cell_type": "markdown",
   "id": "fd667dda",
   "metadata": {},
   "source": [
    "Использование `декларативных форм ORM` для определения метаданных таблицы.\n",
    "\n",
    "Другой способ создания объектов `Table`?"
   ]
  },
  {
   "cell_type": "markdown",
   "id": "a6ac6846",
   "metadata": {},
   "source": [
    "В предыдущих примерах было показано прямое использование объекта `Table`, который лежит в основе того, как SQLAlchemy в конечном итоге обращается к таблицам базы данных при построении SQL-выражений. Как уже упоминалось, в SQLAlchemy ORM предусмотрен фасад, позволяющий обойти процесс объявления `Table`, называемый **Declarative Table**. Процесс Declarative `Table` достигает той же цели, что и в предыдущем разделе, - создание объектов `Table`, но в рамках этого процесса дает нам нечто иное, называемое [ORM mapped class](https://docs.sqlalchemy.org/en/20/glossary.html#term-ORM-mapped-class), или просто \"`mapped class`\". Сопоставленный класс является наиболее распространенной основополагающей единицей SQL при использовании ORM, а в современной SQLAlchemy может также достаточно эффективно применяться и в Core-ориентированном использовании.\n",
    "\n",
    "К числу преимуществ использования декларативной таблицы относятся:\n",
    "\n",
    "- Более лаконичный и питонический стиль задания определений столбцов, где типы Python могут использоваться для представления типов SQL, используемых в базе данных\n",
    "\n",
    "- Результирующий сопоставленный класс может быть использован для формирования SQL-выражений, которые во многих случаях поддерживают информацию о типизации, предусмотренную [PEP 484](https://peps.python.org/pep-0484/), которая учитывается средствами статического анализа, такими как Mypy, и средствами проверки типов IDE.\n",
    "\n",
    "- Позволяет одновременно объявлять метаданные таблицы и ORM mapped class, используемый в операциях сохранения/загрузки объектов.\n",
    "\n",
    "В этом разделе будет показано, как метаданные таблицы, описанные в предыдущих разделах, создаются с помощью Declarative Table."
   ]
  },
  {
   "cell_type": "markdown",
   "id": "e108559e",
   "metadata": {},
   "source": [
    "При использовании ORM, процесс объявления метаданных таблицы совмещается с процессом объявления `ORM mapped class`.\n",
    "\n",
    "`ORM mapped class` - это по сути любой класс Python, содержащий атрибуты связанные колонками таблицы БД.\n",
    "\n",
    "Хотя существует несколько видов этого процесса, наиболее рапространенный стиль известен как **декларативный**, что позволяет нам одновременно объявлять пользовательские классы и метаданные таблцы."
   ]
  },
  {
   "cell_type": "markdown",
   "id": "289a8b57",
   "metadata": {},
   "source": [
    "Создание декларативной базы.\n",
    "\n",
    "При использовании ORM, коллекция `MetaData` сохраняется, однако сама она ассоциируется с конструкцией предназначенной только для ORM и называемой декларативной базой (Declarative Base). Наиболее целесообразным способом получения новой декларативной базы является создание нового класса, который является подклассом класса Declarative Base."
   ]
  },
  {
   "cell_type": "code",
   "execution_count": 17,
   "id": "ef03974e",
   "metadata": {},
   "outputs": [],
   "source": [
    "from sqlalchemy.orm import DeclarativeBase\n",
    "class Base(DeclarativeBase):\n",
    "    pass"
   ]
  },
  {
   "cell_type": "markdown",
   "id": "e05012d4",
   "metadata": {},
   "source": [
    "Выше мы создали класс `Base`, который мы будем называть `Declarative Base`. Когда мы создаем новые классы являющиеся подклассом `Base`, каждый из них будет создат как новый `маппед класс ORM`, каждый из которых обычно ссылается на определенный объект `Table`.\n",
    "\n",
    "Декларативная база ссылается на коллекцию `MetaData`, которая создается для нас автоматически, если мы не предоставили ее извне. Доступ к этой коллекции `MetaData` осуществляется через атрибут уровня класса [DeclarativeBase.metadata](https://docs.sqlalchemy.org/en/20/orm/mapping_api.html#sqlalchemy.orm.DeclarativeBase.metadata). При создании новых отображаемых классов каждый из них будет ссылаться на таблицу в этой коллекции `MetaData`:"
   ]
  },
  {
   "cell_type": "code",
   "execution_count": 18,
   "id": "7bb41e70",
   "metadata": {},
   "outputs": [
    {
     "data": {
      "text/plain": [
       "MetaData()"
      ]
     },
     "execution_count": 18,
     "metadata": {},
     "output_type": "execute_result"
    }
   ],
   "source": [
    "Base.metadata"
   ]
  },
  {
   "cell_type": "markdown",
   "id": "f81edcd7",
   "metadata": {},
   "source": [
    "Декларативная база также ссылается на коллекцию под названием [registry](https://docs.sqlalchemy.org/en/20/orm/mapping_api.html#sqlalchemy.orm.registry), которая является центральной единицей \"`mapper configuration`\" в SQLAlchemy ORM. Хотя к этому объекту редко обращаются напрямую, он занимает центральное место в процессе `mapper configuration`, поскольку набор отображаемых классов ORM будет координироваться друг с другом через этот [registry](https://docs.sqlalchemy.org/en/20/orm/mapping_api.html#sqlalchemy.orm.registry). Как и в случае с `MetaData`, наша декларативная база также создала для нас реестр (опять же с возможностью передачи собственного [реестра](https://docs.sqlalchemy.org/en/20/orm/mapping_api.html#sqlalchemy.orm.registry)), доступ к которому мы можем получить через переменную класса [DeclarativeBase.registry](https://docs.sqlalchemy.org/en/20/orm/mapping_api.html#sqlalchemy.orm.DeclarativeBase.registry):"
   ]
  },
  {
   "cell_type": "code",
   "execution_count": 19,
   "id": "be7e214f",
   "metadata": {},
   "outputs": [
    {
     "data": {
      "text/plain": [
       "<sqlalchemy.orm.decl_api.registry at 0x10f6c4b50>"
      ]
     },
     "execution_count": 19,
     "metadata": {},
     "output_type": "execute_result"
    }
   ],
   "source": [
    "Base.registry"
   ]
  },
  {
   "cell_type": "markdown",
   "id": "4fbba483",
   "metadata": {},
   "source": [
    "[DeclarativeBase](https://docs.sqlalchemy.org/en/20/orm/mapping_api.html#sqlalchemy.orm.DeclarativeBase) - это не единственный способ отображения классов, а только самый распространенный. В [registry](https://docs.sqlalchemy.org/en/20/orm/mapping_api.html#sqlalchemy.orm.registry) представлены и другие конфигурационные паттерны отображения, включая декораторно-ориентированный и императивный способы отображения классов. Также имеется полная поддержка создания Python-классов данных при отображении. Все это можно найти в справочной документации по конфигурации [отображаемых классов в ORM](https://docs.sqlalchemy.org/en/20/orm/mapper_config.html).\n",
    "\n"
   ]
  },
  {
   "cell_type": "markdown",
   "id": "00d7ed0d",
   "metadata": {},
   "source": [
    "Объявление `mapped classes`/`отображаемых классов`/`классов сопоставления`/`маппируемых классов`.\n",
    "\n",
    "Теперь, когда класс `Base` создан, мы можем определить `ORM-маппируемые классы` для таблиц `user_account` и `address` в терминах новых классов `User` и `Address`. Ниже мы проиллюстрируем наиболее современную форму `Declarative`, которая основана на аннотациях типов [PEP 484](https://peps.python.org/pep-0484/) с использованием специального типа `Mapped`, указывающего на атрибуты, которые должны быть отображены как определенные типы:"
   ]
  },
  {
   "cell_type": "code",
   "execution_count": 20,
   "id": "247be97b",
   "metadata": {},
   "outputs": [],
   "source": [
    "from typing import List\n",
    "from typing import Optional\n",
    "from sqlalchemy.orm import Mapped\n",
    "from sqlalchemy.orm import mapped_column\n",
    "from sqlalchemy.orm import relationship\n",
    "\n",
    "class User(Base):\n",
    "    __tablename__ = \"user_account\"\n",
    "    id: Mapped[int] = mapped_column(primary_key=True)\n",
    "    name: Mapped[str] = mapped_column(String(30))\n",
    "    fullname: Mapped[Optional[str]]\n",
    "    addresses: Mapped[List[\"Address\"]] = relationship(back_populates=\"user\")\n",
    "    def __repr__(self) -> str:\n",
    "        return f\"User(id={self.id!r}, name={self.name!r}, fullname={self.fullname!r})\"\n",
    "\n",
    "class Address(Base):\n",
    "    __tablename__ = \"address\"\n",
    "    id: Mapped[int] = mapped_column(primary_key=True)\n",
    "    email_address: Mapped[str]\n",
    "    user_id = mapped_column(ForeignKey(\"user_account.id\"))\n",
    "    user: Mapped[User] = relationship(back_populates=\"addresses\")\n",
    "    def __repr__(self) -> str:\n",
    "        return f\"Address(id={self.id!r}, email_address={self.email_address!r})\""
   ]
  },
  {
   "cell_type": "markdown",
   "id": "ba2836bb",
   "metadata": {},
   "source": [
    "Два класса выше, `User` и `Address`, теперь называются `ORM Mapped Classes` и доступны для использования в операциях персистентного хранения и запросов ORM, которые будут описаны позже. \n",
    "\n",
    "Более подробная информация об этих классах включает:\n",
    "\n",
    "- Каждый класс ссылается на объект `Table`, сгенерированный в процессе декларативного отображения/маппинга, который именуется путем присвоения строки атрибуту `DeclarativeBase.__tablename__`. После создания класса эта сгенерированная таблица становится доступной по атрибуту `DeclarativeBase.__table__`.\n",
    "\n",
    "- Как упоминалось, такая форма называется [декларативной конфигурацией таблиц](https://docs.sqlalchemy.org/en/20/orm/declarative_tables.html#orm-declarative-table-configuration). Мы создаем объект `Table` напрямую и присваиваем его непосредственно к `DeclarativeBase.__table__`. Этот стиль известен как `Declarative with Imperative Table`.\n",
    "\n",
    "- Для указания столбцов в таблице используется конструкция [mapped_column()](https://docs.sqlalchemy.org/en/20/orm/mapping_api.html#sqlalchemy.orm.mapped_column) в сочетании с аннотациями типов, основанными на типе [Mapped](https://docs.sqlalchemy.org/en/20/orm/internals.html#sqlalchemy.orm.Mapped). Этот объект будет генерировать объекты `Column`, которые применяются при построении `Table`.\n",
    "\n",
    "- Для столбцов с простыми типами данных, не имеющих других вариантов, мы можем указать только аннотацию `Mapped`, используя такие простые типы Python, как `int` и `str`, для обозначения `Integer` и `String`. Настройки интерпретации типов Python в процессе декларативного отображения очень свободны; см. разделы [Использование аннотированной декларативной таблицы (Формы с аннотацией типов для mapped_column())](https://docs.sqlalchemy.org/en/20/orm/declarative_tables.html#orm-declarative-mapped-column) и [Настройка Типов Map](https://docs.sqlalchemy.org/en/20/orm/declarative_tables.html#orm-declarative-mapped-column-type-map).\n",
    "\n",
    "- Колонка может быть объявлена как \"nullable\" или \"not null\" на основании наличия аннотации типа `Optional[<typ>]` (или ее эквивалентов `<typ> | None или Union[<typ>, None]`). Параметр [mapped_column.nullable](https://docs.sqlalchemy.org/en/20/orm/mapping_api.html#sqlalchemy.orm.mapped_column.params.nullable) также может быть использован явно (и не обязательно должен соответствовать опциональности аннотации).\n",
    "\n",
    "- Использование явных аннотаций типов совершенно необязательно. Мы также можем использовать `mapped_column()` без аннотаций. В этом случае в каждой конструкции `mapped_column()` следует использовать более явные объекты типа `Integer` и `String`, а также `nullable=False` по мере необходимости.\n",
    "\n",
    "- Два дополнительных атрибута, `User.addresses` и `Address.user`, определяют другой тип атрибута, называемый [relationship()](https://docs.sqlalchemy.org/en/20/orm/relationship_api.html#sqlalchemy.orm.relationship), который имеет аналогичные аннотационно-ориентированные настройки типов, как показано в примере. Более подробно конструкция [relationship()](https://docs.sqlalchemy.org/en/20/orm/relationship_api.html#sqlalchemy.orm.relationship) рассматривается в разделе [Работа со связанными объектами ORM](https://docs.sqlalchemy.org/en/20/tutorial/orm_related_objects.html#tutorial-orm-related-objects).\n",
    "\n",
    "- Классы автоматически получают метод `__init__()`, если мы не объявляем его самостоятельно. В стандартной форме этот метод принимает все имена атрибутов в качестве необязательных аргументов-ключей:\n",
    "```python\n",
    "sandy = User(name=\"sandy\", fullname=\"Sandy Cheeks\")\n",
    "```\n",
    "\n",
    "- Для автоматической генерации полнофункционального метода `__init__()`, в котором предусмотрены позиционные аргументы, а также аргументы со значениями ключевых слов по умолчанию, можно использовать функцию dataclasses, представленную в разделе [Declarative Dataclass Mapping](https://docs.sqlalchemy.org/en/20/orm/dataclasses.html#orm-declarative-native-dataclasses). Конечно, всегда можно использовать и явный метод `__init__()`.\n",
    "\n",
    "- Методы `__repr__()` добавлены для того, чтобы мы получили читаемый строковый вывод; наличие этих методов не является обязательным. Как и в случае с `__init__()`, метод `__repr__()` может быть сгенерирован автоматически с помощью функции [dataclasses](https://docs.sqlalchemy.org/en/20/orm/dataclasses.html#orm-declarative-native-dataclasses).\n"
   ]
  },
  {
   "cell_type": "markdown",
   "id": "d01e0e34",
   "metadata": {},
   "source": [
    "Куда делась старая добрая декларативность?\n",
    "\n",
    "Пользователи `SQLAlchemy 1.4` и более ранних версий заметят, что приведенное выше отображение/mapping имеет принципиально иную форму, чем раньше; оно не только использует `mapped_column()` вместо `Column` в декларативном отображении/mapping, но и использует аннотации типов Python для получения информации о столбцах.\n",
    "\n",
    "Для пользователей \"старого\" способа поясним, что декларативные отображения/mapping по-прежнему могут выполняться с использованием объектов `Column` (а также с использованием функции [declarative_base()](https://docs.sqlalchemy.org/en/20/orm/mapping_api.html#sqlalchemy.orm.declarative_base) для создания базового класса), и эти формы будут поддерживаться и в дальнейшем, причем их отмена не планируется. Причина замены этих двух объектов новыми конструкциями заключается, прежде всего, в том, что они легко интегрируются с инструментами `PEP 484`, включая `IDE`, такие как `VSCode`, и программы проверки типов, такие как `Mypy` и `Pyright`, без необходимости установки плагинов. Во-вторых, вывод деклараций из аннотаций типов является частью интеграции SQLAlchemy с датаклассами Python, которые теперь могут быть [сгенерированы нативно](https://docs.sqlalchemy.org/en/20/orm/dataclasses.html#orm-declarative-native-dataclasses) из отображений/mappings.\n",
    "\n",
    "Для пользователей, которым нравится \"старый\" способ, но при этом они хотят, чтобы их IDE не выдавала ошибочных сообщений об ошибках ввода в декларативных отображениях/mappings, конструкция `mapped_column()` является полноценной заменой `Column` в декларативных отображениях ORM (обратите внимание, что `mapped_column()` предназначена только для декларативных отображений ORM; она не может использоваться внутри конструкции `Table`), а аннотации типов являются необязательными. Наше отображение, приведенное выше, можно записать без аннотаций как:\n",
    "\n",
    "```python\n",
    "class User(Base):\n",
    "    __tablename__ = \"user_account\"\n",
    "\n",
    "    id = mapped_column(Integer, primary_key=True)\n",
    "    name = mapped_column(String(30), nullable=False)\n",
    "    fullname = mapped_column(String)\n",
    "\n",
    "    addresses = relationship(\"Address\", back_populates=\"user\")\n",
    "\n",
    "    # ... продолжение опеределений\n",
    "```"
   ]
  },
  {
   "cell_type": "markdown",
   "id": "ed5b6676",
   "metadata": {},
   "source": [
    "См. также:\n",
    "\n",
    "- [ORM Mapping Styles](https://docs.sqlalchemy.org/en/20/orm/mapping_styles.html#orm-mapping-styles) -  полная информация о различных конфигурационных стилях ORM.\n",
    "- \n",
    "- [https://docs.sqlalchemy.org/en/20/orm/mapping_styles.html#orm-declarative-mapping](https://docs.sqlalchemy.org/en/20/orm/mapping_styles.html#orm-declarative-mapping) - обзор декларативного отображения классов\n",
    "\n",
    "\n",
    "- [https://docs.sqlalchemy.org/en/20/orm/declarative_tables.html#orm-declarative-table](https://docs.sqlalchemy.org/en/20/orm/declarative_tables.html#orm-declarative-table) - подробно описано использование функций `mapped_column()` и `Mapped` для определения столбцов `Table`, которые должны быть сопоставлены при использовании Declarative.\n"
   ]
  },
  {
   "cell_type": "markdown",
   "id": "6a30ca75",
   "metadata": {},
   "source": [
    "Генерация DDL в базу данных из `ORM mapping`.\n",
    "\n",
    "Поскольку наши классы, отображаемые в ORM, ссылаются на объекты `Table`, содержащиеся в коллекции `MetaData`, генерация DDL на основе декларативной базы происходит аналогично процессу, описанному ранее в разделе. В нашем случае мы уже создавали таблицы `пользователей` и `адресов` в нашей базе данных выше. Если бы мы этого еще не сделали, то могли бы воспользоваться для этого метаданными, связанными с нашим классом ORM Declarative Base, получив доступ к коллекции из атрибута [DeclarativeBase.metadata](https://docs.sqlalchemy.org/en/20/orm/mapping_api.html#sqlalchemy.orm.DeclarativeBase.metadata), а затем, как и раньше, использовать [MetaData.create_all()](https://docs.sqlalchemy.org/en/20/core/metadata.html#sqlalchemy.schema.MetaData.create_all). В этом случае выполняются операторы *(IF EXISTS)*, но новые таблицы не создаются, так как они уже присутствуют:"
   ]
  },
  {
   "cell_type": "code",
   "execution_count": 21,
   "id": "11f888f7",
   "metadata": {},
   "outputs": [
    {
     "name": "stdout",
     "output_type": "stream",
     "text": [
      "2023-07-17 16:10:12,923 INFO sqlalchemy.engine.Engine BEGIN (implicit)\n",
      "2023-07-17 16:10:12,925 INFO sqlalchemy.engine.Engine SELECT pg_catalog.pg_class.relname \n",
      "FROM pg_catalog.pg_class JOIN pg_catalog.pg_namespace ON pg_catalog.pg_namespace.oid = pg_catalog.pg_class.relnamespace \n",
      "WHERE pg_catalog.pg_class.relname = %(table_name)s AND pg_catalog.pg_class.relkind = ANY (ARRAY[%(param_1)s, %(param_2)s, %(param_3)s, %(param_4)s, %(param_5)s]) AND pg_catalog.pg_table_is_visible(pg_catalog.pg_class.oid) AND pg_catalog.pg_namespace.nspname != %(nspname_1)s\n",
      "2023-07-17 16:10:12,925 INFO sqlalchemy.engine.Engine [cached since 5215s ago] {'table_name': 'user_account', 'param_1': 'r', 'param_2': 'p', 'param_3': 'f', 'param_4': 'v', 'param_5': 'm', 'nspname_1': 'pg_catalog'}\n",
      "2023-07-17 16:10:12,928 INFO sqlalchemy.engine.Engine SELECT pg_catalog.pg_class.relname \n",
      "FROM pg_catalog.pg_class JOIN pg_catalog.pg_namespace ON pg_catalog.pg_namespace.oid = pg_catalog.pg_class.relnamespace \n",
      "WHERE pg_catalog.pg_class.relname = %(table_name)s AND pg_catalog.pg_class.relkind = ANY (ARRAY[%(param_1)s, %(param_2)s, %(param_3)s, %(param_4)s, %(param_5)s]) AND pg_catalog.pg_table_is_visible(pg_catalog.pg_class.oid) AND pg_catalog.pg_namespace.nspname != %(nspname_1)s\n",
      "2023-07-17 16:10:12,928 INFO sqlalchemy.engine.Engine [cached since 5215s ago] {'table_name': 'address', 'param_1': 'r', 'param_2': 'p', 'param_3': 'f', 'param_4': 'v', 'param_5': 'm', 'nspname_1': 'pg_catalog'}\n",
      "2023-07-17 16:10:12,929 INFO sqlalchemy.engine.Engine COMMIT\n"
     ]
    }
   ],
   "source": [
    "Base.metadata.create_all(engine)"
   ]
  },
  {
   "cell_type": "markdown",
   "id": "1349bdd2",
   "metadata": {},
   "source": [
    "Далее мы рассмотрим, как мы можем генерировать объекты `Table` из существующей БД.\n",
    "\n",
    "Завершая раздел о работе с метаданными таблиц, мы проиллюстрируем еще одну операцию, о которой говорилось в начале раздела, - отражение таблицы (**table reflection**). Под отражением таблицы (**table reflaction**) понимается процесс генерации объектов `Table` и связанных с ними объектов путем чтения текущего состояния базы данных. Если в предыдущих разделах мы объявляли объекты `Table` в Python, после чего у нас была возможность отправить DDL в базу данных для создания схемы, то в процессе отражения эти два шага выполняются в обратном порядке, начиная с существующей базы данных и создавая структуры данных на языке Python для представления схем в этой базе.\n",
    "\n",
    "\n",
    "В качестве примера отражения (reflection) создадим новый объект `Table`, представляющий объект `some_table`, который мы создали вручную в предыдущих разделах этого документа. Существует несколько вариантов того, как это делается, однако наиболее простой заключается в создании объекта `Table` с указанием имени таблицы и коллекции `MetaData`, к которой он будет принадлежать, а затем вместо указания отдельных объектов `Column` и `Constraint` передать ему целевой `Engine` с помощью параметра `Table.autoload_with`:"
   ]
  },
  {
   "cell_type": "code",
   "execution_count": 22,
   "id": "b4d4b757",
   "metadata": {},
   "outputs": [
    {
     "name": "stdout",
     "output_type": "stream",
     "text": [
      "2023-07-17 16:16:36,675 INFO sqlalchemy.engine.Engine BEGIN (implicit)\n",
      "2023-07-17 16:16:36,676 INFO sqlalchemy.engine.Engine SELECT pg_catalog.pg_attribute.attname AS name, pg_catalog.format_type(pg_catalog.pg_attribute.atttypid, pg_catalog.pg_attribute.atttypmod) AS format_type, (SELECT pg_catalog.pg_get_expr(pg_catalog.pg_attrdef.adbin, pg_catalog.pg_attrdef.adrelid) AS pg_get_expr_1 \n",
      "FROM pg_catalog.pg_attrdef \n",
      "WHERE pg_catalog.pg_attrdef.adrelid = pg_catalog.pg_attribute.attrelid AND pg_catalog.pg_attrdef.adnum = pg_catalog.pg_attribute.attnum AND pg_catalog.pg_attribute.atthasdef) AS \"default\", pg_catalog.pg_attribute.attnotnull AS not_null, pg_catalog.pg_class.relname AS table_name, pg_catalog.pg_description.description AS comment, pg_catalog.pg_attribute.attgenerated AS generated, (SELECT json_build_object(%(json_build_object_2)s, pg_catalog.pg_attribute.attidentity = %(attidentity_1)s, %(json_build_object_3)s, pg_catalog.pg_sequence.seqstart, %(json_build_object_4)s, pg_catalog.pg_sequence.seqincrement, %(json_build_object_5)s, pg_catalog.pg_sequence.seqmin, %(json_build_object_6)s, pg_catalog.pg_sequence.seqmax, %(json_build_object_7)s, pg_catalog.pg_sequence.seqcache, %(json_build_object_8)s, pg_catalog.pg_sequence.seqcycle) AS json_build_object_1 \n",
      "FROM pg_catalog.pg_sequence \n",
      "WHERE pg_catalog.pg_attribute.attidentity != %(attidentity_2)s AND pg_catalog.pg_sequence.seqrelid = CAST(CAST(pg_catalog.pg_get_serial_sequence(CAST(CAST(pg_catalog.pg_attribute.attrelid AS REGCLASS) AS TEXT), pg_catalog.pg_attribute.attname) AS REGCLASS) AS OID)) AS identity_options \n",
      "FROM pg_catalog.pg_class LEFT OUTER JOIN pg_catalog.pg_attribute ON pg_catalog.pg_class.oid = pg_catalog.pg_attribute.attrelid AND pg_catalog.pg_attribute.attnum > %(attnum_1)s AND NOT pg_catalog.pg_attribute.attisdropped LEFT OUTER JOIN pg_catalog.pg_description ON pg_catalog.pg_description.objoid = pg_catalog.pg_attribute.attrelid AND pg_catalog.pg_description.objsubid = pg_catalog.pg_attribute.attnum JOIN pg_catalog.pg_namespace ON pg_catalog.pg_namespace.oid = pg_catalog.pg_class.relnamespace \n",
      "WHERE pg_catalog.pg_class.relkind = ANY (ARRAY[%(param_1)s, %(param_2)s, %(param_3)s, %(param_4)s, %(param_5)s]) AND pg_catalog.pg_table_is_visible(pg_catalog.pg_class.oid) AND pg_catalog.pg_namespace.nspname != %(nspname_1)s AND pg_catalog.pg_class.relname IN (%(filter_names_1)s) ORDER BY pg_catalog.pg_class.relname, pg_catalog.pg_attribute.attnum\n",
      "2023-07-17 16:16:36,677 INFO sqlalchemy.engine.Engine [generated in 0.00185s] {'json_build_object_2': 'always', 'attidentity_1': 'a', 'json_build_object_3': 'start', 'json_build_object_4': 'increment', 'json_build_object_5': 'minvalue', 'json_build_object_6': 'maxvalue', 'json_build_object_7': 'cache', 'json_build_object_8': 'cycle', 'attidentity_2': '', 'attnum_1': 0, 'param_1': 'r', 'param_2': 'p', 'param_3': 'f', 'param_4': 'v', 'param_5': 'm', 'nspname_1': 'pg_catalog', 'filter_names_1': 'some_table'}\n",
      "2023-07-17 16:16:36,687 INFO sqlalchemy.engine.Engine SELECT pg_catalog.pg_type.typname AS name, pg_catalog.format_type(pg_catalog.pg_type.typbasetype, pg_catalog.pg_type.typtypmod) AS attype, NOT pg_catalog.pg_type.typnotnull AS nullable, pg_catalog.pg_type.typdefault AS \"default\", pg_catalog.pg_type_is_visible(pg_catalog.pg_type.oid) AS visible, pg_catalog.pg_namespace.nspname AS schema, domain_constraints.condefs, domain_constraints.connames \n",
      "FROM pg_catalog.pg_type JOIN pg_catalog.pg_namespace ON pg_catalog.pg_namespace.oid = pg_catalog.pg_type.typnamespace LEFT OUTER JOIN (SELECT pg_catalog.pg_constraint.contypid AS contypid, array_agg(pg_catalog.pg_get_constraintdef(pg_catalog.pg_constraint.oid, %(pg_get_constraintdef_1)s)) AS condefs, array_agg(CAST(pg_catalog.pg_constraint.conname AS TEXT)) AS connames \n",
      "FROM pg_catalog.pg_constraint \n",
      "WHERE pg_catalog.pg_constraint.contypid != %(contypid_1)s GROUP BY pg_catalog.pg_constraint.contypid) AS domain_constraints ON pg_catalog.pg_type.oid = domain_constraints.contypid \n",
      "WHERE pg_catalog.pg_type.typtype = %(typtype_1)s ORDER BY pg_catalog.pg_namespace.nspname, pg_catalog.pg_type.typname\n",
      "2023-07-17 16:16:36,688 INFO sqlalchemy.engine.Engine [generated in 0.00130s] {'pg_get_constraintdef_1': True, 'contypid_1': 0, 'typtype_1': 'd'}\n",
      "2023-07-17 16:16:36,696 INFO sqlalchemy.engine.Engine SELECT pg_catalog.pg_type.typname AS name, pg_catalog.pg_type_is_visible(pg_catalog.pg_type.oid) AS visible, pg_catalog.pg_namespace.nspname AS schema, lbl_agg.labels AS labels \n",
      "FROM pg_catalog.pg_type JOIN pg_catalog.pg_namespace ON pg_catalog.pg_namespace.oid = pg_catalog.pg_type.typnamespace LEFT OUTER JOIN (SELECT pg_catalog.pg_enum.enumtypid AS enumtypid, array_agg(CAST(pg_catalog.pg_enum.enumlabel AS TEXT) ORDER BY pg_catalog.pg_enum.enumsortorder) AS labels \n",
      "FROM pg_catalog.pg_enum GROUP BY pg_catalog.pg_enum.enumtypid) AS lbl_agg ON pg_catalog.pg_type.oid = lbl_agg.enumtypid \n",
      "WHERE pg_catalog.pg_type.typtype = %(typtype_1)s ORDER BY pg_catalog.pg_namespace.nspname, pg_catalog.pg_type.typname\n",
      "2023-07-17 16:16:36,697 INFO sqlalchemy.engine.Engine [generated in 0.00046s] {'typtype_1': 'e'}\n",
      "2023-07-17 16:16:36,700 INFO sqlalchemy.engine.Engine SELECT pg_catalog.pg_class.oid, pg_catalog.pg_class.relname \n",
      "FROM pg_catalog.pg_class JOIN pg_catalog.pg_namespace ON pg_catalog.pg_namespace.oid = pg_catalog.pg_class.relnamespace \n",
      "WHERE pg_catalog.pg_class.relkind = ANY (ARRAY[%(param_1)s, %(param_2)s, %(param_3)s, %(param_4)s, %(param_5)s]) AND pg_catalog.pg_table_is_visible(pg_catalog.pg_class.oid) AND pg_catalog.pg_namespace.nspname != %(nspname_1)s AND pg_catalog.pg_class.relname IN (%(filter_names_1)s)\n",
      "2023-07-17 16:16:36,701 INFO sqlalchemy.engine.Engine [generated in 0.00036s] {'param_1': 'r', 'param_2': 'p', 'param_3': 'f', 'param_4': 'v', 'param_5': 'm', 'nspname_1': 'pg_catalog', 'filter_names_1': 'some_table'}\n",
      "2023-07-17 16:16:36,704 INFO sqlalchemy.engine.Engine SELECT attr.conrelid, array_agg(CAST(attr.attname AS TEXT) ORDER BY attr.ord) AS cols, attr.conname, min(attr.description) AS description, NULL AS extra \n",
      "FROM (SELECT con.conrelid AS conrelid, con.conname AS conname, con.conindid AS conindid, con.description AS description, con.ord AS ord, pg_catalog.pg_attribute.attname AS attname \n",
      "FROM pg_catalog.pg_attribute JOIN (SELECT pg_catalog.pg_constraint.conrelid AS conrelid, pg_catalog.pg_constraint.conname AS conname, pg_catalog.pg_constraint.conindid AS conindid, unnest(pg_catalog.pg_constraint.conkey) AS attnum, generate_subscripts(pg_catalog.pg_constraint.conkey, %(generate_subscripts_1)s) AS ord, pg_catalog.pg_description.description AS description \n",
      "FROM pg_catalog.pg_constraint LEFT OUTER JOIN pg_catalog.pg_description ON pg_catalog.pg_description.objoid = pg_catalog.pg_constraint.oid \n",
      "WHERE pg_catalog.pg_constraint.contype = %(contype)s AND pg_catalog.pg_constraint.conrelid IN (%(oids_1)s)) AS con ON pg_catalog.pg_attribute.attnum = con.attnum AND pg_catalog.pg_attribute.attrelid = con.conrelid \n",
      "WHERE con.conrelid IN (%(oids_1)s)) AS attr GROUP BY attr.conrelid, attr.conname ORDER BY attr.conrelid, attr.conname\n",
      "2023-07-17 16:16:36,705 INFO sqlalchemy.engine.Engine [generated in 0.00047s] {'generate_subscripts_1': 1, 'contype': 'p', 'oids_1': 33439}\n",
      "2023-07-17 16:16:36,709 INFO sqlalchemy.engine.Engine SELECT pg_catalog.pg_class.relname, pg_catalog.pg_constraint.conname, CASE WHEN (pg_catalog.pg_constraint.oid IS NOT NULL) THEN pg_catalog.pg_get_constraintdef(pg_catalog.pg_constraint.oid, %(pg_get_constraintdef_1)s) END AS anon_1, nsp_ref.nspname, pg_catalog.pg_description.description \n",
      "FROM pg_catalog.pg_class LEFT OUTER JOIN pg_catalog.pg_constraint ON pg_catalog.pg_class.oid = pg_catalog.pg_constraint.conrelid AND pg_catalog.pg_constraint.contype = %(contype_1)s LEFT OUTER JOIN pg_catalog.pg_class AS cls_ref ON cls_ref.oid = pg_catalog.pg_constraint.confrelid LEFT OUTER JOIN pg_catalog.pg_namespace AS nsp_ref ON cls_ref.relnamespace = nsp_ref.oid LEFT OUTER JOIN pg_catalog.pg_description ON pg_catalog.pg_description.objoid = pg_catalog.pg_constraint.oid JOIN pg_catalog.pg_namespace ON pg_catalog.pg_namespace.oid = pg_catalog.pg_class.relnamespace \n",
      "WHERE pg_catalog.pg_class.relkind = ANY (ARRAY[%(param_1)s, %(param_2)s, %(param_3)s, %(param_4)s, %(param_5)s]) AND pg_catalog.pg_table_is_visible(pg_catalog.pg_class.oid) AND pg_catalog.pg_namespace.nspname != %(nspname_1)s AND pg_catalog.pg_class.relname IN (%(filter_names_1)s) ORDER BY pg_catalog.pg_class.relname, pg_catalog.pg_constraint.conname\n",
      "2023-07-17 16:16:36,709 INFO sqlalchemy.engine.Engine [generated in 0.00046s] {'pg_get_constraintdef_1': True, 'contype_1': 'f', 'param_1': 'r', 'param_2': 'p', 'param_3': 'f', 'param_4': 'v', 'param_5': 'm', 'nspname_1': 'pg_catalog', 'filter_names_1': 'some_table'}\n",
      "2023-07-17 16:16:36,715 INFO sqlalchemy.engine.Engine SELECT pg_catalog.pg_index.indrelid, cls_idx.relname AS relname_index, pg_catalog.pg_index.indisunique, pg_catalog.pg_constraint.conrelid IS NOT NULL AS has_constraint, pg_catalog.pg_index.indoption, cls_idx.reloptions, pg_catalog.pg_am.amname, CASE WHEN (pg_catalog.pg_index.indpred IS NOT NULL) THEN pg_catalog.pg_get_expr(pg_catalog.pg_index.indpred, pg_catalog.pg_index.indrelid) END AS filter_definition, pg_catalog.pg_index.indnkeyatts, pg_catalog.pg_index.indnullsnotdistinct, idx_cols.elements, idx_cols.elements_is_expr \n",
      "FROM pg_catalog.pg_index JOIN pg_catalog.pg_class AS cls_idx ON pg_catalog.pg_index.indexrelid = cls_idx.oid JOIN pg_catalog.pg_am ON cls_idx.relam = pg_catalog.pg_am.oid LEFT OUTER JOIN (SELECT idx_attr.indexrelid AS indexrelid, min(idx_attr.indrelid) AS min_1, array_agg(idx_attr.element ORDER BY idx_attr.ord) AS elements, array_agg(idx_attr.is_expr ORDER BY idx_attr.ord) AS elements_is_expr \n",
      "FROM (SELECT idx.indexrelid AS indexrelid, idx.indrelid AS indrelid, idx.ord AS ord, CASE WHEN (idx.attnum = %(attnum_1)s) THEN pg_catalog.pg_get_indexdef(idx.indexrelid, idx.ord + %(ord_1)s, %(pg_get_indexdef_1)s) ELSE CAST(pg_catalog.pg_attribute.attname AS TEXT) END AS element, idx.attnum = %(attnum_2)s AS is_expr \n",
      "FROM (SELECT pg_catalog.pg_index.indexrelid AS indexrelid, pg_catalog.pg_index.indrelid AS indrelid, unnest(pg_catalog.pg_index.indkey) AS attnum, generate_subscripts(pg_catalog.pg_index.indkey, %(generate_subscripts_1)s) AS ord \n",
      "FROM pg_catalog.pg_index \n",
      "WHERE NOT pg_catalog.pg_index.indisprimary AND pg_catalog.pg_index.indrelid IN (%(oids_1)s)) AS idx LEFT OUTER JOIN pg_catalog.pg_attribute ON pg_catalog.pg_attribute.attnum = idx.attnum AND pg_catalog.pg_attribute.attrelid = idx.indrelid \n",
      "WHERE idx.indrelid IN (%(oids_1)s)) AS idx_attr GROUP BY idx_attr.indexrelid) AS idx_cols ON pg_catalog.pg_index.indexrelid = idx_cols.indexrelid LEFT OUTER JOIN pg_catalog.pg_constraint ON pg_catalog.pg_index.indrelid = pg_catalog.pg_constraint.conrelid AND pg_catalog.pg_index.indexrelid = pg_catalog.pg_constraint.conindid AND pg_catalog.pg_constraint.contype = ANY (ARRAY[%(param_1)s, %(param_2)s, %(param_3)s]) \n",
      "WHERE pg_catalog.pg_index.indrelid IN (%(oids_1)s) AND NOT pg_catalog.pg_index.indisprimary ORDER BY pg_catalog.pg_index.indrelid, cls_idx.relname\n",
      "2023-07-17 16:16:36,715 INFO sqlalchemy.engine.Engine [generated in 0.00043s] {'attnum_1': 0, 'ord_1': 1, 'pg_get_indexdef_1': True, 'attnum_2': 0, 'generate_subscripts_1': 1, 'param_1': 'p', 'param_2': 'u', 'param_3': 'x', 'oids_1': 33439}\n",
      "2023-07-17 16:16:36,719 INFO sqlalchemy.engine.Engine SELECT attr.conrelid, array_agg(CAST(attr.attname AS TEXT) ORDER BY attr.ord) AS cols, attr.conname, min(attr.description) AS description, bool_and(pg_catalog.pg_index.indnullsnotdistinct) AS indnullsnotdistinct \n",
      "FROM (SELECT con.conrelid AS conrelid, con.conname AS conname, con.conindid AS conindid, con.description AS description, con.ord AS ord, pg_catalog.pg_attribute.attname AS attname \n",
      "FROM pg_catalog.pg_attribute JOIN (SELECT pg_catalog.pg_constraint.conrelid AS conrelid, pg_catalog.pg_constraint.conname AS conname, pg_catalog.pg_constraint.conindid AS conindid, unnest(pg_catalog.pg_constraint.conkey) AS attnum, generate_subscripts(pg_catalog.pg_constraint.conkey, %(generate_subscripts_1)s) AS ord, pg_catalog.pg_description.description AS description \n",
      "FROM pg_catalog.pg_constraint LEFT OUTER JOIN pg_catalog.pg_description ON pg_catalog.pg_description.objoid = pg_catalog.pg_constraint.oid \n",
      "WHERE pg_catalog.pg_constraint.contype = %(contype)s AND pg_catalog.pg_constraint.conrelid IN (%(oids_1)s)) AS con ON pg_catalog.pg_attribute.attnum = con.attnum AND pg_catalog.pg_attribute.attrelid = con.conrelid \n",
      "WHERE con.conrelid IN (%(oids_1)s)) AS attr JOIN pg_catalog.pg_index ON attr.conindid = pg_catalog.pg_index.indexrelid GROUP BY attr.conrelid, attr.conname ORDER BY attr.conrelid, attr.conname\n",
      "2023-07-17 16:16:36,720 INFO sqlalchemy.engine.Engine [generated in 0.00078s] {'generate_subscripts_1': 1, 'contype': 'u', 'oids_1': 33439}\n",
      "2023-07-17 16:16:36,724 INFO sqlalchemy.engine.Engine SELECT pg_catalog.pg_class.relname, pg_catalog.pg_description.description \n",
      "FROM pg_catalog.pg_class LEFT OUTER JOIN pg_catalog.pg_description ON pg_catalog.pg_class.oid = pg_catalog.pg_description.objoid AND pg_catalog.pg_description.objsubid = %(objsubid_1)s JOIN pg_catalog.pg_namespace ON pg_catalog.pg_namespace.oid = pg_catalog.pg_class.relnamespace \n",
      "WHERE pg_catalog.pg_class.relkind = ANY (ARRAY[%(param_1)s, %(param_2)s, %(param_3)s, %(param_4)s, %(param_5)s]) AND pg_catalog.pg_table_is_visible(pg_catalog.pg_class.oid) AND pg_catalog.pg_namespace.nspname != %(nspname_1)s AND pg_catalog.pg_class.relname IN (%(filter_names_1)s)\n",
      "2023-07-17 16:16:36,724 INFO sqlalchemy.engine.Engine [generated in 0.00061s] {'objsubid_1': 0, 'param_1': 'r', 'param_2': 'p', 'param_3': 'f', 'param_4': 'v', 'param_5': 'm', 'nspname_1': 'pg_catalog', 'filter_names_1': 'some_table'}\n",
      "2023-07-17 16:16:36,726 INFO sqlalchemy.engine.Engine SELECT pg_catalog.pg_class.relname, pg_catalog.pg_constraint.conname, CASE WHEN (pg_catalog.pg_constraint.oid IS NOT NULL) THEN pg_catalog.pg_get_constraintdef(pg_catalog.pg_constraint.oid, %(pg_get_constraintdef_1)s) END AS anon_1, pg_catalog.pg_description.description \n",
      "FROM pg_catalog.pg_class LEFT OUTER JOIN pg_catalog.pg_constraint ON pg_catalog.pg_class.oid = pg_catalog.pg_constraint.conrelid AND pg_catalog.pg_constraint.contype = %(contype_1)s LEFT OUTER JOIN pg_catalog.pg_description ON pg_catalog.pg_description.objoid = pg_catalog.pg_constraint.oid JOIN pg_catalog.pg_namespace ON pg_catalog.pg_namespace.oid = pg_catalog.pg_class.relnamespace \n",
      "WHERE pg_catalog.pg_class.relkind = ANY (ARRAY[%(param_1)s, %(param_2)s, %(param_3)s, %(param_4)s, %(param_5)s]) AND pg_catalog.pg_table_is_visible(pg_catalog.pg_class.oid) AND pg_catalog.pg_namespace.nspname != %(nspname_1)s AND pg_catalog.pg_class.relname IN (%(filter_names_1)s) ORDER BY pg_catalog.pg_class.relname, pg_catalog.pg_constraint.conname\n",
      "2023-07-17 16:16:36,727 INFO sqlalchemy.engine.Engine [generated in 0.00040s] {'pg_get_constraintdef_1': True, 'contype_1': 'c', 'param_1': 'r', 'param_2': 'p', 'param_3': 'f', 'param_4': 'v', 'param_5': 'm', 'nspname_1': 'pg_catalog', 'filter_names_1': 'some_table'}\n",
      "2023-07-17 16:16:36,728 INFO sqlalchemy.engine.Engine ROLLBACK\n"
     ]
    }
   ],
   "source": [
    "some_table = Table(\"some_table\", metadata_obj, autoload_with=engine)"
   ]
  },
  {
   "cell_type": "markdown",
   "id": "a63ebf75",
   "metadata": {},
   "source": [
    "В конце процесса объект `some_table` теперь содержит информацию об объектах `Column`, присутствующих в таблице, и может использоваться точно так же, как и таблица, которую мы объявили явно:"
   ]
  },
  {
   "cell_type": "code",
   "execution_count": 23,
   "id": "de78f63d",
   "metadata": {},
   "outputs": [
    {
     "data": {
      "text/plain": [
       "Table('some_table', MetaData(), Column('x', INTEGER(), table=<some_table>), Column('y', INTEGER(), table=<some_table>), schema=None)"
      ]
     },
     "execution_count": 23,
     "metadata": {},
     "output_type": "execute_result"
    }
   ],
   "source": [
    "some_table"
   ]
  },
  {
   "cell_type": "markdown",
   "id": "428d9431",
   "metadata": {},
   "source": [
    "Теперь у нас есть готовая база данных с двумя таблицами, а также таблично-ориентированные конструкции Core и ORM, которые мы можем использовать для взаимодействия с этими таблицами через `Connection` и/или `ORM Session`. В следующих разделах мы проиллюстрируем, как создавать, манипулировать и выбирать данные с помощью этих конструкций."
   ]
  },
  {
   "cell_type": "code",
   "execution_count": null,
   "id": "0485bd0d",
   "metadata": {},
   "outputs": [],
   "source": []
  }
 ],
 "metadata": {
  "kernelspec": {
   "display_name": "Python 3 (ipykernel)",
   "language": "python",
   "name": "python3"
  },
  "language_info": {
   "codemirror_mode": {
    "name": "ipython",
    "version": 3
   },
   "file_extension": ".py",
   "mimetype": "text/x-python",
   "name": "python",
   "nbconvert_exporter": "python",
   "pygments_lexer": "ipython3",
   "version": "3.11.4"
  }
 },
 "nbformat": 4,
 "nbformat_minor": 5
}
